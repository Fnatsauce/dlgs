{
 "cells": [
  {
   "cell_type": "markdown",
   "id": "fff7eb93-9a1d-40e0-99f6-941012f6a6c0",
   "metadata": {},
   "source": [
    "# Technical Setup\n",
    "\n",
    "I'm running python 3.7.13. The python packacges we'll be using can be found in `../requirements.txt`.\n",
    "I recommend making a virtual enviornment called `dlgs`, activating it, and then running `pip install -r requirements.txt`.\n",
    "The `requirements.txt` file, along with the rest of the repo, will be updated throughout the course."
   ]
  },
  {
   "cell_type": "code",
   "execution_count": null,
   "id": "b91bcf4c-b096-4e4d-938b-26c678783889",
   "metadata": {},
   "outputs": [],
   "source": []
  }
 ],
 "metadata": {
  "kernelspec": {
   "display_name": "dlgs",
   "language": "python",
   "name": "dlgs"
  },
  "language_info": {
   "codemirror_mode": {
    "name": "ipython",
    "version": 3
   },
   "file_extension": ".py",
   "mimetype": "text/x-python",
   "name": "python",
   "nbconvert_exporter": "python",
   "pygments_lexer": "ipython3",
   "version": "3.7.13"
  }
 },
 "nbformat": 4,
 "nbformat_minor": 5
}
