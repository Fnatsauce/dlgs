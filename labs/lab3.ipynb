{
 "cells": [
  {
   "cell_type": "markdown",
   "metadata": {},
   "source": [
    "# Lab 3\n",
    "[![Open In Colab](https://colab.research.google.com/assets/colab-badge.svg)](https://colab.research.google.com/github/syrkis/dlgs/blob/master/labs/lab3.ipynb)"
   ]
  },
  {
   "cell_type": "markdown",
   "metadata": {
    "id": "HAva8TnYFtFu"
   },
   "source": [
    "# Contents and why we need this lab\n",
    "\n",
    "This lab is about implementing neural networks yourself from scratch. \n",
    "\n",
    "All the modern frameworks for deep learning use automatic differentiation (autodiff) so you don't have to code the backward step yourself. In this version of this lab you will develop your own autodif implementation, and use this to build a simple neural network. Once you've done this lab you should have a very good understanding of what goes on below the hood in the modern framework such as [PyTorch](https://pytorch.org/), [TensorFlow](https://www.tensorflow.org/) or [JAX](https://github.com/google/jax). In particular the code we'll develop will look quite similar to the pytorch API."
   ]
  },
  {
   "cell_type": "markdown",
   "metadata": {
    "id": "sCa7HzwpFtFy"
   },
   "source": [
    "# External sources of information\n",
    "\n",
    "1. Jupyter notebook. You can find more information about Jupyter notebooks [here](https://jupyter.org/). It will come as part of the [Anaconda](https://www.anaconda.com/) Python installation. You can also use [colab](colab.to), which is a free online jupyter notebook.\n",
    "3. [Nanograd](https://github.com/rasmusbergpalm/nanograd) is a minimalistic version of autodiff developed by Rasmus Berg Palm that we use for our framework.\n"
   ]
  },
  {
   "cell_type": "markdown",
   "metadata": {
    "id": "OyXeAA-HuT7s"
   },
   "source": [
    "# Nanograd automatic differention framework"
   ]
  },
  {
   "cell_type": "markdown",
   "metadata": {
    "id": "k6UWKCLKubgA"
   },
   "source": [
    "The [Nanograd](https://github.com/rasmusbergpalm/nanograd) framework defines a class Var which both holds a value and gradient value that we can use to store the intermediate values when we apply the chain rule of differentiation."
   ]
  },
  {
   "cell_type": "code",
   "execution_count": 1,
   "metadata": {
    "id": "Jd4CoEBNzNWS"
   },
   "outputs": [],
   "source": [
    "# Copy and pasted from https://github.com/rasmusbergpalm/nanograd/blob/main/nanograd.py\n",
    "\n",
    "from typing import Union\n",
    "from math import tanh\n",
    "\n",
    "\n",
    "class Var:\n",
    "    \"\"\"\n",
    "    A variable which holds a number and enables gradient computations.\n",
    "    \"\"\"\n",
    "\n",
    "    def __init__(self, val: Union[float, int], parents=None):\n",
    "        assert type(val) in {float, int}\n",
    "        if parents is None:\n",
    "            parents = []\n",
    "        self.v = val\n",
    "        self.parents = parents\n",
    "        self.grad = 0.0\n",
    "\n",
    "    def backprop(self, bp):\n",
    "        self.grad += bp\n",
    "        for parent, grad in self.parents:\n",
    "            parent.backprop(grad * bp)\n",
    "\n",
    "    def backward(self):\n",
    "        self.backprop(1.0)\n",
    "\n",
    "    def __add__(self: 'Var', other: 'Var') -> 'Var':\n",
    "        return Var(self.v + other.v, [(self, 1.0), (other, 1.0)])\n",
    "\n",
    "    def __mul__(self: 'Var', other: 'Var') -> 'Var':\n",
    "        return Var(self.v * other.v, [(self, other.v), (other, self.v)])\n",
    "\n",
    "    def __pow__(self, power: Union[float, int]) -> 'Var':\n",
    "        assert type(power) in {float, int}, \"power must be float or int\"\n",
    "        return Var(self.v ** power, [(self, power * self.v ** (power - 1))])\n",
    "\n",
    "    def __neg__(self: 'Var') -> 'Var':\n",
    "        return Var(-1.0) * self\n",
    "\n",
    "    def __sub__(self: 'Var', other: 'Var') -> 'Var':\n",
    "        return self + (-other)\n",
    "\n",
    "    def __truediv__(self: 'Var', other: 'Var') -> 'Var':\n",
    "        return self * other ** -1\n",
    "\n",
    "    def tanh(self) -> 'Var':\n",
    "        return Var(tanh(self.v), [(self, 1 - tanh(self.v) ** 2)])\n",
    "\n",
    "    def relu(self) -> 'Var':\n",
    "        return Var(self.v if self.v > 0.0 else 0.0, [(self, 1.0 if self.v > 0.0 else 0.0)])\n",
    "\n",
    "    def __repr__(self):\n",
    "        return \"Var(v=%.4f, grad=%.4f)\" % (self.v, self.grad)"
   ]
  },
  {
   "cell_type": "markdown",
   "metadata": {
    "id": "yDX67D6jzcte"
   },
   "source": [
    "A few examples illustrate how we can use this:"
   ]
  },
  {
   "cell_type": "code",
   "execution_count": 2,
   "metadata": {
    "id": "xk6PeLc3zwPT"
   },
   "outputs": [
    {
     "name": "stdout",
     "output_type": "stream",
     "text": [
      "Var(v=3.0000, grad=5.0000)\n",
      "Var(v=5.0000, grad=3.0000)\n",
      "Var(v=15.0000, grad=1.0000)\n"
     ]
    }
   ],
   "source": [
    "a = Var(3.0)\n",
    "b = Var(5.0)\n",
    "f = a * b\n",
    "\n",
    "f.backward()\n",
    "\n",
    "for v in [a, b, f]:\n",
    "    print(v)"
   ]
  },
  {
   "cell_type": "code",
   "execution_count": 3,
   "metadata": {
    "id": "JmKhYgsY0g_o"
   },
   "outputs": [
    {
     "name": "stdout",
     "output_type": "stream",
     "text": [
      "Var(v=3.0000, grad=14.0000)\n",
      "Var(v=5.0000, grad=3.0000)\n",
      "Var(v=15.0000, grad=1.0000)\n",
      "Var(v=9.0000, grad=3.0000)\n",
      "Var(v=27.0000, grad=1.0000)\n",
      "Var(v=42.0000, grad=1.0000)\n"
     ]
    }
   ],
   "source": [
    "a = Var(3.0)\n",
    "b = Var(5.0)\n",
    "c = a * b\n",
    "d = Var(9.0)\n",
    "e = a * d\n",
    "f = c + e\n",
    "\n",
    "f.backward()\n",
    "\n",
    "for v in [a, b, c, d, e, f]:\n",
    "    print(v)"
   ]
  },
  {
   "cell_type": "markdown",
   "metadata": {
    "id": "Fe3B6uEH140p"
   },
   "source": [
    "## Exercise a) What is being calculated?\n",
    "\n",
    "Explain briefly the output of the code? What is the expression we differentiate and with respect to what variables?"
   ]
  },
  {
   "cell_type": "markdown",
   "metadata": {},
   "source": [
    "Answer:\n",
    "\n",
    "The first output \"v\" is the calculated value of the variable in question. a is defined as 3 therefore the ouput is v=3.0000 for a.\n",
    "\n",
    "The second output \"grad\" is the calculated gradiant (derivative) of the variable as it relates to f (because we called \"backwards\" on f). The derivative of a variable like \"a\" is 1, therefore the calculated gradient of a with respects to f is 14.\n",
    "\n",
    "This is because f = c + e\n",
    "\n",
    "where\n",
    "\n",
    "c = 1(derivative of variable) * 5(value of b) => 5\n",
    "\n",
    "and\n",
    "\n",
    "e = 1(derivative of vaiable) * 9(value of d) => 9  \n",
    "\n",
    "so a's gradient with respect to f would be 5 + 9 = 14"
   ]
  },
  {
   "cell_type": "markdown",
   "metadata": {
    "id": "q8_Q0t2I3Ruj"
   },
   "source": [
    "## Exercise b) How does the backward function work?\n",
    "\n",
    "For the first example above, execute the backward function by hand to convince yourself that it indeed calculates the gradients with respect to the variables. Write down the sequence of calls to backprop for the first example above. "
   ]
  },
  {
   "cell_type": "markdown",
   "metadata": {},
   "source": [
    "Answer:\n",
    "\n",
    "1st call to backprop: f.grad is set to 1.0 (Because it is the root node and the gradient of a function with respect to itself is 1). In the forloop:\n",
    "\n",
    "2nd call to backdrop on the first parent \"a\" is called with the value of \"b\" times the grad of f (1.0) resulting in a's gradient = 5.0.\n",
    "\n",
    "3rd call to backdrop on the second parent \"b\" is called with the valeu of \"a\" times the grad of f (1.0) resulting in b's gradient = 3.0"
   ]
  },
  {
   "cell_type": "markdown",
   "metadata": {
    "id": "A5oi21W4gpeM"
   },
   "source": [
    "## Exercise c) What happens if we run backward again?\n",
    "\n",
    "Try to execute the code below. Explain what happens."
   ]
  },
  {
   "cell_type": "code",
   "execution_count": 4,
   "metadata": {
    "id": "DCtpJyr-gyX1"
   },
   "outputs": [
    {
     "name": "stdout",
     "output_type": "stream",
     "text": [
      "Var(v=3.0000, grad=28.0000)\n",
      "Var(v=5.0000, grad=6.0000)\n",
      "Var(v=15.0000, grad=2.0000)\n",
      "Var(v=9.0000, grad=6.0000)\n",
      "Var(v=27.0000, grad=2.0000)\n",
      "Var(v=42.0000, grad=2.0000)\n"
     ]
    }
   ],
   "source": [
    "f.backward()\n",
    "\n",
    "for v in [a, b, c, d, e, f]:\n",
    "    print(v)"
   ]
  },
  {
   "cell_type": "markdown",
   "metadata": {},
   "source": [
    "What happens is the gradients are doubled because the value of each variable is not multiplied by the correct gradient of 1.0 but instead 2.0 because of the code:\n",
    "\n",
    "self.grad += bp\n",
    "\n",
    "Normally self.grad is 0.0, but because f.backward() has already run a new value is not assigned but added to the previous value."
   ]
  },
  {
   "cell_type": "markdown",
   "metadata": {
    "id": "U4057_ljNvWB"
   },
   "source": [
    "## Exercise d) Test correctness of derivatives with the finite difference method\n",
    "\n",
    "Write a small function that uses [the finite difference method](https://en.wikipedia.org/wiki/Finite_difference_method) to numerically compute the gradient:\n",
    "$$\n",
    "\\frac{\\partial f(x)}{\\partial x} \\approx \\frac{f(x+dx)-f(x)}{dx}\n",
    "$$\n",
    "for a very small $dx$."
   ]
  },
  {
   "cell_type": "code",
   "execution_count": 5,
   "metadata": {
    "id": "9TGil92lSXDN"
   },
   "outputs": [],
   "source": [
    "def finite_difference(fn, x_val, dx=1e-10):\n",
    "    \"\"\"    \n",
    "    Computes the finite difference numerical approximation to the derivative of fn(x) with respect to x at x_val: (fn(x_val + dx) - fn(x_val))/dx    \n",
    "    \"\"\"\n",
    "    return (fn(x_val + dx) - fn(x_val))/dx"
   ]
  },
  {
   "cell_type": "markdown",
   "metadata": {
    "id": "NMLSIiNjUm9o"
   },
   "source": [
    "Use your finite difference function to compute the gradient of $f$ with respect to $a$ and $b$ in the following function: $f(x) = a \\cdot b + b$, at a=3 and b=5."
   ]
  },
  {
   "cell_type": "code",
   "execution_count": 6,
   "metadata": {
    "id": "olAuqor6VM1D"
   },
   "outputs": [
    {
     "name": "stdout",
     "output_type": "stream",
     "text": [
      "5.000018177270249\n",
      "4.000000330961484\n"
     ]
    }
   ],
   "source": [
    "# test function - try to change into other functions as well\n",
    "def f(a, b):\n",
    "    return a * b + b\n",
    "\n",
    "\n",
    "def fn_a(a):\n",
    "  return f(a, 5)\n",
    "\n",
    "\n",
    "def fn_b(b):\n",
    "  return f(3, b)\n",
    "\n",
    "\n",
    "print(finite_difference(fn_a, 3))\n",
    "print(finite_difference(fn_b, 5))"
   ]
  },
  {
   "cell_type": "markdown",
   "metadata": {
    "id": "GytWiDwhWEUl"
   },
   "source": [
    "Write the same function using Nanograd `Var`s and verify that Nanograd computes the same gradients"
   ]
  },
  {
   "cell_type": "code",
   "execution_count": 7,
   "metadata": {
    "id": "BEI_zNYpZQmZ"
   },
   "outputs": [
    {
     "name": "stdout",
     "output_type": "stream",
     "text": [
      "Var(v=3.0000, grad=5.0000)\n",
      "Var(v=5.0000, grad=4.0000)\n",
      "Var(v=20.0000, grad=1.0000)\n"
     ]
    }
   ],
   "source": [
    "a = Var(3.0)\n",
    "b = Var(5.0)\n",
    "f = a * b + b\n",
    "\n",
    "f.backward()\n",
    "\n",
    "for v in [a, b, f]:\n",
    "    print(v)"
   ]
  },
  {
   "cell_type": "markdown",
   "metadata": {
    "id": "6pZar5RKaUkg"
   },
   "source": [
    "# Create an artificial dataset to play with\n",
    "\n",
    "We create a non-linear 1d regression task. The generator supports various noise levels. You can modify it yourself if you want more or less challenging tasks."
   ]
  },
  {
   "cell_type": "code",
   "execution_count": 8,
   "metadata": {
    "id": "zac2HHNlgbpm"
   },
   "outputs": [
    {
     "data": {
      "image/png": "[encoded data removed]",
      "text/plain": [
       "<Figure size 640x480 with 1 Axes>"
      ]
     },
     "metadata": {},
     "output_type": "display_data"
    }
   ],
   "source": [
    "from math import sin\n",
    "import random\n",
    "import tqdm as tqdm\n",
    "import matplotlib.pyplot as plt\n",
    "\n",
    "def sample_data(noise=0.3):\n",
    "    x = (random.random() - 0.5) * 10\n",
    "    return x, sin(x) + x + random.gauss(0, noise)\n",
    "\n",
    "train_data = [sample_data() for _ in range(100)]\n",
    "val_data = [sample_data() for _ in range(100)]\n",
    "\n",
    "for x, y in train_data:  \n",
    "     plt.plot(x, y, 'b.')\n",
    "\n",
    "plt.show()"
   ]
  },
  {
   "cell_type": "markdown",
   "metadata": {
    "id": "VbjrqcpVFtGe"
   },
   "source": [
    "# Building the neural network.\n",
    "\n",
    "We'll create a feedforward neural network consisting of a series of dense layers. See the image below. Each dense layer is just a number of artificial neurons. In the image below each column of circles (neurons) is a dense layer. It's dense because the weight matrix is dense; there's a connection between every input and every output neuron in the layer.\n",
    "\n",
    "The inputs to create a dense layer is following:\n",
    "\n",
    "1. **The input size and output size**. We have to define the number of inputs and outputs. The inputs are the number of inputs to the layer, and the output size is the number of artificial neurons the layer has.\n",
    "2. **Activation functions**. Each dense layer must have an activation function (it can also be the linear activation which is equivalent to identity function). The power of neural networks comes from non-linear activation functions.\n",
    "3. **Parameter initialization**. We will initialize the weights to have random values. This is done in practice by drawing pseudo random numbers from a Gaussian or uniform distribution. It turns out that for deeper models we have to be careful about how we scale the random numbers. This will be the topic of a later exercice. For now we will just use simple Gaussians. See the `Initializer` class below.\n",
    "\n",
    "Note that we use Sequence in the code below. A Sequence is an ordered list. This means the order we insert and access items are the same."
   ]
  },
  {
   "cell_type": "markdown",
   "metadata": {
    "id": "bThNIs0A5Ptm"
   },
   "source": [
    "![f2.jpeg](data:image/jpeg;base64,/9j/4AAQSkZJRgABAQEAYABgAAD/4RDaRXhpZgAATU0AKgAAAAgABAE7AAIAAAAFAAAISodpAAQAAAABAAAIUJydAAEAAAAKAAAQyOocAAcAAAgMAAAAPgAAAAAc6gAAAAgAAAAAAAAAAAAAAAAAAAAAAAAAAAAAAAAAAAAAAAAAAAAAAAAAAAAAAAAAAAAAAAAAAAAAAAAAAAAAAAAAAAAAAAAAAAAAAAAAAAAAAAAAAAAAAAAAAAAAAAAAAAAAAAAAAAAAAAAAAAAAAAAAAAAAAAAAAAAAAAAAAAAAAAAAAAAAAAAAAAAAAAAAAAAAAAAAAAAAAAAAAAAAAAAAAAAAAAAAAAAAAAAAAAAAAAAAAAAAAAAAAAAAAAAAAAAAAAAAAAAAAAAAAAAAAAAAAAAAAAAAAAAAAAAAAAAAAAAAAAAAAAAAAAAAAAAAAAAAAAAAAAAAAAAAAAAAAAAAAAAAAAAAAAAAAAAAAAAAAAAAAAAAAAAAAAAAAAAAAAAAAAAAAAAAAAAAAAAAAAAAAAAAAAAAAAAAAAAAAAAAAAAAAAAAAAAAAAAAAAAAAAAAAAAAAAAAAAAAAAAAAAAAAAAAAAAAAAAAAAAAAAAAAAAAAAAAAAAAAAAAAAAAAAAAAAAAAAAAAAAAAAAAAAAAAAAAAAAAAAAAAAAAAAAAAAAAAAAAAAAAAAAAAAAAAAAAAAAAAAAAAAAAAAAAAAAAAAAAAAAAAAAAAAAAAAAAAAAAAAAAAAAAAAAAAAAAAAAAAAAAAAAAAAAAAAAAAAAAAAAAAAAAAAAAAAAAAAAAAAAAAAAAAAAAAAAAAAAAAAAAAAAAAAAAAAAAAAAAAAAAAAAAAAAAAAAAAAAAAAAAAAAAAAAAAAAAAAAAAAAAAAAAAAAAAAAAAAAAAAAAAAAAAAAAAAAAAAAAAAAAAAAAAAAAAAAAAAAAAAAAAAAAAAAAAAAAAAAAAAAAAAAAAAAAAAAAAAAAAAAAAAAAAAAAAAAAAAAAAAAAAAAAAAAAAAAAAAAAAAAAAAAAAAAAAAAAAAAAAAAAAAAAAAAAAAAAAAAAAAAAAAAAAAAAAAAAAAAAAAAAAAAAAAAAAAAAAAAAAAAAAAAAAAAAAAAAAAAAAAAAAAAAAAAAAAAAAAAAAAAAAAAAAAAAAAAAAAAAAAAAAAAAAAAAAAAAAAAAAAAAAAAAAAAAAAAAAAAAAAAAAAAAAAAAAAAAAAAAAAAAAAAAAAAAAAAAAAAAAAAAAAAAAAAAAAAAAAAAAAAAAAAAAAAAAAAAAAAAAAAAAAAAAAAAAAAAAAAAAAAAAAAAAAAAAAAAAAAAAAAAAAAAAAAAAAAAAAAAAAAAAAAAAAAAAAAAAAAAAAAAAAAAAAAAAAAAAAAAAAAAAAAAAAAAAAAAAAAAAAAAAAAAAAAAAAAAAAAAAAAAAAAAAAAAAAAAAAAAAAAAAAAAAAAAAAAAAAAAAAAAAAAAAAAAAAAAAAAAAAAAAAAAAAAAAAAAAAAAAAAAAAAAAAAAAAAAAAAAAAAAAAAAAAAAAAAAAAAAAAAAAAAAAAAAAAAAAAAAAAAAAAAAAAAAAAAAAAAAAAAAAAAAAAAAAAAAAAAAAAAAAAAAAAAAAAAAAAAAAAAAAAAAAAAAAAAAAAAAAAAAAAAAAAAAAAAAAAAAAAAAAAAAAAAAAAAAAAAAAAAAAAAAAAAAAAAAAAAAAAAAAAAAAAAAAAAAAAAAAAAAAAAAAAAAAAAAAAAAAAAAAAAAAAAAAAAAAAAAAAAAAAAAAAAAAAAAAAAAAAAAAAAAAAAAAAAAAAAAAAAAAAAAAAAAAAAAAAAAAAAAAAAAAAAAAAAAAAAAAAAAAAAAAAAAAAAAAAAAAAAAAAAAAAAAAAAAAAAAAAAAAAAAAAAAAAAAAAAAAAAAAAAAAAAAAAAAAAAAAAAAAAAAAAAAAAAAAAAAAAAAAAAAAAAAAAAAAAAAAAAAAAAAAAAAAAAAAAAAAAAAAAAAAAAAAAAAAAAAAAAAAAAAAAAAAAAAAAAAAAAAAAAAAAAAAAAAAAAAAAAAAAAAAAAAAAAAAAAAAAAAAAAAAAAAAAAAAAAAAAAAAAAAAAAAAAAAAAAAAAAAAAAAAAAAAAAAAAAAAAAAAAAAAAAAAAAAAAAAAAAAAAAAAAAAAAAAAAAAAAAAAAAAAAAAAAAAAAAAAAAAAAAAAAAAAAAAAAAAAAAAAAAAAAAAAAAAAAAAAAAAAAAAAAAAAAAAAAAAAAAAAAAAAAAAAAAAAAAAAAAAAAAAAAAAAAAAAAAAAAAAAAAAAAAAAAAAAAAAAAAAAAAAAAAAAAAAAAAAAAAAAAAAAAAAAAAAAAAAAAAAAAAAAAAAAAAAAAAAAAAAAAAAAAAAAAAAAAAAAAAAAAAAAAAAAAAAAAAAAAAAAAAAAAAAAAAAAAAAAAAAAAAAAAAAAAAAAAAAAAAAAAAAAAAAAAAAAAAAAAAAAAAAAAAAAAAAAAAAAAAAAAAAAAAAAAAAAAAAAAAAAAAAAAAAAAAAAAAAAAAAAAAAAAAAAAAAAAAAAAAAAAAAAAAAAAAAAAAAAAAAAAAAAAAAAAAAAAAAAAAAAAAAAAAAAAAAAAAAAAAAAAAAAAAAAAAAAAAAAAAAAAAAAAAAAAAAAAAAAAAAAAAAAAAAAAAAAAAAAAAAAAAAAAAAAAAAAAAAAAAAAAAAAAAAAAAAAAAAAAAAAAAAAAAAAAAAAAAAAAAAAAAAAAAAAAAAAAAAAAAAAAAAAAAAAAAAAAAAAAAAAAAAAAAAAAAAAAAAAAAAAAAAAAAAAAAAAAAAAAAAAAAAAAAAAAAAAAAAAAAAAAAAAAAAAAAAAAAAAAAAAAAAAAAAAAAAAAAAAERUUDMAAAAFkAMAAgAAABQAABCekAQAAgAAABQAABCykpEAAgAAAAMxMQAAkpIAAgAAAAMxMQAA6hwABwAACAwAAAiSAAAAABzqAAAACAAAAAAAAAAAAAAAAAAAAAAAAAAAAAAAAAAAAAAAAAAAAAAAAAAAAAAAAAAAAAAAAAAAAAAAAAAAAAAAAAAAAAAAAAAAAAAAAAAAAAAAAAAAAAAAAAAAAAAAAAAAAAAAAAAAAAAAAAAAAAAAAAAAAAAAAAAAAAAAAAAAAAAAAAAAAAAAAAAAAAAAAAAAAAAAAAAAAAAAAAAAAAAAAAAAAAAAAAAAAAAAAAAAAAAAAAAAAAAAAAAAAAAAAAAAAAAAAAAAAAAAAAAAAAAAAAAAAAAAAAAAAAAAAAAAAAAAAAAAAAAAAAAAAAAAAAAAAAAAAAAAAAAAAAAAAAAAAAAAAAAAAAAAAAAAAAAAAAAAAAAAAAAAAAAAAAAAAAAAAAAAAAAAAAAAAAAAAAAAAAAAAAAAAAAAAAAAAAAAAAAAAAAAAAAAAAAAAAAAAAAAAAAAAAAAAAAAAAAAAAAAAAAAAAAAAAAAAAAAAAAAAAAAAAAAAAAAAAAAAAAAAAAAAAAAAAAAAAAAAAAAAAAAAAAAAAAAAAAAAAAAAAAAAAAAAAAAAAAAAAAAAAAAAAAAAAAAAAAAAAAAAAAAAAAAAAAAAAAAAAAAAAAAAAAAAAAAAAAAAAAAAAAAAAAAAAAAAAAAAAAAAAAAAAAAAAAAAAAAAAAAAAAAAAAAAAAAAAAAAAAAAAAAAAAAAAAAAAAAAAAAAAAAAAAAAAAAAAAAAAAAAAAAAAAAAAAAAAAAAAAAAAAAAAAAAAAAAAAAAAAAAAAAAAAAAAAAAAAAAAAAAAAAAAAAAAAAAAAAAAAAAAAAAAAAAAAAAAAAAAAAAAAAAAAAAAAAAAAAAAAAAAAAAAAAAAAAAAAAAAAAAAAAAAAAAAAAAAAAAAAAAAAAAAAAAAAAAAAAAAAAAAAAAAAAAAAAAAAAAAAAAAAAAAAAAAAAAAAAAAAAAAAAAAAAAAAAAAAAAAAAAAAAAAAAAAAAAAAAAAAAAAAAAAAAAAAAAAAAAAAAAAAAAAAAAAAAAAAAAAAAAAAAAAAAAAAAAAAAAAAAAAAAAAAAAAAAAAAAAAAAAAAAAAAAAAAAAAAAAAAAAAAAAAAAAAAAAAAAAAAAAAAAAAAAAAAAAAAAAAAAAAAAAAAAAAAAAAAAAAAAAAAAAAAAAAAAAAAAAAAAAAAAAAAAAAAAAAAAAAAAAAAAAAAAAAAAAAAAAAAAAAAAAAAAAAAAAAAAAAAAAAAAAAAAAAAAAAAAAAAAAAAAAAAAAAAAAAAAAAAAAAAAAAAAAAAAAAAAAAAAAAAAAAAAAAAAAAAAAAAAAAAAAAAAAAAAAAAAAAAAAAAAAAAAAAAAAAAAAAAAAAAAAAAAAAAAAAAAAAAAAAAAAAAAAAAAAAAAAAAAAAAAAAAAAAAAAAAAAAAAAAAAAAAAAAAAAAAAAAAAAAAAAAAAAAAAAAAAAAAAAAAAAAAAAAAAAAAAAAAAAAAAAAAAAAAAAAAAAAAAAAAAAAAAAAAAAAAAAAAAAAAAAAAAAAAAAAAAAAAAAAAAAAAAAAAAAAAAAAAAAAAAAAAAAAAAAAAAAAAAAAAAAAAAAAAAAAAAAAAAAAAAAAAAAAAAAAAAAAAAAAAAAAAAAAAAAAAAAAAAAAAAAAAAAAAAAAAAAAAAAAAAAAAAAAAAAAAAAAAAAAAAAAAAAAAAAAAAAAAAAAAAAAAAAAAAAAAAAAAAAAAAAAAAAAAAAAAAAAAAAAAAAAAAAAAAAAAAAAAAAAAAAAAAAAAAAAAAAAAAAAAAAAAAAAAAAAAAAAAAAAAAAAAAAAAAAAAAAAAAAAAAAAAAAAAAAAAAAAAAAAAAAAAAAAAAAAAAAAAAAAAAAAAAAAAAAAAAAAAAAAAAAAAAAAAAAAAAAAAAAAAAAAAAAAAAAAAAAAAAAAAAAAAAAAAAAAAAAAAAAAAAAAAAAAAAAAAAAAAAAAAAAAAAAAAAAAAAAAAAAAAAAAAAAAAAAAAAAAAAAAAAAAAAAAAAAAAAAAAAAAAAAAAAAAAAAAAAAAAAAAAAAAAAAAAAAAAAAAAAAAAAAAAAAAAAAAAAAAAAAAAAAAAAAAAAAAAAAAAAAAAAAAAAAAAAAAAAAAAAAAAAAAAAAAAAAAAAAAAAAAAAAAAAAAAAAAAAAAAAAAAAAAAAAAAAAAAAAAAAAAAAAAAAAAAAAAAAAAAAAAAAAAAAAAAAAAAAAAAAAAAAAAAAAAAAAAAAAAAAAAAAAAAAAAAAAAAAAAAAAAAAAAAAAAAAAAAAAAAAAAAAAAAAAAAAAAAAAAAAAAAAAAAAAAAAAAAAAAAAAAAAAAAAAAAAAAAAAAAAAAAAAAAAAAAAAAAAAAAAAAAAAAAAAAAAAAAAAAAAAAAAAAAAAAAAAAAAAAAAAAAAAAAAAAAAAAAAAAAAAAAAAAAAAAAAAAAAAAAAAAAAAAAAAAAAAAAAAAAAAAAAAAAAAAAAAAAAAAAAAAAAAAAAAAAAAAAAAAAAAAAAAAAAAAAAAAAAAAAAAAAAAAAAAAAAAAAAAAAAAAAAAAAAAAAAAAAAAAAAAAAAAAAAAAAAAAAAAAAAAAAAAAAAAAAAAAAAAAAAAAAAAAAAAAAAAAAAAAAAAAAAAAAAAAAAAAAAAAAAAAAAAAAAAAAAAAAAAAAAAAAAAAAAAAAAAAAAAAAAAAAAAAAAAAAAAAAAAAAAAAAAAAAAAAAAAAAAAAAAAAAAAAAAAAAAAAAAAAAAAAAAAAAAAAAAAAAAMjAxMjowODoyNCAxNDozODo0MAAyMDEyOjA4OjI0IDE0OjM4OjQwAAAARABUAFAAMwAAAP/hCxdodHRwOi8vbnMuYWRvYmUuY29tL3hhcC8xLjAvADw/eHBhY2tldCBiZWdpbj0n77u/JyBpZD0nVzVNME1wQ2VoaUh6cmVTek5UY3prYzlkJz8+DQo8eDp4bXBtZXRhIHhtbG5zOng9ImFkb2JlOm5zOm1ldGEvIj48cmRmOlJERiB4bWxuczpyZGY9Imh0dHA6Ly93d3cudzMub3JnLzE5OTkvMDIvMjItcmRmLXN5bnRheC1ucyMiPjxyZGY6RGVzY3JpcHRpb24gcmRmOmFib3V0PSJ1dWlkOmZhZjViZGQ1LWJhM2QtMTFkYS1hZDMxLWQzM2Q3NTE4MmYxYiIgeG1sbnM6ZGM9Imh0dHA6Ly9wdXJsLm9yZy9kYy9lbGVtZW50cy8xLjEvIi8+PHJkZjpEZXNjcmlwdGlvbiByZGY6YWJvdXQ9InV1aWQ6ZmFmNWJkZDUtYmEzZC0xMWRhLWFkMzEtZDMzZDc1MTgyZjFiIiB4bWxuczp4bXA9Imh0dHA6Ly9ucy5hZG9iZS5jb20veGFwLzEuMC8iPjx4bXA6Q3JlYXRlRGF0ZT4yMDEyLTA4LTI0VDE0OjM4OjQwLjExNDwveG1wOkNyZWF0ZURhdGU+PC9yZGY6RGVzY3JpcHRpb24+PHJkZjpEZXNjcmlwdGlvbiByZGY6YWJvdXQ9InV1aWQ6ZmFmNWJkZDUtYmEzZC0xMWRhLWFkMzEtZDMzZDc1MTgyZjFiIiB4bWxuczpkYz0iaHR0cDovL3B1cmwub3JnL2RjL2VsZW1lbnRzLzEuMS8iPjxkYzpjcmVhdG9yPjxyZGY6U2VxIHhtbG5zOnJkZj0iaHR0cDovL3d3dy53My5vcmcvMTk5OS8wMi8yMi1yZGYtc3ludGF4LW5zIyI+PHJkZjpsaT5EVFAzPC9yZGY6bGk+PC9yZGY6U2VxPg0KCQkJPC9kYzpjcmVhdG9yPjwvcmRmOkRlc2NyaXB0aW9uPjwvcmRmOlJERj48L3g6eG1wbWV0YT4NCiAgICAgICAgICAgICAgICAgICAgICAgICAgICAgICAgICAgICAgICAgICAgICAgICAgICAgICAgICAgICAgICAgICAgICAgICAgICAgICAgICAgICAgICAgICAgICAgICAgICAKICAgICAgICAgICAgICAgICAgICAgICAgICAgICAgICAgICAgICAgICAgICAgICAgICAgICAgICAgICAgICAgICAgICAgICAgICAgICAgICAgICAgICAgICAgICAgICAgICAgIAogICAgICAgICAgICAgICAgICAgICAgICAgICAgICAgICAgICAgICAgICAgICAgICAgICAgICAgICAgICAgICAgICAgICAgICAgICAgICAgICAgICAgICAgICAgICAgICAgICAgCiAgICAgICAgICAgICAgICAgICAgICAgICAgICAgICAgICAgICAgICAgICAgICAgICAgICAgICAgICAgICAgICAgICAgICAgICAgICAgICAgICAgICAgICAgICAgICAgICAgICAKICAgICAgICAgICAgICAgICAgICAgICAgICAgICAgICAgICAgICAgICAgICAgICAgICAgICAgICAgICAgICAgICAgICAgICAgICAgICAgICAgICAgICAgICAgICAgICAgICAgIAogICAgICAgICAgICAgICAgICAgICAgICAgICAgICAgICAgICAgICAgICAgICAgICAgICAgICAgICAgICAgICAgICAgICAgICAgICAgICAgICAgICAgICAgICAgICAgICAgICAgCiAgICAgICAgICAgICAgICAgICAgICAgICAgICAgICAgICAgICAgICAgICAgICAgICAgICAgICAgICAgICAgICAgICAgICAgICAgICAgICAgICAgICAgICAgICAgICAgICAgICAKICAgICAgICAgICAgICAgICAgICAgICAgICAgICAgICAgICAgICAgICAgICAgICAgICAgICAgICAgICAgICAgICAgICAgICAgICAgICAgICAgICAgICAgICAgICAgICAgICAgIAogICAgICAgICAgICAgICAgICAgICAgICAgICAgICAgICAgICAgICAgICAgICAgICAgICAgICAgICAgICAgICAgICAgICAgICAgICAgICAgICAgICAgICAgICAgICAgICAgICAgCiAgICAgICAgICAgICAgICAgICAgICAgICAgICAgICAgICAgICAgICAgICAgICAgICAgICAgICAgICAgICAgICAgICAgICAgICAgICAgICAgICAgICAgICAgICAgICAgICAgICAKICAgICAgICAgICAgICAgICAgICAgICAgICAgICAgICAgICAgICAgICAgICAgICAgICAgICAgICAgICAgICAgICAgICAgICAgICAgICAgICAgICAgICAgICAgICAgICAgICAgIAogICAgICAgICAgICAgICAgICAgICAgICAgICAgICAgICAgICAgICAgICAgICAgICAgICAgICAgICAgICAgICAgICAgICAgICAgICAgICAgICAgICAgICAgICAgICAgICAgICAgCiAgICAgICAgICAgICAgICAgICAgICAgICAgICAgICAgICAgICAgICAgICAgICAgICAgICAgICAgICAgICAgICAgICAgICAgICAgICAgICAgICAgICAgICAgICAgICAgICAgICAKICAgICAgICAgICAgICAgICAgICAgICAgICAgICAgICAgICAgICAgICAgICAgICAgICAgICAgICAgICAgICAgICAgICAgICAgICAgICAgICAgICAgICAgICAgICAgICAgICAgIAogICAgICAgICAgICAgICAgICAgICAgICAgICAgICAgICAgICAgICAgICAgICAgICAgICAgICAgICAgICAgICAgICAgICAgICAgICAgICAgICAgICAgICAgICAgICAgICAgICAgCiAgICAgICAgICAgICAgICAgICAgICAgICAgICAgICAgICAgICAgICAgICAgICAgICAgICAgICAgICAgICAgICAgICAgICAgICAgICAgICAgICAgICAgICAgICAgICAgICAgICAKICAgICAgICAgICAgICAgICAgICAgICAgICAgICAgICAgICAgICAgICAgICAgICAgICAgICAgICAgICAgICAgICAgICAgICAgICAgICAgICAgICAgICAgICAgICAgICAgICAgIAogICAgICAgICAgICAgICAgICAgICAgICAgICAgICAgICAgICAgICAgICAgICAgICAgICAgICAgICAgICAgICAgICAgICAgICAgICAgICAgICAgICAgICAgICAgICAgICAgICAgCiAgICAgICAgICAgICAgICAgICAgICAgICAgICAgICAgICAgICAgICAgICAgICAgICAgICAgICAgICAgICAgICAgICAgICAgICAgICAgICAgICAgICAgICAgICAgICAgICAgICAKICAgICAgICAgICAgICAgICAgICAgICAgICAgICAgICAgICAgICAgICAgICAgICAgICAgICAgICAgICAgICAgICAgICAgICAgICAgICAgICAgICAgICAgICAgICAgICAgICAgIAogICAgICAgICAgICAgICAgICAgICAgICAgICAgPD94cGFja2V0IGVuZD0ndyc/Pv/bAEMABwUFBgUEBwYFBggHBwgKEQsKCQkKFQ8QDBEYFRoZGBUYFxseJyEbHSUdFxgiLiIlKCkrLCsaIC8zLyoyJyorKv/bAEMBBwgICgkKFAsLFCocGBwqKioqKioqKioqKioqKioqKioqKioqKioqKioqKioqKioqKioqKioqKioqKioqKioqKv/AABEIAmgEnwMBIgACEQEDEQH/xAAfAAABBQEBAQEBAQAAAAAAAAAAAQIDBAUGBwgJCgv/xAC1EAACAQMDAgQDBQUEBAAAAX0BAgMABBEFEiExQQYTUWEHInEUMoGRoQgjQrHBFVLR8CQzYnKCCQoWFxgZGiUmJygpKjQ1Njc4OTpDREVGR0hJSlNUVVZXWFlaY2RlZmdoaWpzdHV2d3h5eoOEhYaHiImKkpOUlZaXmJmaoqOkpaanqKmqsrO0tba3uLm6wsPExcbHyMnK0tPU1dbX2Nna4eLj5OXm5+jp6vHy8/T19vf4+fr/xAAfAQADAQEBAQEBAQEBAAAAAAAAAQIDBAUGBwgJCgv/xAC1EQACAQIEBAMEBwUEBAABAncAAQIDEQQFITEGEkFRB2FxEyIygQgUQpGhscEJIzNS8BVictEKFiQ04SXxFxgZGiYnKCkqNTY3ODk6Q0RFRkdISUpTVFVWV1hZWmNkZWZnaGlqc3R1dnd4eXqCg4SFhoeIiYqSk5SVlpeYmZqio6Slpqeoqaqys7S1tre4ubrCw8TFxsfIycrS09TV1tfY2dri4+Tl5ufo6ery8/T19vf4+fr/2gAMAwEAAhEDEQA/APpGiiigAooooAKKKKACiiigAooooAKKKKACiiigAooooAKKKKACiiigAooooAKKKKACiiigAooooAKKKKACiiigAooooAKKKKACiiigAooooAKKKKACiiigAooooAKKKKACiiigAooooAKKKKACiiigAooooAKKKKACiiigAooooAKKKKACiiigAooooAKKKKACiiigAooooAKKKKACiiigAooooAKKKKACiiigAooooAKKKKACiiigAooooAKKKKACiiigAooooAKKKKACiiigAooooAKKKKACiiigAooooAKKKKACiiigAooooAKKKKACiiigAooooAKKKKACiiigAooooAKKKKACiiigAooooAKKKKACiiigAooooAKKKKACiiigAooooAKKKKACiiigAooooAKKKKACiiigAooooAKKKKACiiigAopsis0bKjbWI4PpXiGoeKfF8fxlh8JQayBbyjfv2dB6UAe40VHbpJHbok0nmSAYZ/U1JQAUUUUAFFFFABRRVe/voNOspLq6kCRoMkk4oAsUVBY3aX9lFdQ52SruXPpU9ABRRRQAUUUUAFFFFABRRRQAUUUUAFFFFABRRRQAUUUUAFFFFABRRRQAUUUUAFFFFABRRRQAUUUUAFFFFABRRRQAUUUUAFFFFABRRRQAUUVxnxO1DVtD8GX+r6Re+RJbJvClc5oA7OivL/gxr3iDxf4ZTW9a1ISqzFfJC46Vp/FbUNc0Dwlea3o2pfZzbKD5RXO6gDvaMgnAPIrhfhZqWs+IPBdtq+sX/nyXKnChcbTVnwl4e8QaT4j1e71vVTe2ty2beP8A55igDsaCQBkkAeporxX44a94i8PajpI03UzHZ31wqPCB7+tAHtVFQWTFtPt2Y5JiUn8hXL/EyXV7TwVe3uhah9int4y27bnPFAHXgg9DmivO/ghrOoa58N7e81acz3BkYM57816JQAUUUUAFFFFABRRRQAUUUUAFFFFABRRRQAUUUUAFFFFABRRRQAUUUUAFFFFABRRRQAUUUUAFFFFABRRRQAUUUUAFFFFABRRRQAUUUUAFFFcn4+8eWfgjS0lkUT3k7bILcHlzQB1lFcFoum+MdVsRqF7rRsjcrvS2EefKB6Vk6n4s1z4a6nanxZdf2lpF5II/tm3BhP0oA9ToqG0uob60iubVxJDKodGHcGpqACiis2DXbO48QT6RE4a4gjEjgHOAaANKiiigAooooAKKKoWms2l7qdxZWziSS3GXK8ge1AF+iiigAooooAKKKKACiiigAooooAKKKKACiiigAooooAKKKKACiiigAooooAKKKKACiiigAooooAKKKKACiiigAooooAK8C1D/AJOos/8Arka99rwLUP8Ak6mzHfyjQB3nxe8Saz4W8NxahozhAJQkjEZ61jand+PtV8FprOlXq2LwQGUpjPnADNXvjz/yTc+n2qP+ddBZZ/4VT/3Dm/8AQTQBieEvG+qeI/hVLqqRqdSt4mEnPVhnn9K5HwP4v8e+OtE1BLGZY5IpSouyPuH+7im/Ax3b4X+JdzEhXlA9uGrT/Zz/AORa1bHT7Yf60AQfD/4keIrbx1ceDfHoxeEEwXGMbvStMeJvEWlfHC38N3mofarC6hMqrtxt9qoeNNOTUfj7oJ06MPcwwlpyvYA96NeYD9p3SCxCj7HjJ4oA1fi34i1/wlPpeoaVqG23uLpYZLYr1BrJ+PFvrE/hCwvrTVmtrdpYw9uo+8T3zUv7QdxD/ZehxeYu/wDtBDjPTmrXxsdT8L9PYMpX7RDznjpQB1Xw/wBL1ax0G0fUtXN7G8IKJtxtrr6x/C0iHwxpyh1LGBTgGtigAooooAKKKKACiiigAooooAKKKKACiiigAooooAKKKKACiiigAooooAKKKKACiiigAooooAKKKKACiiigAooooAKKKKACiiigAooooAK4j4w8/CrWf+uNdvXEfGH/AJJTrX/XGgDzv4D+ONF0P4cxWd886zLIxOyIsPzrX+LfxA0LVPhnqdpayXBlkUBQ0JAzn1qb9nO2gl+FcLSQRMfNb5mQEmtv402tvH8J9XZLeJSEHIQcc0AN+ELzR/BrT3thmURMVHvVL4UeK9e8QeI/EVrr04dLOQCFAPuDNaPwa/5JBpv/AFyaub+EAJ8ZeMcdfMxQB0eqeJ9T1/xo/hrwzcfZvsnN1dgZ2+1eXfG/TNb07V/D7arqp1CF7ldilcbDmt74Ua7DY/FzxPo+onyrq4kDRFzgtij9oxlF54ZBYA/ahxn3oA7zxl41/wCEW0LTrWyTztTvkSO3j/AAn8K5n4h6J4th+Hd7dvr5nAgLSW5TG4EdM+1Y3xSvhpHxG8D6pcgNZpGqliflBNek/EeeOX4ZalMki+W9uWDA8HIoA5D4H6lBo/wUjvrxgkcTOST3PpWt5/iDxRpR1jTfEUelLIrFLXg4x0/OuB8MW897+y3cRWKmWZZGfYp5IBrqPhMfCvinwTbMSBeQDZcRNLgqw9qALHw5+ImqeJdF1uw1CPGraUGxJjAlx3rK+HvjHxl41tNWtBKqSRylEusf6nnpivQbOw8PWa6nHoccYuY4H85oznt3Neffs8Zx4i/6+z/M0AXPAnjPxDa/Ee98HeKboX0y5aKcDGBXr9eB2mf+GsZ/+uTfyr3ygAooooAKKKKACiiigAooooAKKKKACiiigAooooAKKKKACiiigAooooAKKKKACiiigAooooAKKKKACiiigAooooAKKKKACvnTx5cf2z+03odhcgmC22kITwT64r6Lr59+LOnT+GfjJofjEW5NhuVJ5B2PvQB9BAADAGAK86+OdjBefCvUmuEDGFd6H0Nd9ZXkN/ZQ3Vs4eKZA6sDnINeb/HjWktPAMulQqJrzUm8mKJTlvrigDk/AWta837PL6tZ6mYZ9PDbcjO5VIGP1r0fwPquqeKfhzDdz3flX06cTgfdPrXH6X4Xn8Jfs231heDbO9qZXHoSQa6X4Pyxp8MLF2kQKF5JPAoAx/ht4j8Q+Jo9e03UNSzcWrtFDchfukHGa4b4V6X4hv/H/AIhjTxC8dzA+JJiuTIM9K6r4JOja/wCJcOpzdORz15rP+DMiJ8TfFhd1UCQ/eOO9AF/xn448X+H/AIhaTpVqBJbuQrJj/XmqnjXXfiR4OlHiCWcTaTvBltgv+rUnpVzx8Qfjh4WOQV8wYPbtXc/FJoh8M9Z8/btMBGG7nNAHKeM/G2pXPwuh8Y+FNS8hFVTJFtzuJ6iuttL3Utb+G1tqFvefZb2W180y4zzjNeSvp9zpv7Kk0V1EY2Zg6r/sk8V6n4Xnhi+Edk7yoFGn9d3+zQBz3w18Qa/428A6j9q1Hyb+Kd4UugvTHfFcj8F9J8QXOqavIPELjyrlllBXJk5roP2fpEbwbq211JN7KcZ571H8DJI1vPERaRRi7fOT05oA9kQFUUMckDk+tLQCCMg5BooAKKKKACiiigAooooAKKKKACiiigAooooAKKKKACiiigAooooAKKKKACiiigAooooAKKKKACiiigAooooAKKKKAGyqzxMqNsYjAb0ry+7+D1xdeNF8THX5Vv1Pyts6D0r1KigDivG3gO68Z6LBptxq7wwoQ0mF++w71bg8J30Hg1tCXV3JMflibbyFxjFdVRQB5x4a+Hf/AAr/AMK6xb2+oPcwzwyOyMuPmwea4b4F6Nqt5omrzaZq7WUZuiDGFzzzzXt+u6bNq2kTWVvdG1MylTIBng1y/wAPfh0/gKO4hh1R7mGd97Iy45oA0vDXguHRL6bUr24N9qcxO65cc49BWb47+G0Xi+9ttRs799N1K24S5jGTiu5ooA8w174Nx+I9DtrXVNXmlvIJBIbrHLY9q6LXvAFl4g8Cp4bu5m2RqNs3cMO9dbRQByvgvwa3hXTo4Lq/k1CaIbI5X42r6YrqqKKACiiigAooooAKKKKACiiigAooooAKKKKACiiigAooooAKKKKACiiigAooooAKKKKACiiigAooooAKKKKACiiigAooooAKKKKACiiigArmfGvhSfxdos2ljUGtbeddsgVc5FdNRQBwvw/+Hlx4DtRZW+rvcWKnIhZcc1c8deC7rxnpr6d/ar2lnKMSRqud1ddRQBxnhPwRe+FfDh0eHWHlgVSsRK/czVLwd8NLjwj4gu9Sh1mSZbxt08TL96vQKKAPO/GnwksfE2uwa7pl2+latEcm5iH3vTNZ2t/Bu58TrZP4h8Qy3lxaEESFMZxXqtFAHH+JfhzpfinwjDoupEsbdAIZ/wCJCO9c7D8JdVfw4+g6j4pnutMK7ViZeVH1r1KigDkfAfgC18EaA+kxTtdQvnO8dj2rjL/4BW6+ILjUfDmtT6Slw254Y+h9a9hooA5XSvBEOi+G59P066dLq4TbNdtyzH1rK8BfDSXwNc3b2+rvcR3TF3Rlx83rXf0UAebR/CiaP4iN4tGtSfa2OCuzjHpXpCghQCckDk0tFABRRRQAUUUUAFFFFABRRRQAUUUUAFFFFABRRRQAUUUUAFFFFABRRRQAUUUUAFFFFABRRRQAUUUUAFFFFABRRRQAUUUUAFUNZ0Ww1/TZLDVbdZ7eQYKsKv0UAcBaeANd0oG30bxRNa2Kn91AUzsHpmrel/DyFdaTWPEV22r6hF/qpJBgJ+FdpRQBU1PTbfVtLn0+8TdBOhR19q8+8M/Ca48PXMkH9vzT6QzEiyIwAD2zXplFAHBeCPhfb+C9cv8AUIL6Sdbp2ZY2HCA9qrSfCO1j8Zza3p9/Jaw3JzcWyDiT8a9GooA8O+Jti918WPDVhaTG2diFjlHJWu5uvAV9rEsMXiDW5L6wRtz2xXAf61U1z4YXGteMLbxA+tyRz2rboVC8LXfW0ckVuqTSmVwOXPegDO1bw5Yav4ak0SaILaPGIwoH3QOlcV4f+E1xpEUtlea/PeaawIitiMCMV6XRQBw3w9+Glt4C+2rb3j3KXTlgrcBM9qo6T8I4NG8XXWqWWpypZ3bF5rMdGP1r0eigBsaLHGqIMKowKdRRQAUUUUAFFFFABRRRQAUUUUAFFFFABRRRQAUUUUAFFFFABRRRQAUUUUAFFFFABRRRQAUUUUAFFFFABRRRQAUUUUAFctrXxF8P6BrMOlajcPHdzOEjTZ94n3rqa8J+OEUZ+InhN9g3CUc4/wBqgD3UHKgjvS1UutQtdNsPtF7MsUarkljjt2rAtfiP4dur+O0FzJDJKcIZo9gb6GgDqqKxta8V6T4edF1W48gSDKsRx+dXNO1a01Wx+12Tl4cZDY60AXaKxrDxVpepao+n2kzPcR/fXb9361HrvjDSfDuBqEkjHGSIU3lfrjpQBu0VlaH4m0rxHY/a9Ku0ljH3gTgr9R2qu/jTQI5LlDqMRNqCZSGBAxQBu0Vk+HvE2leKLFrvRbkXEKttYjsa1qACiiigAooooAKKKKACiiigAooooAKKKKACiiigAooooAKKKKACiiigAooooAKKKKACiiigAooooAKKKKACiiigAooooAKKKKACiiigAooooAr317Dp1lJdXJIijGWKjJxWL4X8c6J4vmuo9DuDMbU4kJXGDW3egNYThgCPLbg/SvFf2fY1j1jxQEAA+0n+dAHuNFYes+MNH0OZYbydmlPVIV3kfUDpUmieKdJ8Q2kk+l3IlEX30xhl+ooA2KK5y38eaBdah9hhuy11nb5W35vyrT1bW7HRLQXOoyGOI/xYoA0KKoW2tWN1pQ1FJdtsRkO/FYUHxL8Nzaklk11JBK7bVM0exWPsTQB1lFUdS1nT9IsvteoXUcMPGGZhz9Kx7v4heGrKa0iuNRRXuziIev1oA6aisDVPGujaRciC5lkdyAf3Sb8A+tX9I1yw1yBpdOl8xV4PGMUAaFFFFABRRRQAUUUUAFFFFABRRRQAUUUUAFFFFABRRRQAUUUUAFFFFABRRRQAUUUUAFFFFABRRRQAUUUUAFFFFABRRRQAUUUUAFFFFABXKzfEbw/B4mh0CS4cahM21YimK6qvCPG8Ua/tJaC6oAxReQPpQB7vRVLVNXstGtGuNQnWJB0GeW+g71j6Z8QNA1XUlsILl47h/uJMmzd9M0AdLRWFq/jLRdCvBbapdeRIRkbhwa0rfUre50/7bCWMONwOOSKALdFZGk+J9M1u4mh06YyND9/5cAVQ1j4gaDod00F7PISv3njj3Kv1NAHTUVQstb07UdLGo2l3FJakZ8wMMD61lTeP/DkOlSai+op9mjfYzj1oA6Siqmmanaaxp8d7p0yzQSjKup61boAKKKKACiiigAooooAKKKKACiiigAooooAKKKKACiiigAooooAKKKKACiiigAooooAKKKKACiiigAooooAKKKKACiiigArwz43/APJQfCf/AF1H/oVe514N8bLlpviF4c+z2lzMLWUGVo4yQOaAPQfiH4Vh8R2FjNeaqbC2s3WV13YEmOcVwnxhvrLV/B9ldaTZlIrS5QLc7djKe2Pap/jbNq0p8P31nFcS6KjrJdRRqdx57j6VW+KvilPEPw1hPhnTJ5bNJ4zMTCVZMeg70Adrr3hqPxx8J4oL4lrkWvmJIOu4Dis34SeLRL4CubO+jEV1ogaN4zwWAya6n4e6k2peD7RjbvCscYQCRcE8eleX+LPCepaX8YrUeH5CLfVj5l1EOBt70Adn4YtnsPDWveKQgSe/V7mI45UAH+tZHw91HxBf+Hn1L+x7e/a+kLSSyPnPJ4xXplxpEL+HZdKgAjieBogB2yMV4D4U8Xaz8HtcvtA8R6bc3GkmUtDcRoWwM0AdV4F+H/iHRPiZqeqXcCW+jaijbrZJMhWPoKw/AvhLTb74u+J7KdWfT0kbFszHGfWvSPCvjC+8V3zapb2slvokUZ/1i4Z2x1xXBfD3V0i+M+vvLaXSQ3kpMMjREA/jQB6/4e8L6R4WtZbfQ7RbWKV97qp6mteiigAooooAKKKKACiiigAooooAKKKKACiiigAooooAKKKKACiiigAooooAKKKKACiiigAooooAKKKKACiiigAooooAKKKKACiiigAooooAKKKKAIbz/jxn/wCubfyrxX4AjOseKQDgm4PP417LqlwlrpVzNIGKrG2QoyeleJfAqaaHWPEsUlrcQS3EjNCZIyAeaAOt07SNL8F+LdTvtQ1BtSvNTICQ7d5i9sdq5fwQZbL486zDFF9kjuV3PAD8v5VS8A+IJPDPj/XU8a211JfXUuLeURF1IzwB6UaXrOoW/wAf7+6vdKmjM6qsJVCVK+pNAGj8RdNTwJ8SdK8ZWMBeGeTy7pP4Vz3rsfHVyniGz0vQrUK/9qFZQ4Odqjmt3xr4fh8UeD7zT7j5N8e9WxypAzXAfBDStTks57rXSZltZDHZuxzgA4oAl8d317beM/DHhnTLdJ7ZkzLbltocr0pvxD8LeIfGvhwWUfh+2trmJw0E6SAFMe9Hxu8Pay0mmeKvDMTSXuktuZV6suelGifGxtcso7GHRbpNbYBWiaMhVPrmgCj8RNAu4/gLEniPLapZ7FEiv905/Wtvwf8ADnQNW8EaZc6raC7vBEGEzMc7u1V/ixLewfCN7K/Sa61CdlbbEhboc4rpPhvqa3vw7tfJililgg2lZU2kMBQB5xp3jaT4d+N9R0vxvprixumBivdm4BR0GfpXq3g6LRZrebU/Dlyk1peEOFQ52n+lcxZeIdE8X2l3o3izTnea3LBmkh+8PY1m/Bfw1c6DrOvPa+dHossubSKXPHPvQB69RRRQAUUUUAFFFFABRRRQAUUUUAFFFFABRRRQAUUUUAFFFFABRRRQAUUUUAFFFFABRRRQAUUUUAFFFFABRRRQAUUUUAFFFFABRRRQAV4X44/5OP0D/cX+le6V4F42vd/7QejXaWl09vAFWSRYiVB470Aeg+O/DFpf65pmuapqrW9rp8gc2ueJfbHeuC+LN9Ffaj4c1fTLU2yJdBY7jbsY89CKn+K11qVl8S9B1O9guLjw7FtdkiUnDdyRVX4veJH1zTvD93o+mTyaXHdh2kERDA8cbaAO0+KHhJPFnw9F5gm/s4RPEy9WIwcU7wX46jvvhQdSliVbiwi8mSHvuGB0rrvDV6dV8N20ssBiVowuxxg4x3FeN23hDUdK+NEukafIX0e5/wBIuY+wB56UAdHdrceCfg5qepWmEvr0mZW9N5GBVvQYtauPBNvat4btp4ru3DSO0gJcsOtdV428NL4i8C32iwIA0kO2EehHSvIvAnxW1HwVYjwz410u732bGKC4jjLbwOgoA3vh54C1rw5pWv2XiGMLpkyvJbwrJnacVjfBHwbpmveGNWTWEN1bfbXRIHJwuDXo1hrepahoepa1qkEkFjJAwgtwMt064rjv2f7/AMjTdT026tbiC4a7eVfMjIBUnigD1jRtFsNA01LDSoBBbJ91Ac4q/RRQAUUUUAFFFFABRRRQAUUUUAFFFFABRRRQAUUUUAFFFFABRRRQAUUUUAFFFFABRRRQAUUUUAFFFFABRRRQAUUUUAFFFFABTGhic5eNGPqVBp9FADXijkTY6Ky/3SMimC1t1i8tYIhH/dCDH5VLRQBxHxB8dzeBoLc2WjyX/mnlYlPyj8Kg8FLqHifVD4p1q1NowUx2kLDkIeua7x40f76K31GaUAKMKAAOwoAWoZ7O2ul23MEco9HQGpqKAGRwxwxiOKNUQdFUYFAgiVtyxID6hRT6KACiiigAooooAKKKKACiiigAooooAKKKKACiiigAooooAKKKKACiiigAooooAKKKKACiiigAooooAKKKKACiiigAooooAKKKKACiiigAooooAKKKKAAgEYIBHoaYsMaHKRop9QoFPooAie1t5JBJJBGzjoxQEih4oU3TeShcDOdozUtFAHkF78Utc1bW7rw7pXh+ZJGby0uGUhSvQmvS/DmjR6DocNjGc7fmY/7R5NaIijDbhGob1CjNPoAQgMCGAIPY1BHYWcMxlitYUkPVlQA1YooAa8aSffRW+ozQsaIMIiqPQDFOooAryWNrKQXgjJBznaKnVVQYRQo9AMUtFABRRRQAUUUUAFFFFABRRRQAUUUUAFFFFABRRRQAUUUUAFFFFABRRRQAUUUUAFFFFABRRRQAUUUUAFFFFABRRRQAUUUUAFFFFABRRRQAUwwxFtxiQn1Kin0UAMkhimTZNGki+jKCKb9mg2BPIj2r0XYMCpaKAPPvHvxIufBepW1nZ6JNfrLjLRqcL+VXvA1lfX0s3iXW4fIvbxdixf3Yx0rsWijc5dFY+4zTgABgDAoAKrzWFpcOHntYZGHIZkBNWKKAE2Ls2bRt9McU1Yo0OUjVT6hQKfRQAUUUUAFFFFABRRRQAUUUUAFFFFABRRRQAUUUUAFFFFABRRRQAUUUUAFFFFABRRRQAUUUUAFFFFABRRRQAUUUUAFFFFAGbr2u2vh3SJNRv1laGPqIU3N+VcN/wvbwr/z7at/4BNXpTIrrh1DD0IzUf2W3/wCeEX/fAoA85/4Xt4V/59tW/wDAJqP+F7eFf+fbVv8AwCavRvstv/zwi/74FH2W3/54Rf8AfAoA85/4Xt4V/wCfbVv/AACaj/he3hX/AJ9tW/8AAJq9G+y2/wDzwi/74FH2W3/54Rf98CgDzRv2gfBccwhkOoJKRkRtakMfwpf+GgPBn/UR/wDAU1teOPAVvr8C32mRRW+q24zFIEHzj+6a8/0+/jmeW01K1htL+24mjeMAcdx7VyYivOjqo3RMm0dKf2gfBaqWY6gFHJJtTgU6L4++ELiMSW8epTRno6WhINc1puk3HjrUzY6fDHBpULYubryx8/8Asj1Fex6XoWm6Pp0VlY2cMcMS4UBBWlGpOpHmkrDTbOE/4Xt4V/59tW/8Amo/4Xt4V/59tW/8Amr0b7Lb/wDPCL/vgUfZbf8A54Rf98CtxnnP/C9vCv8Az7at/wCATUf8L28K/wDPtq3/AIBNXo32W3/54Rf98Cj7Lb/88Iv++BQBwul/GTw5q+pQ2Nrb6kJZm2qZLQqM+5rv6jFtApysMYPqFFSUAFFFFABRRRQAUUUUAFFFFABRRRQAUUUUAFFFFABRRRQAUUUUAFFFFABVXUr+LS9OmvbgOYoV3MEXJx7CrVIQGGGAIPY0AebH46+FlYg22q8f9ObUn/C9vCv/AD7at/4BNXo32W3/AOeEX/fAo+y2/wDzwi/74FAHnP8Awvbwr/z7at/4BNR/wvbwr/z7at/4BNXo32W3/wCeEX/fAo+y2/8Azwi/74FAHnP/AAvbwr/z7at/4BNR/wAL28K/8+2rf+ATV6N9lt/+eEX/AHwKPstv/wA8Iv8AvgUAec/8L28K/wDPtq3/AIBNR/wvbwr/AM+2rf8AgE1ejfZbf/nhF/3wKPstv/zwi/74FAHnP/C9vCv/AD7at/4BNR/wvbwr/wA+2rf+ATV6N9lt/wDnhF/3wKPstv8A88Iv++BQB5z/AML28K/8+2rf+ATUf8L28K/8+2rf+ATV6N9lt/8AnhF/3wKPstv/AM8Iv++BQB5z/wAL28K/8+2rf+ATUf8AC9vCv/Ptq3/gE1ejfZbf/nhF/wB8Cj7Lb/8APCL/AL4FAHnP/C9vCv8Az7at/wCATUf8L28K/wDPtq3/AIBNXo32W3/54Rf98Cj7Lb/88Iv++BQB5z/wvbwr/wA+2rf+ATUf8L28K/8APtq3/gE1ejfZbf8A54Rf98Cj7Lb/APPCL/vgUAec/wDC9vCv/Ptq3/gE1H/C9vCv/Ptq3/gE1ejfZbf/AJ4Rf98Cj7Lb/wDPCL/vgUAecN8ePCaKWeDVFUckmzbAqJP2g/BMqb4nv3Q/xLakivSZtPs54XimtYXRwVZSg5FeP+J/Csnga+a+0+1SfQ5mzJGIwTbk+lZVZTjG8FcTubP/AA0B4M/6iP8A4CmkT9oHwXLKYojqEkg6otqSR+FcvqOsWdrYRy2cMNxNcYWCNIwSSa734e+B00WzbUtXgifVLwbpPkHyDsBWGHxE61242Qotsz/+F7eFf+fbVv8AwCaj/he3hX/n21b/AMAmr0b7Lb/88Iv++BR9lt/+eEX/AHwK7Cjzn/he3hX/AJ9tW/8AAJqP+F7eFf8An21b/wAAmr0b7Lb/APPCL/vgUfZbf/nhF/3wKAPOf+F7eFf+fbVv/AJqP+F7eFf+fbVv/AJq9G+y2/8Azwi/74FH2W3/AOeEX/fAoA85/wCF7eFf+fbVv/AJqP8Ahe3hX/n21b/wCavRvstv/wA8Iv8AvgUfZbf/AJ4Rf98CgDzn/he3hX/n21b/AMAmo/4Xt4V/59tW/wDAJq9G+y2//PCL/vgUfZbf/nhF/wB8CgDzn/he3hX/AJ9tW/8AAJqP+F7eFf8An21b/wAAmr0b7Lb/APPCL/vgUfZbf/nhF/3wKAPOf+F7eFf+fbVv/AJqP+F7eFf+fbVv/AJq9G+y2/8Azwi/74FH2W3/AOeEX/fAoA85/wCF7eFf+fbVv/AJqP8Ahe3hX/n21b/wCavRvstv/wA8Iv8AvgUfZbf/AJ4Rf98CgDzn/he3hX/n21b/AMAmo/4Xt4V/59tW/wDAJq9G+y2//PCL/vgUfZbf/nhF/wB8CgDzn/he3hX/AJ9tW/8AAJqP+F7eFf8An21b/wAAmr0b7Lb/APPCL/vgUfZbf/nhF/3wKAOW8K/EjRvF9+9ppcN6kiruJuLcoMfU111MSGKM5jjRT6qoFPoAKKKKACiiigAooooAKKKKACiiigAooooAKKKKACiiigDk/FXxG0bwfeR22qRXru67gbeAuPzFYH/C9vCv/Ptq3/gE1ekPDFIcyRo5/wBpQab9lt/+eEX/AHwKAPOf+F7eFf8An21b/wAAmo/4Xt4V/wCfbVv/AACavRvstv8A88Iv++BR9lt/+eEX/fAoA85/4Xt4V/59tW/8Amo/4Xt4V/59tW/8Amr0b7Lb/wDPCL/vgUfZbf8A54Rf98CgDzn/AIXt4V/59tW/8Amo/wCF7eFf+fbVv/AJq9G+y2//ADwi/wC+BR9lt/8AnhF/3wKAPNP+GgvBQlMJa/Eq8mM2p3D8KX/hoDwZ/wBRH/wFNXvHXgFb2T+2/D0EMepxDLpsGJ1HY1xmn6nZ3lvI1xBDbTwcTxSRgFCOv4Vx4jETo68t0TJtHSN+0H4JjQvI1+iDqzWpAFPT49eEpUDxQ6pIh5DLZkg1z+geHZfH2oB3t0t9Cgb5mMYBuCO30r2K10uxsrWO2trSGOKNQqqEHArelOc480lYauzz/wD4Xt4V/wCfbVv/AACaj/he3hX/AJ9tW/8AAJq9G+y2/wDzwi/74FH2W3/54Rf98CtRnnP/AAvbwr/z7at/4BNR/wAL28K/8+2rf+ATV6N9lt/+eEX/AHwKPstv/wA8Iv8AvgUAec/8L28K/wDPtq3/AIBNR/wvbwr/AM+2rf8AgE1ejfZbf/nhF/3wKPstv/zwi/74FAHntv8AHDwxc3EcMdtqgZ2CjNmwFeiRSLNCkqZ2uoYZ64NNFrbg5EEf/fAqXp0oAKKKKACiiigAooooAKKKKACiiigAooooAKKKKACiiigAooooAKKKKACiiigAooooAKKKKACiiigAooooAKKKKACiiigArkPGPw80/wAWywzmVrO6Q4aaIcundTXX0Umk9GBS0nSbPRNNisdPhWKGIYAA6+5q7RRTAKKKKACiiigAooooAKKKKACiiigAooooAKKKKACiiigAooooAKKKKACiiigAooooAKKKKACiiigAooooAKKKo6nrOn6PAZtSu4oFxkB2ALfQd6AL1FebX3xk06SV7XQLG6vbodC0RCH8azm8f/EG4407wrauw6+ZKRx+dUot7ITaR61RXkq+PPiNbc6j4UtEU/d8uUn+tXLX4xRWTrB4o0u5tJmOAYYy6j6mhxa3QKSZ6dRWXo3iTStehD6beRykjJj3DcPqK1KkYUUUUAFFFFABRRRQAUUUUAFFFFABUc8EV1A8NwiyRuMMrDIIqSigDiNB+F2k6F4mm1aN3mGc28D8rBnriu3oopJJbAFFFFMAooooAKKKKACiiigAooooAKKKKACis7Vte0zRIDLqV3FDgZCsw3H6CuEvPjHaXUjW3hrTrm8uVOMyxlU/OmlcD0yivJW8ffES4/5B/hS0cDr5kpH9aF8ffES3/wCQh4VtEz08uUn+tPkl2J5l3PWqK8ztPjJZ2zrb+I9OurO4J6xxlkH413ek69pmtwCTTbyKfIyVVhuX6iptYo0aKKKACiiigAooooAKKKKACiiigAooooAKKKKACiiigAooooAKKKKACiiigAooooAKKKKACiiigArivE/wy0vxJrMGoGR7Vgw+0LEMCdfQ12tFJpPcCCzs7fT7SO1s4lihjXaqqOgqeiimAUUUUAFFFFABRRRQAUUUUAFFFFABRRRQAUUUUAFFFFABRRRQAUUUUAFFFFABRRRQAUUUUAFFFFABRRRQAUUUUAFFFQi8tjcfZxPGZv8AnnuG78qAJqKKKACiiigAooooAKKKKACiiigAooooAKKKKACiiigAooooAKKKKACiiigAooooAKKKKACiiigAooooAKKKKACiiigAooooAKKKKACiiigAoorg/Hfiq5jnTw74fbOo3PEki/8ALBT3ppX0Buw/xV4+NrdHR/DUYvtUfjI5SP6n1rmrXwRJqE4vfGV9Jqk+dywsSFiPoK29B0C10Cz8uFd9w/M0zcl27mtOuuFJR1Zzym3sRW1pbWcIitbeONB0AUVNn04+lJRWpkLk9+frTJYop4mjmhjdW6gqKdRQByt/4FtxMbzw1cyaRfdfMiJ+b2xWr4c8eXen3sejeNIxb3B+WK6/hk9ye1atU9V0mz1uya1v4hIpHynup7HNZTpqWxpGbR3asHUMpBUjII70tea+C/EN3oOrf8It4glMgJ/0G5f/AJaD+7+FelVyNNOzOhO+oUUUUhhRRRQAUUUUAFFFFABRRRQAUUUUAFFFFABRRRQAUUUUAFFFFABRRRQAhIVSWOAOSTXBeKPH0xuzo3hGIXuoNw0o+5EPXPrUfjrxLc3d+nhjw8+bqb/j4mT/AJZL3Bp2i6JZ6BYi3skG5uZJDyWPfmtadPm1exnOfKYll4HS5uBfeK7uTVrs8gSEgR+wrqILeC1iEVvBHGi9AFFPorrSS2OdtvcXJ7cfSjJ78/WkopiGTwQXMRiuII3RuoKiuWvPAsdtObzwndyaRd53N5ZJEh9DXWUUmk9xptbGf4Y8e3Ed8ui+L4hZ33SKb+CUe59a9ABBAIOQehrgNZ0Sz16xa2vUG7rHIOCjdjmo/A/ia5sNQPhbxHIftMYzazt/y1T3PrXJUp8uq2OiE+bRnodFFFZGgUUUUAFFFFABRRRQAUUUUAFFFFABRRRQAUUUUAFFFFABRRRQAUUUUAFFFFABRRRQAUUUUAFFFFABRRRQAUUUUAFFFFABRRRQAUUUUAFFFFABRRRQAUUUUAFFFFABRRRQAUUUUAFFFFABRRRQAUUUUAFFFFABRRRQBxfjnxNdWl9ZeG9FIGq6mCY2P8CDqam8MeAotBvBf3V/Nf3xB3SyH1rnPFagftA+EWHU2k39a9RoAKKKKACiiigAooooAKK5Dxl8S9D8D3dta6sLiS4uVLRx28e8kDvXOf8AC/vDH/Pjq3/gKalzitG0NJvZHqVFeW/8L+8Mf8+Grf8AgIa67wZ460jxzYz3OimUC3fy5UmTayn6UKUXs7g01udJRRRVCCiiigAooooAKKKKACiiigAooooAKKKKACiiigAooooAKKKKACiiigAooooAKKKKACiijOelABRRRQBleJtdg8N+HrrVLnlYEyF7sfSvO/A+mTrbT65qZMl7qLGRXbqIz0FT/Fa7fUda0TQbVtwkn33SD+5xXQpElvEkEfCRLtX6V0UY/aMaj6C0UUV0mAUUUUAFFFFABRRRQBheMNEfWdEL2Z8vULX95bzDquOTXT+AvEqeJvDENw3FxD+5mU9dy8E/jVYcnB6Hg1yvguX+wfitq2nyHZaXqKbZe27vXPWjpzG1N9D1miiiuY3CiiigAooooAKKKKACiiigAooooAKKKKACiiigAooooAKKOtFABWF4x8QxeGfDVxfynD42RD1c9K3a8p+JM51rxzovhtTugYGabHRSDxmmld2E3ZXHeCtIlstOl1PUBnUdRbzJye3pXSUp4AX+6Av5Uld6VlZHI3d3CiiimIKKKKACiiigArnPGukve6SNQsspe6efOV16sB/DXR0qhWO1xlTwQe4pNXVmNOzuaXg3xCviXwxa3/AmZMSp3VvQ1u15R8NpzoXjjWdBnYj7ZIbmBD2UZ6V6vXA1Z2OtO6uFFFFIYUUUUAFFFFABRRRQAUUUUAFFFFABRRRQAUUUUAFFFFABRRRQAUUUUAFFFFABRRRQAUUUUAFFFFABRRRQAUUUUAFFFFABRRRQAUUUUAFFFFABRRRQAUUUUAFFFFABRRRQAUUUUAFFFFABRRRQAUUUUAFFFFAHl/iz/kv/AIQ/69Jv616hXl/iz/kv/hD/AK9Jv616hQAUUUUAFFFFABRRRQB418QgP+F6+HMgH/QZOCM9zW0VTJ/dp/3yKxfiF/yXXw5/14yfzNbR6mvzDiv/AH9f4V+p9Fli/c/MVFTzB+7Tr/dFYHwg1jS9K1vxguo39taM2ogqksgTIweRmt9Pvj614NceDv7b8Z69rV2jPZW98ItqkjLnpn2ro4R/3mp/h/UzzRfu4+p9Uf8ACZ+Gv+g9p/8A4EL/AI0f8Jn4a/6D2n/+BC/415Jpuj+CtPnhsPGPhKC2lkAMd3EWaFl9S2eK7u1+FXw8vrdZ7PRLOeJujxuxB/Wv0c8E6D/hM/DX/Qe0/wD8CF/xo/4TPw1/0HtP/wDAhf8AGsX/AIU/4E/6F63/ADb/ABo/4U/4E/6F63/Nv8aANr/hM/DX/Qe0/wD8CF/xo/4TPw1/0HtP/wDAhf8AGsX/AIU/4E/6F63/ADb/ABo/4U/4E/6F63/Nv8aANr/hM/DX/Qe0/wD8CF/xo/4TPw1/0HtP/wDAhf8AGsX/AIU/4E/6F63/ADb/ABo/4U/4E/6F63/Nv8aANr/hM/DX/Qe0/wD8CF/xo/4TPw1/0HtP/wDAhf8AGsX/AIU/4E/6F63/ADb/ABo/4U/4E/6F63/Nv8aANr/hM/DX/Qe0/wD8CF/xo/4TPw1/0HtP/wDAhf8AGsX/AIU/4E/6F63/ADb/ABo/4U/4E/6F63/Nv8aANr/hM/DX/Qe0/wD8CF/xo/4TPw1/0HtP/wDAhf8AGsX/AIU/4E/6F63/ADb/ABo/4U/4E/6F63/Nv8aANr/hM/DX/Qe0/wD8CF/xo/4TPw1/0HtP/wDAhf8AGsX/AIU/4E/6F63/ADb/ABo/4U/4E/6F63/Nv8aANr/hM/DX/Qe0/wD8CF/xo/4TPw1/0HtP/wDAhf8AGsX/AIU/4E/6F63/ADb/ABo/4U/4E/6F63/Nv8aANr/hM/DX/Qe0/wD8CF/xo/4TPw1/0HtP/wDAhf8AGsX/AIU/4E/6F63/ADb/ABo/4U/4E/6F63/Nv8aANr/hM/DX/Qe0/wD8CF/xo/4TPw1/0HtP/wDAhf8AGsX/AIU/4E/6F63/ADb/ABo/4U/4E/6F63/Nv8aANr/hM/DX/Qe0/wD8CF/xo/4TPw1/0HtP/wDAhf8AGsX/AIU/4E/6F63/ADb/ABo/4U/4E/6F63/Nv8aANr/hM/DX/Qe0/wD8CF/xo/4TPw1/0HtP/wDAhf8AGsX/AIU/4E/6F63/ADb/ABo/4U/4E/6F63/Nv8aANr/hM/DX/Qe0/wD8CF/xr5e8b/FvxHoPxIu20PWzcWCt8kaNlCK+hZPhF4DjjZ28PW+FGTgt/jXx58Rk0qLxxfQ6DD5NpG5VUz0IoA9j8OftSz+YkXiLTUCDrLDkk16z4b+M/g7xKwW11EQOe1x8nNfDVOQ4bv8AgaAPr2W7g1f48XgtJkuIoLFHDo2VzgV2pOTmvAv2fkurTxXqH9o7sy2w2FjkkV75XZS+A5qnxBRRRWpmFFFFABRRRQAUUUUAFcP4puoNJ+KfhG7uZkghlkYSSOcAfU13FeO/tAWM2qy+HLG0QySvIflHp3rOr8DLh8R7ufGfhoHB13T/APwIX/Gj/hM/DX/Qe0//AMCF/wAa8d8G6L4Ge1trHxL4bgjlb5FvNxMbt3BOeDXo6/CHwGyhl8P2xBGQQzc/rXEdRt/8Jn4a/wCg9p//AIEL/jR/wmfhr/oPaf8A+BC/41i/8Kf8Cf8AQvW/5t/jR/wp/wACf9C9b/m3+NAG1/wmfhr/AKD2n/8AgQv+NH/CZ+Gv+g9p/wD4EL/jWL/wp/wJ/wBC9b/m3+NH/Cn/AAJ/0L1v+bf40AbX/CZ+Gv8AoPaf/wCBC/40f8Jn4a/6D2n/APgQv+NYv/Cn/An/AEL1v+bf40f8Kf8AAn/QvW/5t/jQBtf8Jn4a/wCg9p//AIEL/jR/wmfhr/oPaf8A+BC/41i/8Kf8Cf8AQvW/5t/jR/wp/wACf9C9b/m3+NAG1/wmfhr/AKD2n/8AgQv+NH/CZ+Gv+g9p/wD4EL/jWL/wp/wJ/wBC9b/m3+NH/Cn/AAJ/0L1v+bf40AbX/CZ+Gv8AoPaf/wCBC/40f8Jn4a/6D2n/APgQv+NYv/Cn/An/AEL1v+bf40f8Kf8AAn/QvW/5t/jQBtf8Jn4a/wCg9p//AIEL/jR/wmfhr/oPaf8A+BC/41i/8Kf8Cf8AQvW/5t/jR/wp/wACf9C9b/m3+NAG1/wmfhr/AKD2n/8AgQv+NR3HjPw39ml269p4Ow4P2hfT61k/8Kf8Cf8AQvW/5t/jUdx8IfAqWsrDw9bghCeGb0+tAHzbf/GbxX4f8a3zWWrG8s1lOyJmymPau+8NftSxSSKnibTRCo4LwZOa8G8W2Edv4v1C10+ErFFKQqLzgVmiwZbdZ5nVYycEZ+YfhQB9x+HPi14Q8TKDZapHEx6LOQhrkbS4i1T4u6ncW8iyx2x2h1OR+FfJwuLazn3WoaXjhmJGDXvHwCklVLh7lmd7v5lZuuK0pfGiJ/Ce2nqaSg9aK7TlCiiigAooooAKKKKACiiigDjrmWK0+PGkXDOqM9mY8E9c17DXzn8V9NvdQ8e6ZLpErxXlpb+cWTrtHpXb+Ffibd21jbL4pt28mUARXcYzj/rp6GuKp8bOqHwo9VoqG0vLe+t1uLOZJ4m+66HINTVmWFFFFABRRRQAUUUUAFFFFABRRRQAUUUUAFFFFABRRRQAUUUUAFFFFABRRRQAUUUUAFFFFABRRRQAUUUUAFFFFABRRRQAUUUUAFFFFABRRRQAUUUUAFFFFABRRRQAUUUUAFFFFABRRRQAUUUUAFFFFABRRRQB5f4s/wCS/wDhD/r0m/rXqFeX+LP+S/8AhD/r0m/rXqFABRRRQAUUUUAFFFFAHlfxJ8HeKtS8c6T4h8JxWk7Wdu0Tx3D7c5NY39lfFr/oE6R/3+r22ivPxOW4PFT9pXpqT2ub069WmrQdkeJjS/i0rA/2TpHH/Tatv4c+ANYsNI8RReMY7dZdZn8zZA24IMHpXqNFVhsvwmEk5UIKLYqlepUVpu55p4Z8qG6ufAniqFLiNMmyaQf62Lnv61JdeC9c8K3JvfA94ZIAf+QbO37sD2rY8f8AhuTVNPTU9MJi1OwPmxSJ95lHJT8a0fCHiSPxNoUd1wlynyXEXeN/Q13GJk+H/iRYX85sNZjbS7+P5XWcbUZv9knrXZqwZQykEEZBHesfxB4U0jxLb+XqlqkjqP3cvRkPqDXFtaeLvALtJaStrmjr8ziU5ljHoooA9NornfDnjfR/Ekai2mMFyetrP8sg/CuioAKKKKACiiigAooooAKKKKACiiigAooooAKKKKACiiigAooooAKKbJIkUbSSsERRksxwAK4fXPiREt0dN8K27apqDcKyDMSn3agDsb/ULPTbVp9QuI7eEdWkbAr4y+MOhWTeJrjWfDVpcnTpmJklZPk39yD6V9JWPgDUdeuhqPjq9afdydNRswrW74s8FWXiHwPc+HoI0tonj2xbR9w9qAPgOrOnWcmoalb2kIy80gUCtnxd4L1Pwfrk+nahHuaLJ3JyNvYmui+B/h99d+JunnZvitHEsg9qAPb9Q0ePwX4i8N3aLhNQgS2fj7rACvQnADnByPWo/iX4dk1rwsZLJN15YnzbdfcVl+F9Xj1rw9BPG2ZIh5Uw9HHWuqjLSxhVXU1qKKK3MQooooAKKKKACiiigBRyRXGwWq+JPjAtsQHTSYyX9twrqNT1CDSdKnvrptsUSnn37VU+FGjTra3niLUEKXmpOeD/AHAeKxrStGxrTWtzM0PTLS21/VfA+sxB7F2M9k7ddzcnB9q0LbUtV+Hl2tjrRlv9GdsQXYGXj9m9hUvxQsJLGOy8V2Kk3GlSBmRf+Wik45rsbSW08Q6DDLIiTQXUQLKeRyORXIdBbtLy3v7VLi0lWWJxlXU5BqavOLrTNU+Ht4+oaJ5l7ojnM9n1MI9UFdroevWHiCwW60+UMCPmQ/eQ+hFAGlRRRQAUUUUAFFFFABRRRQAUUUUAFFFFABTZEEkTIejAg06q99f22m2b3V9MkMKDJZzgUAfIvxv8Ban4Q8TyatYoxsLsk+cozg+9ePs7OxZjknrX2drkF58XbebSYYTaaBn57lxh3YdNvtXzJ4++GmseCvEE9m9tLPagkxTqpIK0AcbEnmTIg/iYD9a+nfC2m/8ACI6r4VgYYgvrUszdlPpXzbo0Rn12xiAyXuEXH/AhX2f4/wDC883gOym0xB9r0xUcEf3APmqouzuJq6sbB60lUND1aDXNEtr+2PyuuCO4I4NX67zkCiiigQUUUUAFFFFABSqu5gB3pKo63qkei6Jc30jBWRD5YP8AE3YUDMDw/F/wkPxnk1FQHt9OtmtpF7biKuXtpD4M8VS2moQrP4c1pvnDjIjlPQD2rU+FGhSafoE+q3SlLnV5PtEit1XrxXUeI9Ct/EWiT2FyoJdSY3PVG7EVwSd3c64qyscZdeFtb8HznUPBM32myPLadK3yKvqtdB4Z8dab4gJt33Wd+h2vbT/KxPt6is74f67cKZ/DWtMRqGnnYjP1mQfxVqeJvBGneIT9oXNnqKD93eRcOtSM6WivNrXxPrvgmdLLxhC11ZE7Yb6Ibjj1f0r0Cx1C01O1W5sLhJ4m6OhyKALNFFFABRRRQAUUUUAFFFFABRRRQAUUUUAFFFFABRRRQAUUUUAFFFFABRRRQAUUUUAFFFFABRRRQAUUUUAFFFFABRRRQAUUUUAFFFFABRRRQAUUUUAFFFFABRRRQAUUUUAFFFFABRRRQAUUUUAFFFFAHl/iz/kv/hD/AK9Jv616hXl/iz/kv/hD/r0m/rXqFABRRRQAUUUUAFFFFABRRRQAUUUUAFea63DJ4A8YJrtoh/sjUH2XkafwyHo30r0qqeq6Zb6xpk9jdrmOZCpOORnuKALMM0dxCksLh43GVZTwRT68+8DancaFq83g/WGO+ElrGQ/8tIueteg0Acp4j+H+l65Kby23adqX8N5Bw1c/H4k8S+BnW38VWr6hpoO2O7txuk+rV6XTZI0ljaOVQ6MMFSOCKAKGka9puu2wm0y7jnGMsqtkp7Edq0a4LWPhtHFcNqHhG6fSbsfMYojhJj/tVDp/xAvtGvV0zxzYm1nJ+W6iGYiPUmgD0OiobS8tr+2W4sp0nhbo6HINTUAFFFFABRRRQAUUUUAFFFFABRRRQAUUVk674m0vw7bGXUrlEfGViB+d/YCgDWrlvEfj7SfD58kM17eE4FtbfMwPuO1c42p+KvH7NFpEb6NozHBuX+Wb8BXUeG/A2k+HSJ0j+1X5GHvJuXegDmItD8V+OXW48Q3TaRp3VLa2PzSr6NXcaJ4d0vw7a/Z9JtEt1PLFRyx9Sa06KACsTxb4jh8M6FLePh5j8sEXeRvQVsyypDE0krBEUZZj0ArzbS45PiD4ybV7hT/Y2mSbbVG/jkHU/SgC54X8CWt9ok934rtkvb3Usu5lGSiMOF/CovAXwi03wB4n1DU9MmZ47tNqo3/LPnoK9EooACAQQehryTUtPk+HniZ7mJCdD1B8tjpFIepPpXrdVdS0621bTprK+iEsEy7WU1UZOLuhNXVjmEdJYlliYPG4yrDoRS1yd1a6r8Obry5RLqOhSN+7kAy8PsfYV0enanY6vAJtMuY7hcZIQ5K+xrsjNSWhyyi4lmiiirJCiiigApQM59ByTUN5d22n25nv50t4h/FIcCuXF3qvjq8On+Hle10wHE96wwWH+z61MpKK1KUW9hJopfiB4kXSbPJ0ezcNdzD7shB6A161bwR2trFbwqFjiQIoHYAVR0HQrLw7pUdhp0YSNOWPdz3JrSrilJyd2dMVZWIL20ivrKW2nQOkilSDXAfDa7l0bV9U8H3jlmsX82KRv41Y9B9K9Grzn4kWz6Hqum+LrMFRZyBblV/5aKTgZqSj0YgMCCAQeoNcJrnhC80i/bXPBz+TcL80tnnEcw7/AI12llcpe2MFzGQVljVxj3GanoA5zwt4xs/EcJiYG2v4+JbaXhge+B6V0dcp4o8Fx6vKNR0qU2Oqx8rPHxv9jVfw340ka8OieJ4/sWqRfKGbhJvdT60AdnRRRQAUUUUAFFFFABRRRQAUUVy/ijxpb6Hizsk+2anJ8sdvHyVPq3oKANLxB4k0/wAOWRuL+UbiP3cK/fkPoBXIWWjap49vU1LxKGttJQ5t7EceaPVxV3w/4LuLm+GueMJPteoMd0cBOY7f2FdwBgYHSgCO3t4bS3SC2jWOJBhVUcAV578UbganPp3he1RWvL9w+7GSqA8ivQridLa2lnlOEiQux9gM1514EgfxN4q1HxZeDfDvMenk/wAKdDQBl6h+z74fk1yx1XSibSW2ZWaJfuuR3r1kwq9t5MgDIU2sD3GMVJRQB5HcWknw98TypICdE1F8o3aBs9K6wEFQynKsMgjvXQ6zo9nruly2OoRiSKQd+qnsR715jL/a3w9uPs+qiS/0UtiO5UZdB/tV0U6ltGYzh1R1tFQWN/aapbifTrhLiM90OcVPXSYhRRRQIKKKgvr600y3M+o3EdvGBkFzjP0oGT8BSzEKqjLMegFclHZy/EXxMlvEGXQ9NkDyS/8APSQdAPUUsLar8Qbo2mlJJZaKjYnuGGGk9l9RXp2j6PaaHpkVjYRhIoxj3Pua5qlS+iNoQ6suoixoqIAqqMADtS0UVzmxwvxB0O5jaHxPoo26hp4zJt6vEOorpvDuu23iLQ7fUbU4Eq5ZD1Q+hrTdFkQo4DKwwQe9eaoz/DvxuyOT/YWrPkMf+WUp6Ae1AHo11awXts9vdxLLFIMMjDIIrgL/AMFar4Zu21PwPcsFBy2myH90R7e9eiAggEHIPeigDkfDfxAsNXk+xaip07UUO1oZ/l3t/s56111YHiTwbpfiWPddReVdqP3V1Hw8Z9RXJx674h+H8qW3iOKTU9JztivIhukH+9QB6XRVLStYsdas1udNuEnjI52nO0+hq7QAUUUUAFFFFABRRRQAUUUUAFFFFABRRRQAUUUUAFFFFABRRRQAUUUUAFFFFABRRRQAUUUUAFFFFABRRRQAUUUUAFFFFABRRRQAUUUUAFFFFABRRRQAUUUUAFFFFABRRRQAUUUUAFFFFAHl/iz/AJL/AOEP+vSb+teoV5f4s/5L/wCEP+vSb+teoUAFFFFABRRRQAUUUUAFFFFABRRRQAUUUUAch4/8Nyapp8epaZmPU7A+bHIn3nUclPxrR8IeJI/E2hR3XCXKfJcRd439DW9XmutQyeAfGCa7aIf7I1B9l3Gn8Mh6N9KAPSqKZDNHcQpNA4eNxlWU8EU+gAqrqOmWerWbWuo26XEL9UccVaooA84u/BOt+GLo33ge8LRg86dO37sD2rS0D4kWV7N9h1yJ9Lv0+VhONqO3+ya7WsfX/C2k+JINmp2qSOo+SXHzIfUGgDXVgyhlIIIyCO9LXmbWPizwC7SafM2taODudJTmVB6KK6nw7440jxGipBKbe6PW1n+WQfhQB0dFFFABRRRQAUUU2SRIYmklYIijLMTgAUAOqtf6lZ6XbG41C5jt4h1eRsCuN1r4jxm6OmeFLZtTvm4WRBmJT7mq9h4A1DW7pdQ8c3rXDk5Ono2YVoAju/HOteJrlrHwNYEqCRLd3I2pj1U960NC+G1pbXAvvEVxJrF9ncGuOREfRa7G0s7ewtUtrOFIYUGFRBgCpqAEVQqgKAAOgFLRRQAUUVheLvEkXhnQpLs4e4b5beLvI/oKAOc8c6rc6zqkPhDRXPnTkG9kX/lnFx0967PSNKttF0uGxs1CxxKFz3Y+prm/AHhuTTbGTVdUzJqeoHzZHf7yKeQn4V2NABRRRQAUUUUAMmhjuIWinQSRuMMrDIIrz3W/hXEs7X3hK7fS7gfN9njOI5D716LRTTsB47LqHjzw8ude0qC6gHRrT5mIqGP4qWRfZN4d1iMjgs0JxXtFMkijlQpKiup6hhmtFVkjN04njcvxU0+NsJoGrzD+9HCSKkh17xl4gGPDOirAD/FfDbgV6/FbwwJthiRB6KMVJQ6smCpxPM9J+GF3qNwt741v3umPJsUbMQr0WysrbTrRLWxhSCGMYVEGAKnorNtvctKwUUUUhhVPV9Og1bSbiyuYxJHKhGD69quUUAef/C7UZreG98M6k5a902Qn5v7hPFegV5r42ifwv420vxRbDy7SR/L1Fh3XoK9HhlS4gjmiOUkUMp9QRmgB9YviTwvY+JbMR3S7J4+YbhfvRn2raooA890zxHqPhDUI9G8W7pLVztttQHIx/tntXoEciTRLJEwdGGVYHIIqtqel2esWElnqEKzQuMFWHT3rgc6v8N7n5zLqWgM3J6yQ/wD1hQB6TRVXTdStNWsY7uwmWaGQZDKc49qtUAFFFFABQSFBJOAOSahu7u3sbV7i8lWGFBlnc4Arz671fVviBePp3h8yWOkI2Li9PDP7J6igC7r3jK71G/Oh+Doxc3bfLJc/8s4h359a1PC/gy10AG6uHa81KXmW6l5bJ7CtPQvD9h4esBa6fEFH8b/xOfU1p0AFFFNkkWKJ5HOFRSxPoBQBw3xP1i4i0230PS2/4mGpOFVR3jzhq6nw/o9voOhW2nWi7Y4U6e561w3hWNvF3xBv/EV0C1rp7GLT27EHrXpdABRRRQAVFc20N5bvBdRrLE4wyMMgipaKAPN9Z+FrW1y194OvX0+Uci0BxExrFm1jxv4eX/io9HjuIh0ayG4kV7FRVxnKOxLinueLxfFSyeTZN4f1eE93eEhaJPipYq+yLw9q8pPRkhJGa9llginjKTRq6nswzRHDFCm2KNUX0UYq/bSJ9nE8gi1jxx4gXHhzR4rdD1a9G0gVs6P8LGurhb3xhfSahJ1+yE5iU16TRUSnKW5SilsRW1rBZ2yW9rEsUSDCoowAKlooqCgooooAKyfEug2/iPQ57C4UbmXMb90fsRWtRQBw/wAP9enIn8N6yxGo6cdil/vTIP4q7iuF+IGh3MMsPinRBtv7D/W7eskQ6iun8P65beIdFg1C0PyyrlkPVD6GgDTpssSTRNHKgdGGGVhkEU6igDz/AFXwJe6PetqvgW4+yz53NYscRSH1NXPDnxAhvJ/7N8QxHTNTT5WWT5Ukb/ZPeu0rF8ReFNM8TWvl38I85R+6nX78Z9RQBtdelFeaLeeJfh5KE1ESaxomcCcfNMn1HpXc6Lr+na/aCfTLlJhjLKD8yexHagDSooooAKKKKACiiigAooooAKKKKACiiigAooooAKKKKACiiigAooooAKKKKACiiigAooooAKKKKACiiigAooooAKKKKACiiigAooooAKKKKACiiigAooooAKKKKACiiigAooooA8v8Wf8AJf8Awh/16Tf1r1CvL/Fn/Jf/AAh/16Tf1r1CgAooooAKKKKACiiigAooooAKKKKACiiigAqnq2mW+saXPY3a5imQqfUZ7irlFAHn3gbU7jQtXm8H6w3zwktYyH/lpF7+9eg1yHj/AMNyapp8ep6ZmPU7A+bG6fecDnZ+NaPhDxJH4m0KO54S5T5LiLvG/oaAN6iiigAooooAK5XxF8P9K12Q3UG7T9Q6i7t+HrqqKAPNIvEPibwM6W/ia1fUtNB2x3UA3SfVq7rR9f03XrYTaZdRzgDLKrcp7EVfkjSWNo5VDIwwVI4IrhdZ+G0QuDqHhS6k0m7U7vKhOI5T/tUAd5RXlkvxabwbMdO+IcAt7sLuSWAZRx/jT4Na8RfEuLf4fcadoMhwbrOJj9KAOm8R/EDSdAPkRlr69JwLa2+ZwfcVz0WgeKfHDrceI7ptK0/70dtbH5pF9GrqPDngfSfDmJoo/tN7/Hdzcu1dHQBm6L4e0zw/a+RpVpHAp+8VHLH1NaVFFABRRRQAUUUUAMmmjghaWZwkaDLMxwAK840eKT4geMn1m6Rv7H059tpG/wDFIP4vpVnxzqdxrurQ+D9Gb55sNfSD+CL2967XSdMt9H0uCxtFxFCgUepx3NAFyiiigAooooAKKKKACiiigAooooAKKKKACiiigAooooAKKKKAMvxJo0Gv+HrrT7lN6SISB/tDkfrXNfDDWZ7nRZdH1R/+JlpzlJEPUJnC/pXc15p4hRvB/wASrTXYgVstUPlXr9lx0oA9LopqOskauhyrAEH1FOoAKbLEk0TRyqHRxhlI4Ip1FAHnmpeHdT8HX0mreEyZbJjun08/dUdyorqvDfiew8TWPnWbFJV4lgfh4z7itmuL8SeDJ/t/9t+FZfsmppy8Y4Sf/eoA7Ss3XNfsPD9i1zqEwQY+VM/M59AK4tfizbQwPp93aSjXk+T7GBy7eo9qt6H4NvNUvhrfjNxPdMd0VmDmOEdvxoAp2umar8Q7xb/Ww9loiHMFmOGmHq4r0G0s7ewtUtrOJYoYxhUUcCpgAoAUYA4AFFABRRRQAVxnxM16bSvDn2TT/mvr5xCiDqVPDGuyJCqSxwByTXmmlg+NPindahLk2WhnyoP7shPegDs/Cegw+HPDVrp0HOxdzE9Sx5NbNFFABRRRQAUUUUAFFFFABRRRQAUUUUAFFFFABRRRQAUUUUAI6LIhRwGVhgg9681iZ/h545aJiRoerPuDN/yzlPRR7V6XWR4n0CDxHoU9jOo3sMxOeqP2IoA1wQRkcg0VxPw/1+eRJvDusMV1HTj5YL9ZkH8VdtQAUUUUAI6LIhR1DKwwQe9cJrPw9a2um1TwbOdOvQdxgU4jmP8AtV3lFAHDaH8QgLsaX4sg/s3UF4MjDETn/ZNdwrK6BkIKkZBHeszXPDmmeIrTyNUtklwPkcj5kPqDXDlPE3w7kLRmTWdDzk55mj9gPSgD0yisjQPE2meJLQTadOGfGXhJ+eP2IrXoAKKKKACiiigAooooAKKKKACiiuU8VfEbw/4SiP265E04ODbwHc/5UCbS1Z1dFeGar8ddWvn/AOKT0hdnrefLWU/xU+IE7b5LeyhPTah4qHUgupxVMwwlN2lUVz6Ior53T4rfEG2yY7Wxnz1Eh6Vt6T8ebizTb4s0l1k9bRdwoVSL2Y6ePwtV2hUTZ7bRXP8Ahrxroniq2STTLtDKwyYGOHX6iugqzt3CiiigAooooAKKKKACiiuY8Xp4sKwP4RNsXU5kW4OARQB09Fcn4S8Xy6tcTaVrUItdXtR+9Qfdb3WusoAKKKKACiiigAooooAKKKKACiiigAooooAKKKKACiiigAooooAKKKKAPL/Fn/Jf/CH/AF6Tf1r1CvL/ABZ/yX/wh/16Tf1r1CgAooooAKKKKACiiigAooooAKKKKACiiigAooooAK811qGTwB4wTXLRCdJ1B9l3En8Mh/jPtXpVU9W0y31jS57G8XdFMhU+oz3FAFmGaO4hSaBw8bjKsp4Ip9efeBtTudD1abwfrLfPDlrFz/HF7+9eg0AFFFFABRTZZUhiaSVwiKMszHAArhdZ+I6SXR03wlbNqd63CzIMwof9o0AdlqOp2Wk2pudSuY7aEfxyHArgrrxvrfii5ax8EWBVASJLy5GEI9VNSad8Pr7WbtdS8dXrXUpOTYI2YFrvbS0t7G1S3s4UhhQYVEGAKAOM0r4Y6ftabxQ51u5k5P2oblQ+gqne+Cda8N3Z1DwPenYOunTHEQHtXotFAHE6D8SLK7m+w6/E+lXyfKRcDakjf7JrtVYMoZSCCMgjvWTr3hfSfEcGzVLRJXUfu5MfMh9Qa4l9P8WeAWaXTJ31rSAd0kcxzKo9FoA9NornPDnjnSPEQWOKU214etpP8sg/CujoAKKKKACsHxf4kj8M6FJdcNcv8lvF3kf0FbU88VtA807hI0G5mboBXnWjQSePvGDa7dof7I099lpE/wDFIP4xQBs+APDcml6fJqep5k1O/PmyO/3kB52fhXYUUUAFFFFABRRRQAUUUUAFFFFABRRRQAUUUUAFFFFABRRRQAUUUUAFYHjXw+niXwpd6exwzDehHUEcit+igDkfhx4gfWvDKQ3nyXtmTDLGeoC8A111eZXGfBXxYW5/5c9fwj/3YmFemgggEHIPSgAooqO4uIbS3ee5kWKJBlnY4AFAEnTrXE+IvGlxNff2J4RiF5qMnytN1jh9cn1qhf67qvjm9fS/C+6201Di4vzxuH+wa67w94asPDdl5FkmZG/1szfekPqaAOSX4VQSWZvLi9lbXj84v/4lb0HtVrQvGN3pt+ND8Yx/Z7pflju/+Wco7c+td1WZrugWHiHT2tdQiDD+Bx95D6igDTBDAEHIPINFec2er6r4AvU03xAZL3SXOLe9HLRj0evQba6gvLZLi1lWWJxlXU5BoAlooo6UAcp8RvER8PeEppIRvuLgiCNB1+bjI+lWfA3h4eHPC1taMd87DfLIerE881yuT41+LDKebHQPldD92Vj0NemAAAAcAUAFFFFABRRRQAUUUUAFFFFABRRRQAUUUUAFFFFABRRRQAUUUUAFFFFAHCeP9Fuba4h8VaIMX1jjzgOskXcV1Oga3beINFt9QtD8sqglT1Q+hrQdFljZJFDKwwQe4rzaBn+HfjdoHJ/sPVX3Kzf8spT0Ue1AHpdFAIIBByDRQAUUUUAFBAIweRRRQBxHiD4fJLcnU/DE7aZqKncREcJMf9qodH8fXNhfDSfG1v8AYbscC6A/cv8Aj613tZ+saHp+vWRtdUtknj6jcOVPqKAL0ciTRLJEwdGGVYHIIp1eaSaX4j+H0jXGkSyato4O6WCU5kjHotdd4d8X6V4lhBspglxjL20nEifUUAbtFFFABRRRQAVHcXEVrbvPcSLHFGMs7HAAqSvC/ij42k8Q6i3h7RZyLOE/6VKh4f1WplJRV2Y168MPTdSb0RL44+Kl3rMsuk+EHMUA+WW96H/gNcBDp0STG4uXa7uj96eU5Y1Yhhjt4VigUKi9AKfXDOo5n5/js0rYuVr2j2/zFyaSiisjyQozxggEfSiigCmbAw3H2rSriTT7vr5sJwTXqXgP4sN5kWjeLiIrjhY7r+F/qfWvOahurWK9gMUwyOoPcGtoVXH0PZwGbVsLJRk7x7f5H1QjrIiuhDKwyCO4pa8i+E3juQyjwxrs3+kJxbSuf9YPSvXa7k01dH39KrCrBVIO6YUUUUzQKKKKACiiigDzHxq39n/GDwhJb/I19K0cpH8QHrXp1eX/ABD/AOSteAv+vl69QoAKKKKACiiigAooooAKKKKACiiigAooooAKKKKACiiigAooooAKKKKAPL/Fn/Jf/CH/AF6Tf1r1CvL/ABZ/yX/wh/16Tf1r1CgAooooAKKKKACiiigAooooAKKKKACiiigAooooAKKKKAOP8f8AhuTVNPj1LTMx6nYHzYnT7zgc7PxrS8IeJI/E2hR3PC3MfyXMXeN/St6vJvFurWXwq8WDXTMP7P1A4uLOM/OXP8QFAHrNcp4j+IOlaC5t4d2oX2dv2a2+ZgfeucGo+KPiIAdJB0jQpQMztxMw9RXWeHPBGk+G1WSCL7RefxXc3MjfU0ActF4d8UeN5FuPE122maf96K2tThnX0eu60bQNM0C18jSrSO3U/e2jlj6mtGigAooooAKKKKACiiigDlvEfgDStedrmIGw1A8i8t+HrnI9f8T+BZEt/Edq+qaYPljubcbpAPVq9MpskaSxskihkYYIPQigDP0bxBpmv23naXdxzgD5lU8p7EVpVwmtfDWA3H2/wrcvpF2p3eXCcRyt/tVg6r8U9U8FafLa+M7HZfEbbe4iH7pz2yaANjxvqVxr+sweENHY5lw19IP4Y/T6122l6bb6RpkFjZrtihQKPf3rlvhvo8MGjHWHuFu7zUT5skwOdoP8I+ldpQAUUUUAFFFFABRRRQAUUUUAFFNkkSKNpJWCIoyzE8AVwWv/ABTsrWc2Ph2B9Vu2+UPCN0aN/tGi1wO/pGZUUs5CgdSa8gl/4WF4iTbqlzBptuehtThsVXT4a3JffceMtXlB+9Gz8VqqUmQ6kUezJIkq7o2DL6g5p1eMSfDSUnNv4v1a3H91HOKlhsPHnh0E6HqSamo4xetnIodKSEqkT2KivN9F+KRhuV0/xhZPp9x0a5A/cn8a9DtrqC9t0ntJVmicZV0OQazatuaXuS0UUUgCiiigAooooA5j4geHj4h8KzwwER3MP72KQdQV5wKd4B8QjxJ4Tt7lhslizDIp65XjNdIQGUhhkEYIrx/Udfi+F/xAuYPLe5h1rH2W0h5KP649KAPUtY1qx0Kwa71KdYo1HGTyx9BXDQ2ur/Ea6FzfiTT9BRv3UHR5v972q1pHhC+16/XWvGjiVid0NiD+7Qdsj1rvVVUQKgAVRgAdhQBBYWFrplklpYQrDBGMKijirFFFABRRRQBBe2VvqFo9teRLLDIMMjDg15/cWOq/Dq7a80vzb/Q5GzNbdXh/3favR6RlDqVYAqRgg96AKGja3Y69YLd6dMsiEfMAeVPoazfHPiBPDfhS5vD99/3MY77m4FYmseEb7QtQbW/Br+W4O6axP+rkHfA9a5uDX0+J3jmxsPKeC10wFr20m4JcdDigDtvh34fbQ/DERu/mvbn97PIerZ5Ga6ukVQihVGABgCloAKKKKACiiigAoopk00dvC807rHGgyzMcACgB9Feea78U4FuW0/wvavqV0eFnQZiU+5rBmt/H/iJcazfRaZEfu/Y2wwFXGEpbEuSW56+7pGhaRgqjuTSo6yKGRgwPcGvGI/hrcb91z4w1acHrGz8UP8NJ92638Y6tCByEV+Kr2MifaRPaKK8eit/iB4eUnRr6HUox94XjZOK3dD+KkDXK2Hii1k0y56GZxiJj7GocJR3KUk9j0SimQTxXMCTQSLJG4yrKcgin1JQUUUUAFFFFABRRRQAVkeJ9Ag8R6FPYzKN7DMTnrG/YiteigDifh9r80sEvh/V2K6jpx8v5/vSoP4q7auD8faLc2d1D4r0UYvLL/j4Uf8tIu4rq9C1q21/R4NQtD8kqgle6n0NAGjRRRQAUUUUAFFFFABXHeIvh9Z6lOdQ0eRtM1NTu86DjzD6N7V2NFAHnmm+OtQ0K+Gk+OLUwSAgJfRj90R7n1rstQ1yx0/QJtYlnRrOKMyeYp4I9qn1LTLLV7NrXUrdLiFuqOM18nfGvWz4d1CTwp4f1aaawYbpoi2RGT/AKAPY/hb8abbx1rN9pd4qQXEbk2/YSJnj8a9Yr869E1m88P6xb6lp0hjngcMpB6+1fcfw08eWfjzwpBfQuBdIoWePPIYdTQBF8U/Fo8K+E38liLy9Jht8dmPevCNOtTa2p38zTHzJT6setdZ8YtTfVfiNbaNndBZxCfPYNXPMcsTXHXld8p8ZxDiXKpGgtlqxKKKK5j5cKKKKACiiigAooooAp36zxGHULA7b2zYPCw7etfR3gfxLB4r8KWuowNkldkmf74HNfPvUEeoxXbfAjVWttS1Xw43EcH75Pck811UJfZPreHsS7yw79V+p7bRRRXWfXBRRRQAUUUUAeX/EP/krXgL/r5evUK8v+If8AyVrwF/18vXqFABRRRQAUUUUAFFFFABRRRQAUUUUAFFFFABRRRQAUUUUAFFFFABRRRQB5f4s/5L/4Q/69Jv616hXl/iz/AJL/AOEP+vSb+teoUAFFFFABRRRQAUUUUAFFFFABRRRQAUUUUAFFFNlljgiaWZwiIMszHAAoAdVTUtUsdItDc6lcx20I/jkOBXG6x8RxNdnTPCFq2p3jcCdBmJD7motO+H15q92upeOLxruYnJskP7kfhQBDdeNtd8U3DWXgexMaAkPe3S4Qr6qauaf8LNOe0uD4jmk1a6uUw0k5z5RP9yu3tbSCytkt7SJYYUGFRBgCpaAPP/BGq3OiavN4P1lvngy1i5/ji9/evQK4/wAf+G5NU0+PU9MzHqdgfNidPvOB/B9K0vCHiSPxLoSXPC3MfyXMXeN+4oA3qKKKACiiigAooooAKKKKACiiigCO4uIrW3ee4cRxRjczN0ArzbS7AfErxBPqmtW4k0S1YxW1vKOHYfx1a8a6jceI9bg8IaO338PfyDoIvT613Omadb6TpsFjaLtigQIv4UAcJfeB9Y8O3jaj4HvSM9bCdv3QHsKvaD8SLS5mFh4ihfSb5flPnjakjf7Jrt6ydd8M6V4ig8vU7VJXAwkmPmQ+oNAGqrK6hkIKkZBHelrzN9M8V+AWaXSJ31jSAd0kUx3SqPRa6jw5450nxEFijkNrenraT8SD8KAOkooooAKKKKACq99fW+m2Mt3eyrFDEu5mY9KsE4GTXk+talL8QPEr6dayFdEsX/fMvSZx1U04pydkJuyuNvdT1X4iXRW2aXTtBjbG4cPN/wDWrd0rRdO0ODytLtUhB+8wHLn1NW4oo4IUhgUJFGNqqOwp1dsYKK0OaUnIM0UUVZAUUUUAV9Q0+z1W1NvqVulxF/dcdK5qJdX+H919r0lpL7Rif31qeWiH+yK62l7EEZBGCPUVMoqS1KjJx2Og0bWbPXtLiv8ATpRJFIO3VT3B96v15ELiX4e+JVvbckaHfPi4i/hhJPUV61BMlxbxzRNuSRQykdwa4pRcXZnUndXH0UUVIwopksscETSzOERBlmY4AFef6l4j1PxjfyaR4QzHZodtzqB4BHoh9aANHxL40kjvBovhiMXuqyfKWXlIPdq5rXfh1dw+HZdZkuXu/EEWJVlY5EeDkhfwrvPDXhax8M2hS1UyXEnM1w/LyH3NbMiLJGyOMqwII9jQBjeENei8R+GLW/hOSV2P/vDg1t15p4XdvCHxDvvD0x8vT70+ZYIe7dWr0ugAooooAKKKKACiiigDH8V65F4e8N3V/M23apVD/tkcfrXnug/D69u9CTxAtw9p4iuMyu4OA/OQD+FX/F0jeLfHun+Goj5mn2582/A/hYcrXpMcaxRJGgwqKFA9hQByHhnxo1zdnRvEcX2LVYvl+bhJvda7GsLxN4UsvEtqFnzDcx8w3MfDofrXOaT4n1DwvqEei+MAfKY7be/H3COwY+tAHoFFIjrIiujBlYZBHcUuRnGaACiikd1jRnchVUZJPYUAVNV1S00bTZb2/lEcMYyST1PoPevL7m61f4izl52k03QQ3yIOJJR7+1O1C9k+IXieSEMV0TTnwfSZgetdUqqiKiKFRRgAV0U6d9WYznbRFTTNKsNGthBplslunfaOtW6KK6TEKKKKBBVXUtLsdYtzBqdslwnbcPu+9WqKBnKWs+r/AA8ufNt3k1DQnb95G3Lw/T2r1DS9UtdY06K9sZRJDIMgjtXNEK6Mkih0cYZT0Irk7O/l+HXiZAWZtB1GTbt/54yHoB7VzVKdtUbQnfRnrlFIrBlDKcgjIIpa5zYKKKKACiiigAooooAbJGksbJIoZGGCD0Irza1d/h540a0kY/2Jqj7o2b/lnKf4R7V6XWP4n8PweJNDmsZgBIRmGQ9Y37EUAbAORkciiuK+H+vzzRTaBrBKalp58v5/vSoP4q7WgAooooAKKKrXeo2dgu68uY4R/ttigCzRXNXXxD8KWblJdctPMH/LNXyxrCvPi/pkGfsWl39/jp9njzmgDu72TyrGaQ5+VCeOtfGvid/h5qOu37yzammoPOwdm+5nNfQn/CwfEWtoU0bw3c2wkBA+1pjH1r5A8VxXMPizUlvkCXHnsXVegOaANabwbbTu0lhrFoIcZUSvhq3fhp4q1H4ceMopYn+12Ex2XCxHK49R71w+ieHtU8RXottItJLh8/MUXIUeprqrzSrbwQUtTeLe6w5H7uE5jTPY+9AHoWq6rFr3jq71S3JMcqfLnqB6U6sjTLSSw1ARzDEk0AlYehNa9efV+Nn5znF/rs7hRRRWR5QUUUUAFFFFABRRRQADrWx8MbgWvxVIJx9oQL9axx1rV+G9sbr4qow5+zqGNbUfjPbyK/11W7M+jqKKK7z9ACiiigAooooA8v8AiH/yVrwF/wBfL16hXl/xD/5K14C/6+Xr1CgAooooAKKKKACiiigAooooAKKKKACiiigAooooAKKKKACiiigAooooA8v8Wf8AJf8Awh/16Tf1r1CvL/Fn/Jf/AAh/16Tf1r1CgAooooAKKKKACiiigAorzH4jeOfEujeMNL8PeFIbRri8haZnuegArD/4Sb4tf3NF/KuHEZjhMNPkrVFF9mbQoVaivCNz2qivFh4m+LZIATRefauo+FXjTWPFkWr2/iKGCO80258ljB91qeHx+FxUnGhUUmuwp0alNXmrHoNFY3iDxXpXhuAtqNyqykZjgB+eT2ArjDd+LPH7FbKNtF0Zzhmk+Wcj1FdpkdB4j+IWl6G5trYNqN/nb9ltvmYH3rAi8N+JvG0i3Hii7OnWH3ora2OGYej11XhzwVpPhtFe3i8+7/iu5eZG+proaAM/R9C03QbXyNKtI7dD97YOWPqa0KKKACiiigArzXWoZPAPjGPXLRCdJ1B9l1En8Mh/jNelVT1bS7fWdLnsLxd0UyFT6jPcUAWYZo7iFJoHDxuMqy9CKfXn3gbVLnQ9Wn8H6y3zw5ayc/xxe/vXoNABRRRQAUUUUAFFFFABXP8AjLxKnhnQ2nTDXcx8u2jP8b9hW5c3EVpbSXFzII4o1LOzdAK868O28vjrxZJ4j1CM/wBm2bGOzhfozD/loKANzwD4afR9Me+1DL6lft50zP1TP8I9q62iigAooooAK5fxH4B0nXy06q1jfE5F3b/K9dRRQB5nHrninwLIlv4gtm1XSx8sdxbjMij1eupbx1oR8OXOsQ3sckNtGXkUNyp9DXQyRpLGySKGRhgg9CK+RPjz4i0iLxBJo/hRvs8a8XawHCO3cGgD1j4YfHa28Ya7c6Tq4jtpjIfsrdA654H1r2Wvzhtbqeyuo7m0laKaJtyOpwQa+vfgn8YIfGOmppGsyLHq1uoUEn/XDtj3oA7P4keIpNB8Lutm2L27PlW/+9WL4U0aPRPD0MKjEs/76Y/7Z61m+PZv7e+JelaPyF00i6Yf3s11jkFzgYHYV1UY6XMKr6DaKKK3MQooooAKKKKACiiigCpq2mwaxpFxYXS7o5Fzj3HSofhVrk89jdaBqLFr3TWwf9zotaQ4IrkLGb/hH/jNG6cDWwIyPpWNaN1c1pvWx69VPVNVstGsXu9RnSGJB1Y9T6Cs7xN4rsfDNoHuCZbmTiG2j5eQ+wrm9L8L6j4qvo9Z8YkiIENBYD7oHbcPWuQ6Cuq6z8R7rdIJNN0BW4H3ZJv/AKxrvtM0yz0ixSz0+BYYUHCqMfjVmONIo1jjUKijCqOgFOoAKKKKAOE+KOkzPpEGu6YhbUtMcPER2Un5q6nw/q0Ot6Da31u4dZIxuI/vY5/Wr08K3FvJDIMrIpUj2IrzrwFM3hvxZqnhO4Oy2RvMsi38eeTigD0miiigAooooAKz9d1SLR9Eur6ZwgijJUnu2OB+daFebfEG4fxD4n0rwhbkmC4bzrp0/g2nIBoAufC7TJW0658RaihXUNVctID2UHiu9qO2gS1to4IlCpGoUAe1SUAFUtW0iz1vT3s9RhWWJx3H3T6j3q7SMwRGY8ADJoA8r1HXbr4QRNJrE732gsT5JJzKp7CvFLn4+6zefE221mORotMik2C1zwUJ6n3rY+NNtr3i3XJvsms215awnEenwP8AOPqPWvENQ0m/0mURalaSWznoJBigD9CdG1a11zR7fUbCQSQXCBlYGuV+KfiGfSPDX2TTyDeXziFR3CngmvHP2b/iT9muj4T1WY+XJzasx4XHavQPFD/258YtOgJ/0fT4iHTsxPeqiruwm7K5teH9Hh0HQrexh52ruZj1JPNaNKetJXecgUUUUCCiiigAooooAKztf0mPW9CuLJ13OVJhP91+xrRpVbawYdqBlX4V6/Jqnh6XTrty93pT/Z5Wbqx55rua8j8NyHw/8aJNJi4h1S3a5cjpur1yuCSs7HWndXCiikZlRSzEADuakYtFY974u0DTiwvdWtodvXc/SsO7+KvhqIH7Fd/bz2FvzmgDtKK8zf4uzXEpg0zwrqsjnpK0fyUh1v4lauN2jadZ2i/9PYxQB6bUc9xFbRmSeRY0HUscV5t/wi3j7Vhu1rWIbdm+8LU4A+lPg+DkPm+ZfeJNVuieWR5floAo/ELW9D0rULfxRpus2sd9akLNHv5lj7ge9ayfGPQrjTYLuwguLzzV3FIVyV9jWpa/DHwtBzcaZFdnsZxuxXL6fplj8N/HD2ps410fVXzFKV/1cp/hHtQBYHxV1PUcrpPhXUY8cbriPANKbv4rajhrODTLWBv+ev3gK9NGMDHTtiigDzL/AIQLxVq/GteIZbYHr9kfFWbP4P2EJzfa1qWoe1xJmvRKKAOWtfht4TtgrHRbaaUf8tZFyxretNKsLAAWdpFDjpsXGKt0UAFfOmtfAV9c8e6hruv30dlohcu7Zw1fRdch8R/Ax8d+Hjp66hPZMMkeW2A/s3tQB85+Nfibo/h2yk8NfDS1S2iQeXNqAHzyfQ1594CspNe+I2lW85aU3F0PMZuc+pNXfGHwv1zwnr0umFPt7xp5jNbjdtX1Ndd+zbog1P4iyTSpxZxeZkjoc0Adt8TdJ/4R/wCJEEsSbbKa1WNP96scjBxXr/xk8Kvr/hVb61BNzpjeeir1fHavGbO6+2WiTYw+PnX+6fSuKvG0rnxPEGHcayrLZ6fMnooornPmgooooAKKKKACiiigAHr6c12HwN06S78VavrbL+4ZBHGfcda4TUbl7e2CwIZLiY7I0HVs8V9AfDPwqPCXgu2smJaWX99IT1y3OK6sPHXmPquHsO3OVd7bL9TrqKKK6z7EKKKKACiiigDy/wCIf/JWvAX/AF8vXqFeX/EP/krXgL/r5evUKACiiigAooooAKKKKACiiigAooooAKKKKACiiigAooooAKKKKACiiigDy/xZ/wAl/wDCH/XpN/WvUK8v8Wf8l/8ACH/XpN/WvUKACiiigAooooAKKKKAPGviD/yXXw5/14yfzNbR61i/EEZ+O3hwD/nxk/ma3Chz2/OvzDiv/f1/hX6n0WWfwfmCffH1rx3TPiHrXhPxR4n0bw3pcl/eXl5v+QZKjHP869jRDvHTr61x/wAOPDaa5qPjKWCQ22ow6gPIuE6g4JAPtmujhD/ean+H9TPNP4cfUr6H4hs7CX7brXgvxBqeoMdxa4j3CM/7NdePjNIAAPBOugDoBF/9aug8NeLbn7cdD8UKLfVI+FkxhJx6iuxr9HPBPL/+Fzyf9CTr3/fr/wCtR/wueT/oSde/79f/AFq9QooA8v8A+Fzyf9CTr3/fr/61H/C55P8AoSde/wC/X/1q9QooA8v/AOFzyf8AQk69/wB+v/rUf8Lnk/6EnXv+/X/1q9QooA8v/wCFzyf9CTr3/fr/AOtR/wALnk/6EnXv+/X/ANavUKKAPCPGHjyfX0trrTvBeuQanaSB4pvKxkD+En0rY0j48jUbP5fCerz3EPyXIhjyEfuK9frzfWlm8BeLk1m0UnR9RfZdRIPuOf4zQBX/AOFzyf8AQk69/wB+v/rUf8Lnk/6EnXv+/X/1q9NhmjuIEmgcPG4yrL0Ip9AHl/8AwueT/oSde/79f/Wo/wCFzyf9CTr3/fr/AOtXqFFAHl//AAueT/oSde/79f8A1qP+Fzyf9CTr3/fr/wCtXqFc94z8Sr4a0RpYsNezny7WM873PSgDyPxb8XrrxQsei6R4Y1bG/N/GU+by+4FdJp/xYj0vT4bKy8Da6kECBEAi7Cuv8CeHZNI0przUSZNSvm864ZhypP8ACPauqoA8v/4XPJ/0JOvf9+v/AK1H/C55P+hJ17/v1/8AWr1CigDy/wD4XPJ/0JOvf9+v/rUf8Lnk/wChJ17/AL9f/Wr1CigDy/8A4XPJ/wBCTr3/AH6/+tR/wueT/oSde/79f/Wr1CigDy1/jJJJGyHwVrwDDGRFXyd44aGTxfezW9rcWqyyFzFc/fBPrX6B18a/FHwlrWtfEy/mis3S2Z+blhhFHqaAPJq0NDvNQ07WILzR2dbqFgylOtdDc6BoHh7Kazfi/mYZT7G2Qv1qHSWvfFWt2Oi6LapA8koRZI1+bb6k0Ae2fDXxTceOfiXfalfoElgsVjIH94CvXK840Dw5B4L+LMtlb8CXT0Eh/vPjk16QeDXZS+A5qnxCUUUVqZhRRRQAUUUUAFFFFABXlvxj16fwnr/hfXLKLzbiCRgqf3s16lXn/jrSofEnxB8K6Vc58oOxbHY9qzq/Ay4fEU/D/jQwXh1rXfBuuX2pynerGPckQ6jZXWf8Lnk/6EnXv+/X/wBatfwhr13p2rTeFvET/wClQnNrM3AmTsB7gV3NcR1Hl/8AwueT/oSde/79f/Wo/wCFzyf9CTr3/fr/AOtXqFFAHl//AAueT/oSde/79f8A1qP+Fzyf9CTr3/fr/wCtXqFFAHl//C55P+hJ17/v1/8AWrj/ABj8RLi71TTdds/CGsW0+nPlpJI8AqeoNfQFQXtql7Yz20ihllQqQR6igDzC0+OIvLVJ7fwdrcqMPvpFkE96m/4XPJ/0JOvf9+v/AK1XPhtey6Tf6j4Rv3Jk0+QtDI3/AC0Vjnj6V6JQB5f/AMLnk/6EnXv+/X/1qP8Ahc8n/Qk69/36/wDrV6hRQB5VdfHD7JbPNP4O1uJFGdzxYA+tcn4P+Is0Gral4gvPCOsXU+ovlHjjyqKOwrvviTfzalqGm+EbFysmouGldOqKp6H613ljaR2FhDawqFSJAoAHoKAPNv8Ahc8n/Qk69/36/wDrUf8AC55P+hJ17/v1/wDWr1CigDy//hc8n/Qk69/36/8ArVHP8ZpGt5FPgrXQChHMXtXqlRXWfsk2OuxsflQB8Aa9rNynjC+1Cw8+wkklLbc4ZfrUlv411BQ39opHqLHo1yNxFdRq3w38UeK/iBqC2GmTCJ5z+/dfk/Ou90r9nbSfD2mtqXxE1hIIIxuKxNgE+lAHkGmTwXWpw3ej29wuqJIJAsP3Vwf5V7x8MNXu/EviS/1HVABdw4RsV5p4o8e6TLNH4e8BabHZ2rSCL7Zt/evk4616V8N9Hl8LeIP7MuWYzTIHYt1bIzWlL40RP4T1M9aKU9aSu05QooooAKKKKACiiigAooooA8x8f+LbfwV8T9J1S5tpZv8AR9gMYrsI/GPjXXoUk8P6RHAkgyj3I4IrG1ewtdb+M+maTfQrNE1kZCrDOPet+ex8Q+ALlrnSnk1XRCcyWzcyR/7vtXFU+NnVD4URDR/ibqny6vqFhbR+lrwRSr8I57xxNqvijVDJ3jilwtdp4e8T6b4ls/O0+YeYv+thb78Z9CK2KzLOLs/hX4cgUC8ga/I6m4Od31rbs/B/h6wx9i0e0hx02RgVs0UANSNIkCxqFUdABinUUUAFFFFABWN4p8PQeJdCmsZQBJjdDJ3jfsRWzRQBxXw/8QzXME2hauSmpacfLIf70qD+Ou1rgvH2j3Gn3cPi3RVxd2ePtKjrJF3FdboesW2vaPb6haH5JkDbe6n0NAGhRRRQAUUUUAFYXi7xJF4Z0N7psNcSfJbxd5H9BW1PPFbQPNO4jjQZZmPAFecaLDL4+8YSa5eIRpGnvstIn/icfxigDY8DeFms9Mnv9aQT3+pHzJTKMlVP8H0rY0nwlouh6jNe6TYxWks4w/lrgGtqigBGVXQq4DKRgg96+ePiB4Mm8E66+oWStJo96+5+5ic9c+1fRFVdS0211bT5bK/iWWGVcMrCplFSVmc2Jw0MTSdKpsz5lBVlDIQysMgjvS1ueMfh/qngq6a50qKS/wBHkb7ijLxf/WrnLW9t71SbaQMR95e6n0rgnBwep+eY3L62Dlaauu/QnooxRWZ54UUUYzQAU2SVIImllYKijJJqC6v4LRhG7b5m4SJeSxrtPAnw0vvEtxHq3ieJrbT0OYbRuGc/7XtWkKbmz08DltbGS0Vo9yX4W+B59c1WPxNrMRjtIG/0OFhyx9T7V7mBgYFRwQRWtukFugjjjG1VUcAVJXfGKirI/Q6FCFCmqdNaIKKKKo2CiiigAooooA8v+If/ACVrwF/18vXqFeX/ABD/AOSteAv+vl69QoAKKKKACiiigAooooAKKKKACiiigAooooAKKKKACiiigAooooAKKKKAPL/Fn/Jf/CH/AF6Tf1r1CvL/ABZ/yX/wh/16Tf1r1CgAooooAKKKKACiiigDifG3wv0rxxqlpqN7d3dpdWiGOOS2facGue/4UHpn/Qx61/3/AK9XoqJU4Sd5RT+RSlJbM8o/4UHpg6eI9a/7/wBdb4F+H+m+ArS7h0ye4nN3J5ssk7bmZq6qiiNOEfhSXohOTe7MPxN4XtPElntlzDcx8w3CcMh+vpWFoPie70bUBoHiw+XKPlt7s/dlHYZ9a7msvX/D9j4i09ra+jBP/LOQfeQ+oqxGpRXA6Pr194T1JNB8VEvbscWmoH7pHZWPrXeqwZQykEEZBHegBaKKKACiiigAooooAKp6tpdvrOlz2F4u6KZCp9R7irlFAHn3gbVLnQ9Xn8Iay3zwZayc/wAUXYfWvQa4/wAf+G5NU0+PU9MBTU9PbzYmT70gH8P0rS8IeJI/E2hJc8Lcx/Jcxj/lm/cUAb1FFFAEV1cw2drJc3MgjiiUs7noAK878NW0vjfxXJ4l1FD9gtGMdlC/3WI/5aCpfGV/P4o8QQeEdHY+XxJfSj7vl91+td3p1hBpenQ2VomyGFAiD2oAs0UUUAFFFFABRRRQAUUUUAFfPf7QnhDxBHBJr2i3sq6cFxc26Nj8a961LUrXSbCS8v5VihjGSSa4a1ttR+Id+LvUla18Pxk+TbHhpz6t7UAfD9fUH7Nnw8NlZP4p1KHEs3yQK45UD+Kl8Yfs5wXvjeyvtDKw6ZLKPtUPdR7V7zp2nwaXp0FlaIEhgQIoHoBQB5r8VbV9N1/Q9dtlwBP5d0/+xxXRrKs8azR8pINy/StjxVoEPibw5daZMdvnJhXHVT61wHgfVZriwl0fUFMd7pzGLY3UoOjV0UZdDGoup09FFFdJgFFFFABRRRQAUUUUAKODk9Bya5TwfF/b3xZ1W+kG+2sEX7O3+13q/wCLtbOh6E7248y9n/dwQjq+eDiui+H3hkeG/DEUcvzXNx++lY9ctzj8K560tLG1Na3Dxv4YfXLFLzTmEWqWR8y2l9/SpfBfihPEWl7J1MOoW37u4gb7ykcZ+hrpK8+8X6VdeHNaTxbocZYKQL+BOsqetcxueg0VS0jVbXWtLhvrGQSRSrnI7HuKu0AFFFFABRRRQB5x8RbWTQ9d0vxhaqfLs38u5RP4wxwCa9BtLmO8s4rmFgySoGBHuKr6zpkWr6Pc2U6hllQgA+uOK474X6lLBbXfhjUmJvtLchie6k8UAd/UV1cJaWc1xIQFiQuSfYZqWuB+KGpzyWtn4b01yt9qbjbj+4DzQBV+Hdu/iDXdS8XXY3pcvstA3/LMDg4r0iqGi6XBo2jW1jaoESJAMD171foAKKKKACgjIwehoooA5vxl4iXwX4YuNTt9OkuigJ8uBe/qa+MPHnxK13x5qLy6nO0dvn5LZDhQPpX3ZetbpYzNeBTAqEyb+mO9fM3ib4Pt8QbzU9e8IQx2dqjHyI8YE2OuKAPM/hB4d/4SX4ladZsMojeax7DbzX0r8RIDofjzQtfUbLZU8iX0JPArj/2b/Al9o2p6rf63ZPbXMDeVGJBgkd8V7P428OR+J/DFxZOP3qjzIT6OORTTs7iaurFA8gN/eAb86Sue8F6xJqWlPZX3Go2B8u4U9uwroa707q5yNWdgooopiCiiigAooooAKVdobLnCjqTSVz3jTV207RTaWuWvL8+RGq9Vz/FSbsrjSvoQfDqH+3/H+r67MCfsDm1iY9wc9K9Y6jBrn/BPh0eGvC9rZOAbjbuncdXY+tdBXA3d3OtKyscV4g8ArNef2t4ZmOnaknzbUOI5T/tCmaB4+Zbv+yvF0H9nagp2iVhiOY/7NdxWVr/hvTfEdkbfUoFc4wkoHzRn1BpDNUEEAg5B70V5ql14h+Hcyx3wfVdBBwki8yxD1b2rvNJ1mw1yxW70y4SeI9Sp6H0NAF6iiigAooooAKKKKAGyRpLG0cqhkYYKnoRXm2nu/wAPfGr6dOx/sXVJN8Lt/BKf4R7V6XWL4r8Ow+JdClspAFlxugkPWN+xFAG1RXGfD/xFNeW0uiasSmp6cfLYP96VR/HXZ0AFFFc/4y8Sp4a0Rpkw13MfLto/779hQBzvjfU7jX9Zh8H6O3MuHvpB/DF6D3rt9L0230jTILGzXbFCgVfU47mud8B+Gn0jTXv9RzJqd8fNmd/vLn+H6V1tABRRRQAUUUUANkjSWNkkUMjDBUjgivPPFXwb0PXpjdafu0256/uPlVj7ivRaKNyZRjJWkro+db/4W+ONI3GGW2vbfPyhB8341gzWHiu1J87w1eShTg+WnWvqiisnRg+h5dTJ8FUd3C3ofLUGk+LrxlWHw9cw7+hkXp9a6HT/AIR+MtWZW1K7t7S1PVV4evoSihUoLoVSynB03dQv6nC+E/hNoHhn968Z1C56+bc/MVPtXdAAAADAFFFanppKKsgooooGFFFFABRRRQAUUUUAeX/EP/krXgL/AK+Xr1CvL/iH/wAla8Bf9fL16hQAUUUUAFFFFABRRRQAUUUUAFFFFABXFal8UNI0fV4tM1GGaC5mYLGjfxZrta82+M3gzT9e8Lvqsji21DTv3tvcDg5HagDp9b8Y2eh3dla3EEsk17/qlTvW/DJ50KyFSm4Z2nqK8f8Agzqp8Zo+o6+6y6lY4jjjbqgHGcV7HQAUUUUAFFFFABRRWJr/AIx0LwyAus6jDbSsMxxufmf2FAHE+KyD+0B4RAOStpNn2616jXnHhOwuvEvjO48W6jbNBAg2WCv97ae9ej0AFFFFABRRRQAUUUUAFFFFABRRRQAUUUUAUNZ0az13TZLLUIg8bjg91PqPeuM0/VtR8Dagmk+IGafSnbbaXnXYOwY16FVTU9MtdXsJLS+iWWJxjBHQ+o96ALMciTRrJEwdGGQwPBFOrzqG41D4dXwt71pLzQZW+SY8tB9favQLW6gvbZLi1lWWGQZR1PBFAEtFFFABRRRQAUUUUAFea6zDJ4B8Yx63aITpOoP5d1EnRHP8Zr0qqeraXbazpc9heLuimQqfUe4oAswzR3MCTQOJI3GVZehFc/418TDw3o26H5r25PlWqernpXOeENcfwtd3nhnxHMI1s1MlrM/Qw9s+9J4ZtJvGniuXxNqcZ+w2xMdlC4+VsfxigDd8B+GW0LSWub7L6let51w7dVJ/hHtXVUUUAFFFFABRRRQAUUUUAFZ2t65ZaBp7XeoShFHCr3c+gqLxF4jsvDmnm4vG3SNxFAv3pW9BXMaJ4dvvEuoLr3ixcL1trE/djHYketAEWn6PqHjjUU1bxCHg0yNs21l03+7D0r0CONIYljiUIijCqBgAUqqEUKoAAGAB2paACiiigArz/wAd+GLmG7XxN4eQ/bIObiJP+WyelegUU07O6E1c8+0TXLXXrET2rgSrxLEeqN3FaNUfE/gKUXja14TcWl+vzND0jl+o9awrDxzHHP8AY/FNrJpN0Dt3zDCyH2rrhUUtznlBrY6uimwSxXUIltpUkjPRgafg1qZiUUuDSOVijMkjqqL1JI4oAKrajqVppFk11fzLFGo4z3PpWFqnjmxtpDbaNE+rXp48m3GSp96u6B4Hv9cvI9Y8aMHxhobJfuqP9oVnOoomkYNkfg7QrrxPrI8Ua5E0dvE3+gW79R/tEe9em01EWONUjUKqjAA6AU6uNtt3Z0JW0CmyRrLG0cihkYYIPcU6ikM81Qy/DnxWEfJ0DUX+U/w2z98/WvSUdZI1dGDKwyCO4qjrej22u6TNYXqBo5B+R7GuQ8GaxdaNqknhPX3PnwnNpO3SZewH0oA76iiigAooooAK808Zxt4S8aWHiqH5LKVvL1Ajvnha9LrI8UaHB4i8O3Wn3Kblddyj/aHI/WgDS+0x/YvtWf3Xl+Zn2xmvOvBkTeK/G+o+J7keZZwt5ensf4ezVzreM7//AIQo+FBIT4jWTyTH38vOP5V6v4Z0WDw/4etdPtk2KiAsP9o8n9aANWiiigAooooAKKK4/wAc+JZ7KOPRdF/earffKijnYp4JoAyvEl9ceNPEH/CMaTIyWULA386dsfw59672wsLfTLCKzs4lihiXaqqMCsrwl4ag8M6Mlsn7y4f555m+87H1NbtACBFViyqAT1IHWloooA858b+HbnStTXxR4fj/AHq/8fcCD/WjuxqzpGsWeuWIurCUOOjr3Q+ld4yh1KsAVIwQe4rz3xJ4DurK8bWvBjrbXQ5ktT/q5B349a2p1OXR7Gc4c2qNOiuX03xzatN9j8QQSaTeDjE4wHPqK6eJ0niEsMiujdCCOa6k09jnaa3FopcGjBpiEopJXSGIyTOqIOpJFcvqPjq0WX7L4ehfV7wnaVgGfLPvSbS3Gk3sburavaaJYPd30gUAfIndz6Cqngrw5c6zqh8VeIYyrkYs7dv4E9SPWn+G/At5qF+mteM3Weccw2g+5GPcetehqoRQqgAAYAHauWpU5tFsdEIW1YtFFFYmgUUUUANliSaJopUDo4wysMgiuC1fwPe6PfnWPBE4tphzJZsf3Tjvgetd/RQByXhnx5a6xOdP1OF9O1NODBNxv919q62uf8TeDtO8TQ5nDQXS/cuoeHX8a5iz8Sa14Jul07xbGbnTxxDqEY4Rf9s+tAHo9FQWV7bajaJc2MyTwyDKuhyDU9ABRRRQAUUUUAcD490i50y+h8XaIuLm1wLpR/y0i7j611+i6vb65pEGoWhzHMgbb3U+hq7JGk0bRyqHRhgqRwRXm2nPJ8PvGz6ZMx/sXVH3QO38Ep/hHtQB6Nc3MNpbSXFzII4o13O7dAK878P20vjrxVJ4h1CMjTbN/Ls4X6MR/GKm8ZahceJ9eh8IaO2EOJL6UH5fL7rn1rudN0+30rTYLK0XbDAgRR7CgC1RRRQAUUUUAFFFFABRRRQAUUUUAFFFFABRRRQAUUUUAFFFFABRRRQAUUUUAeX/ABD/AOSteAv+vl69Qry/4h/8la8Bf9fL16hQAUUUUAFFFcF4h+K9h4b1+LSr/TLvzZmCxuB8r/SgDvaKo3Op/Z9FbUPs8jhY/M8pfvYxmsvwh4wh8YWUl3a2U9tCjFQ0w+8R1xQB0VFFFABRRRQAV55eT6j4r8bRabeaTcQaRa/NI8g+SY16HRQB4d420PXfBvxMsfEHgXSZZ7ecBbyCFfkI+lbnii8vb7xf4XdJrqwW/Uie2LYxXqtcp4k8KXOs+JtL1WCdIzp5yqnvnrQBxtro1zD4/v8Aw8NXvXsbtdxLSfMh/wBk1tfDa8u49Z13RJrmS5t9PlCwySnLEH1rVXwper46bXftEfllNuzHOaf4X8KXOha7qmozzpIdQfcwXtQB1dFFFABXO+KvA2heMYVTWrNZXQfJIPvL9DXRUUAec+DtRuPDPiqbwZqE5ngA3ae7/e2DqDXo1eXeKgF/aA8JFBtLWs27HfrXqNABRRRQAUUUUAFFFFABRRRQAUUUUAFFFFABRRRQBDd2kF9avb3cSyxSDDIwyDXASR6h8N78zW6yXvh+ZvnjHLWx9R/s16LTJYo54XimQPG4wysMgigCKxv7bUrOO6sZlmhkGVZTVivO7yw1H4fag9/oyNdaHK2bi1HLRH1X2rt9J1a01rT47ywlEkbjt1B9DQBdooooAKKKKACiiub8beJh4c0b/R/mv7o+Vap6uelAHAfFm3l8Y6imjeHI919ZL588yfxqP+Wea77wFq1nqfhW2SzAje1UQzRDjy3HUVH4F8MnQdJM95l9SvT51y7dQx7D2rntahk8A+MY9bs0J0nUH8u6iTojn+M0AelUUyGaO4gSaBw8bjcrL0Ip9ABRRRQAUUUUAFYfibxRaeG7IPKDNcyfLDbp96Rqg8U+LoNBRbW3X7TqU3ENunJ+p9qoeGfCU320674lf7TqUvKIeVhHbA9aAIvDvhi91LUR4h8XES3jc29t/BAvbj1rt6KKACiiigAooooAKKKKACs3WPD2l69B5eqWcU+BhWZeV+hrSooA8wvPg8lrK114d1e7t5z0ikkzGPwqk3hD4m2vOn6zpzMevmqTxXrlFUpSWzE4pnkY8KfFG741DWNNVV+75SkVZtvhHdamyzeJ9buXkU/6u2fah+tep0UOUnuxKKRi6F4S0fw6g/s6zjSXGDMR87fU1tUUVJQUUUUAFFFFABXMeNvDDa9p63Fiwi1O0+e3l7gjt+NdPRQBzPgrxOPEGlmK6Uw6ja/u7iBvvAjjP4101cD4w0i70LVl8WaDGWeM/wCmQJ1mX1/Cuv0XWLXXdJh1CxkDxSjt2PcUAX6KKKACkZgiFmOFUZJ9KWuQ+JXiCXQ/Ckq2Pz3t0whijHUhuCRQB5Qtwi/tBv4mMIOkf6oT44LdK+hUYOispyGGRXBN4Btv+FXDRgT5qp9o3/xb/vfzrR+HHiCTXfCkQvfkvbYmKWM9RjgE0AdbRRRQAUUVDeXcNjZy3Ny4SOJSzEn0oAzPFHiK38NaJJe3By/3Yk7s56frWH4G8O3CPL4i14b9Vvjuw3/LFewX0rN0K1m8eeJD4g1NT/ZVqxWxgYcP/tEV6OBgYHSgAooooAKKKKACiiigDJ1vwxpPiCIrqdnHK+MLIV+Zfoa4S6+EEmnu1z4Z1m6imY58ueTKD6CvUaKabWwrXPIz4T+KFr/x4axppB6+apNA8J/E+6/4/wDWNNXHTylIr1yiq55dxcsex5dbfB9791uPEmtXcswPMcEmEP4V3ei+GNI8PxBdLsooXxhpAvzN9TWtRUtt7lWsFFFFIAooooAKKKKACiiigAqG7s7e/tmt72FJ4X4ZHGQamooA85vfDGteDbl9R8HSmezJ3TWEhzx6IK6Xwz4z07xKnlxE216g/eWkvDpXQ1yfifwJZ60323T3On6nGdyTw/LvPo3qKAOsorz/AEvxvfaHfLpHjeAwSZ2pfgfupPb6130UqTRLJEwdGGVYHgigB1FFFABXFfFKWy/4RU286hr6Y7bHH3hL2IrsLu6hsbSW5upBHDEpZ3PQAV554XtZvGniqTxRqUZFlbExWULjhsf8tBQBT+CKiz0e5sdYDprySFrgT/6xh6j2r1SuA8eaTc6VqMPi/Rh/pFrgXaD/AJaRDt9a7HRtWt9c0mC/szmOZA2O6+xoAvUUUUAFFFFABRRRQAUUUUAFFFFABRRRQAUUUUAFFFFABRRRQAUUUUAFFFFAHF/EHw3c6mtjrOljdqGkuZYV/veopPC3xQ0LxFcx6c832XVSdjWkn3tw64qH4ka7dW8mmeHtOkMN1rMhiSRTyoHWtXw94C0Pw+I54bKOW+UZa7kXMhbuc0AdNRRRQAV518ZvDA1jwkdTtUY6hphE0JTrxyRXotMmiSeB4pQGR1KsD3BoA8stfHc3iX4WWT6dKo1a7Ih8peoxw1ejaFpkOkaNb2kCbFVAWH+0ev615F4A8Btpvxe1eeKfOm2LbrdB0y3Wu5+KKTr4Qe5s7qW2mjkQK0bYzk80AdpRXkOtWF94R1vQ9W07VLmZbkKtxBM+5WyByBXrcT+ZCjnqyg0APooooAKKKKACiiigAooooAKKKKACiiigDy/xZ/yX/wAIf9ek39a9Qry/xZ/yX/wh/wBek39a9QoAKKKKACiiigAooooAKKKKACiiigAooooAKKKKACiiigBHRZEZJFDKwwQRwRXAaroWoeENRfWvDIMlox3XNl1GO5UV6BQQCCCMg9RQBmaDr9l4h05buwfPZ4z96M+hrTrhde8NXmh6i3iDwkNso5uLMfdlXvgetdD4b8S2XiSw861OyZOJoG+9E3oaANmiiigCG8u4bCzlurpxHDCpZ2PYCvPvC1pN4z8Uy+KdSjP2O3JisYnHysB0cCneLr6fxZ4kg8J6S+IFIkvph93b3T613thYwabYQ2dogSGFQqKOwoAsVT1bS7bWdLnsL1d0M6FW9R9KuUUAefeBtUudD1afwhrTfvIMvZuejRdh9a9BrkPH/huTVNPj1PTAV1PT286Ip1kx/CfatHwh4kj8TaElzkC5j/d3MY/gcdRQBvUUUUAFcr4q8XHS5F0zR4jeavPwkSc+V/tN7VD4n8WzRXY0Tw3H9q1WbjcOVgH95queFfCUWgRtc3T/AGrU5+Z7huTnuB7UAQ+FvCA01zqWsOLvVZvmeVufL9lrqqKKACiiigAooooAKKKKACiiigAooooAKKKKACiiigAooooAKKKKACiiigAooooAR0WRGRxlWGCD3FebN5nw38VhsH/hH9RfBI+7bN/9evSqo6zpNtrmkzWF6geKVcYPY9jQBcR1kjV42DKwBUjuKdXAeDdWutB1iTwlr7nzE5sp36TL6D6V39AASACScAda8ztwfGfxYkmk+ax0HiIj7sjH+ddN4+8QHw74TubmLDTyfuo07ktxxSfD/wAP/wDCP+E7eGT5ribMsrnqS3ODQB0+BjGOPSvM5c+C/iyjJxY6/wAyE/diYfyzXplct8QvD/8Ab/hSdIvluIMTRuv3ht5wKAOpBBAI5Borm/AfiD/hIvCdtdSYWZR5cidwV45rpKAAkAEk4ArzjW7qfx94kPh/T3ZNJtHBvpl/jI6AH0rS8b+IroSR+HfD536ne/KzjkRJ3z74rd8MeHLXwzosVlbAs+Myyt952PUk0AaVpaQWNpHbWsaxxRqFVVGABU1FFABRRRQAUUUUAFFFFABRRRQAUUUUAFFFFABRRRQAUUUUAFFFFABRRRQAUUUUAFFFFAFLVdIsdasmtdSt0njPQMM7T6j3rgnsPEHw7uDLpRk1XQycvbt80sf0PpXpVBAIIIyD1FAGR4f8Tab4lsvP02dWZeJIj96M+hFa9cRr/gJje/2t4TnGnakvO1eIpD/tCsS9+KV3puntpOrWTWmvyfuYCwwkr9mHtQBd8W30/i3xJD4U0l8QIRJfTD7pTun1rvbCxg02whs7RAkMKhUUdhWB4H8MDQNIMt0fM1G8PnXMh5+Y9h7V09ADZYkmiaOVQ6MMMpHBFebaZJJ8PfGbaVcMf7F1N91vI38Ep/hHtXpdYnizw7F4l0KWzcBZwN0EneN+xFAG3RXG/D7xFLf2Mmk6qSmpaefKdX+9Io6NXZUAFFFFABRRRQAUUUUAFFFGR60AFFGRRQAUUUUAFFFFABRRRQAUUUUAFFFFAHl/xD/5K34B/wCvl69Qry/4h/8AJWvAX/Xy9eoUAFFFFABXl3jLXPiPb+L/ALB4b06GXS5QFE7Jkrnqc16jRQBgeD9Ak0DQ0gu5BNduS80v94ntWJ8X5ok8ATxyTeU8ksew++a7qq95YWmoRiO9t450ByFkXIzQBymm+GbnVn0u+16eOdLOJTAkY4PA5NdmAAABwBTURY0VI1CqowAOgFOoAKKKKACiiigAooooAKKKKACiiigAooooA8v8Wf8AJf8Awh/16Tf1r1CvL/Fn/Jf/AAh/16Tf1r1CgAooooAKKKKACiiigApkzMkDtGu5gpIHqafRQBwngPxR4l1vWdVtvEOktZwW8pW3k243Cu7oxRQAUUUUAFFFFABRRRQAUUUUAFcV4k8K3Vrf/wDCQeFSIL9OZoB92de/HrXa0UAYHhfxXbeIrYqVNvexcTW78MpqDxx4m/4R7Rttt81/dnybZR/fPQn2qj4x8NpEH8RaXOLG9tFMjsOFkA5Oa5P4c6mPHviVtc8QOq3dqpjtrRhhWX/noBQB3Pgbwz/YGj+ZefPqN2fNupD/AHj2HtXT0UUAFFFFABXmuswSeAfGMet2aE6TqD+XdRJ0jc/xmvSqpavpltrGlXFjfKDBMhVvb3oAtQzx3ECTQOHjcblYdCK4vxD4qutQvzoPhPEt23yzXA5WEd/xrh9D8S6nc6jc/D7TrsEwSFRe9li/ug+teseHvDll4csBBZplzzJM33nPqTQBB4X8K2vhy0OCZ7yX5prh+WY9+fSt6iigAooooAKKKKACiiigAooooAKKKKACiiigAoPSiigDgdA8VeJ734iahpOp6Q0OlxDMNxt+9+Nd9RjnNFABRRRQAUUUUAFFFFABRRRQAUUUUAcz418L/wDCQaasto3lajanfbTDqCOcfjSeCfE/9u2D2t6ph1Oz+S4gbqMcZ/GunrzL4owP4Ut5fGmkuIZ4EKToP+W2eAT64oAL8nxl8VobNfnsdE+aZf4XY9M16aAFAAGAOAK4L4Q28MngqHVt4mu9QJkml7k56V3tABSEBlKsMgjBFLRQB5npZPg34q3OnyfLZa2d9sv8KEda6/xb4lh8NaM9ww8y4f5IIl6sx6fhWH8V9NE3hJ9UgdYbzT2Escp6gA5IH1rJ8CRy/EC4g8XatzaxL5dlbnsRwWYUAb/gbw1NYxS6zrR83Vr875GPRB2A9K7Cjp0ooAKKKKACiiigAooooAKKKKACiiigAPArgPCvirxRqnjzVNN1bSTb6ZbsRBcbcb67+jAHQUAFFFFABRRRQAUUUUAFFFFABRRRQAUUUUAFFFFABRRRQBBfXsGnWM15duI4YULux7AV5hpvhmP4lavceItdieO2CmGxC8Hb2cVf8U3k/jLxRD4X0pz9jgIkvpx90gdY69Bs7OGwsorS1QJDCoVFHYUAedpfa/8ADuZYNSSXVdEJws68vCPVjXe6Vq9jrVkt3plwlxC3RlNWpYY54WimRZI3GGVhkEVwWq+Cb/Q75tX8Dzi3l6y2b8xuvoo9aAPQKK5Pwz47tNZm/s/UUOn6qnDW03Bb3FdZQB5/460q40fU4PF2jKRLb4F4i/xxf412ekarb61pUF/aNmOZQ2O49jVqWKOeFopkDo4wykcEV5xpMsnw/wDGL6RdMf7I1J99tI3RJD/DQB6VRRRQAUUVT1XVbTRtOlvtQmWGCJcszGgC1JIkUbSSMFRRksTgCvNvFPxp0bR5Ta6NE+r3H3WMH3Yz71594w8eap45umgs3l0/R42+XacPL759KwrW0gslxbRhCerY5b61zzrKOiPnsdndPDt06S5pfgbeo/EnxzrZdY5beytG6Kq4cfjWHcXXiS9INzrlwpHTy3IqcnPWiud1ZvqfOVM5xs38VvQit77xNZLtttbnZf8Apo+a6DTfip410Z0XUBb39onZF+c/jWJQCR0pqtNdR0s6xlN6yv6nsnhP4vaF4kZbe7zpd4x2rBcHBc+1d+CCAQcg9xXypdWNveENIu2UfdlXhl+hrrvA3xJvvClzHpfiF3u9Mc7Y7knLRH/aPpXRCspaM+lwGc0sS1TqLll+DPfaKitrmG8to7i2kWSKQblZTkEVLW57wUUUUAFFFFABRRRQB5f8Q/8AkrXgL/r5evUK8v8AiH/yVrwF/wBfL16hQAUUUUAFFFFABRRRQAUUUUAFFFFABRRRQAUUUUAFFFFABRRRQAUUUUAeX+LP+S/+EP8Ar0m/rXqFeX+LP+S/+EP+vSb+teoUAFFFFABRRRQAUUUUAFFFFABRRRQAUUUUAFFFFABRRRQAUUUUAFFFcx458Tf8I/o2y1+a/uz5Nso7MehPtQBgeK72fxf4mg8LaQ5FtEfMvp1+7gdUrY13wLa3NjbtoeLC+sh/o8kfGcdm9RVjwP4Z/wCEe0bddfPqF2fNupD3c+ldNQByfhbxc9/O2ka7H9k1eDhkbgTD+8vtXWVz3irwnB4hgWaFvs2owfNBcpwQfQ+orO8NeLLhb06F4nT7PqUXCyHhZx6igDsqKKjuLiK1t3nuJFjijG5mY8AUAOd1jQvIwVVGST0FcBqes6h411B9G8Ns0GnocXd92Yd1U+tR3V7qPxCvmstLZ7XQ42xNcdDN7LXc6VpVpo2nx2dhEI4oxjgcn3PvQBxviXwHBa+HYJvDkRi1DTj50bp9+cjsx710Hg/xJH4m0JLkEC5j/d3Mf9xx1Fb1ea61DJ4B8Yx63ZoTpOoOI7qJOkbH+M0AelUUyCaO5gSaBw8bjcrDoRT6ACiiigAooooAKKKKACiiigAooooAKKKKACiiigAooooAKKKKACiiigAooooAKKKKACiiigArzPxMx8YfEWz8PxfvdPsctqMfY56ZrufEesQaFoF1f3L7FjQgH/aPT9a5j4X6PPBosus6ohGpak5eVz3XPy0AZ0iP8NvE6SRgjw9fMFYD7ts3b869JjkWWJZI2DI4DKR3Bqpq+lW2taXNY3sYeKVcYI6Hsa4zwfqlz4c1l/CWuyEkEmxnf/lqvpn2oA9ApGYIpZjgAZJPalrhvGuvXV7eR+FvDrZvrrieYdIE759zQBn6nJL8R/Ecmj27MugWZxdSKf8AXt6A0zwmx8HePbzw3OTHZXeG01OwA613Hh3QbXw5o8VhZrwgyzHqzdzXL/E/SJ30+21/S0J1DTHDKR2TPzUAd5RWdoGrwa7odtqFq++OVBz79/1rRoAKKKKACiiigAooooAKKKKACiiigAooooAKKKKACiiigAooooAKKKKACiiigAooooAKKKKACuW8d+JjoGjiGz+bUb0+TbKOzHufaug1C/g0zT5r27cJDChdyfSuE8H2E/inxBN4t1dD5QzHYxMPl2dmx60Ab/gjwyPDuijz/nv7o+bdSHu5610tFFABRRRQBzvibwZpviSPfIpt7xeUuYvlcH3PpXN2XifWfBl0um+MImuLLIEWpRj5VXsG969GqC8srbULVre9hSaJ+qOMigBbS7t761S4tJVlikGVdTkEVk+LfDkXiXQ5LVsLcL81vL/zzfsa5O78Na14IuH1DwjI93Yk7prCQ7ifZPSqXiz432Gh+FDfWtnI9+fla2brC3+1QBseFvHNrZ6HNbeKrlLK704mOQzHBkUfxUeCfixpHjvxHfaZo6MVtF3eaTw49RXx14t8a6t4x1qXUdTl2vKMFI+Bj0rtv2eNaGk/EqOItgXieVj1oA+yndYo2eRgqqMkntXzv4+8Xz+N9feytnZNHsn2lR/y1cdc+or0P4z+KZNC8LJp9pn7Rqj+QGU8oD3rxyztRZWiQA5YD5m/vH1rnrT5VZHz+d454ekqUH70vyJwAqhVGFHAA7UUUVxHwgUUUUAFFFFABTZI0miaKVQyMMEGnUUBsdZ8LvGs/h7WIvDWqymSyumxaSMeUPpn0r3evlHUrZrm0zCxSeI743HVSOa9/wDhl4p/4SvwVbXbgiaL9zID1yvGa76M+ZWZ+gZNjniqPLP4onX0UUVse2FFFFABRRRQB5f8Q/8AkrXgL/r5evUK8v8AiH/yVrwF/wBfL16hQAUUUUAFFFFABRRRQAUUUUAFFFFABRRRQAUUUUAFFFFABRRRQAUUUUAeX+LP+S/+EP8Ar0m/rXqFeX+LP+S/+EP+vSb+teoUAFFFFABRRRQAUUUUAFFFFABRTEmjkZljkVivDBTnFPoAKKKKACiiigAooooAKKKKAIL69g06xmu7pwkMKF3Y9gK4DwlZTeLvE03izVEP2aPMVhGw+Up/fx60nim7m8Z+JovC+lORaQMJL6dfukDqleg2dnBYWUVraoI4Yl2oo7CgCaiiigArE8S+F7TxHZbJv3VzHzFOnDKfr6Vt1U1PVLTR7CS7v5ViiQZJPegDi9L8XT+F5W0rxvKsKxD9zfNwjr2H1qErqHxG1DLCSz8Pwtlexuff6VTvPD0vxcJk16BrXQYz/o8WMSSH+/n0rQ0TWbnwVexeHvEQCWPCWN4B8uOyn3oA7qysrfT7RLaziWKJBgKoxU9IrBlDKQQehFLQAVT1bS7bWdLnsL1N0M6lW9RVyigDz7wNqlzoerz+ENafMkHz2ch6NF2H1r0GuQ8f+G5dUsItT0sFdT09vOhKcGTH8J9q0fB/iSLxLoSXIIFzH+7uI+myQdRQBvUUUUAFFFFABRRRQAUUUUAFFFFABRRRQAUUUUAFFME0bSGNZFLjqobkfhT6ACiiigAooooAKKKKACiiigAooqnq2oQ6VpVxeXEiokSE5b1xwKAOB8cyv4m8Z6X4Wtz5lmG8y/C/wgcjNejwxJBBHDGMJGoVR7CuB+F2nzXUN74o1JCt9qchBDdkB4xXoNABXOeM/DCeI9J/cnyr63O+3mX7ykc4z710dU9W1S10bTJr6+kEcUS5ye57CgDgbf4lG38NS2d5ET4jh/c/Yh94noG+net/wR4Xk0e0fUNUYTate/PPJ6Z6AV50+havfay3xMitQJoz+6sivzGMdWP4V6/oOt2viDR4dQsnDpIOR/dbuKANGo7mBLq1lgkGUlQo30IxUlFAHm/gGdvDPiTUfCN0dkEbl7Et/GDycV6RXnnxNsZdOudO8XWCF7nTXCFAPvKx5JrudNvotS02C7t3DpKgbI+lAFqiiigAooooAKKKKACiiigAooooAKKKYk8UjsiSIzL1UMCRQA+iiigAooooAKKKKACiiigAooooAKKKKACiiuT8eeJm0XS1s7AGTUr4+TAq9UJ/iPtQBh+IrqXxv4sj8N6c5/s61PmXs6/dYj+CvQ7W1hsrSK2tkCRRKFRR2FYfgzwyvhrRBHKQ97OfMupP77nrXQ0AFFFFABRRRQAUUUUAIzBELMcADJNfGfx28Z22v+MpbTSLcW9vbEpIyrt81+5NfZpAYEEZB6iuV8QfDbwt4liZNQ0uEFurxKFY/jQB8DVv+BNQ/srx3pF7u2iG5Via+hPE37Lum3ILeGr5rVuu2YlhXlHiH4F+MvDU5khtReRxnPmxMOMd+tAHpXxJ1Y+IPiPAqNus4rRZEH+1WSTk5rH0m8lv75ZLlSs0MAicH1FbFcFZ3mz89zuo542S7WQUUUVieMFFFFABRRRQAUUUUAA9PXiuu+B2oSWfizV9FZv3GwSRjtnvXIjrWr8OLj7L8Vo1zjz1C/Wt6DtM97Iajji+Xuj6OoooruPvQooooAKKKKAPL/iH/wAla8Bf9fL16hXl/wAQ/wDkrXgL/r5evUKACiiigAooooAKKKKACiiigAooooAKKKKACiiigAooooAKKKKACiiigDy/xZ/yX/wh/wBek39a9Qry/wAWf8l/8If9ek39a9QoAKKKKACiiigAooooAKZNGZYHjB2llIyO1PooA4fwN4BuvCmsape3eqy3ovZC6I7EiMeldxRRQAUUUUAFFFFABRRRQAVy/jrxKdB0fybT59QvD5Nui9QT/F9K6C/vYdNsJry6cJDChdifQVwXhGxn8WeJJvFuqofITMdhGw42f3setAHQ+CfDQ8O6L/pHz39yfNupD3c10lFFABRRWR4i8SWPhvTzcXr5dvlihX70jdgKAJtc1yy0DTnu7+QKBwq93PoK47TdG1HxrqCat4jDQ6ajbray6Z9C1TaJ4bvfEWpL4g8WA5621kfuxr2yPWu7VQqhVAAHAA7UAJHGkUaxxKERRgKowAKp6xo1lrmnvZ6hCJI3HBxyp9Qexq9RQB55p+q6h4D1BNK14vcaU5xbXvXZ6K1egRSxzxLLC4dGGVYHgioNR0211WxktL6JZYpBggjp7iuDin1L4dXwhu2e70CVsJJ1a3+vtQB6NRUVrdQ3ltHcWsiyxSDcrKeCKloAK811mCTwD4yj1uzQnSdQYR3US9ImPVzXpVU9W0u21rS57C9TdDOu1vUUAWYJ47mBJoHDxyAMrDoRT68+8D6pc6Jq8/hDWnzLB89pIejRdh9a9BoAKKKKACiiigAooooAKKKKACiiigAoPIoooA4TQfh9d6T8QL/xDPq008NyMJbFjhK7uiigAooooAKKKKACiiigAooooAK84+I9zJrmsaX4RtWJjvZN10ydYwDkZr0C9uo7KxmuZmCpEhYk+wrgPhrayazqOpeLr1CJL5zHErD7iqeooA9As7aOzsobaIAJEgQAD0GKmoooAR3WONnchVUZJPYV5vI0vxI8UGGMkeHtPf527XLj0+lW/GWsXWt6onhPw+5E8p/0u4XpAvofrXXaHo1roOkw2FkgWOMc47nuaALqQRx24gVAIwu0L2x6V5xdJJ8OfFn2yIH+wdSfEwA+W3bt+delVU1TTLbV9Nmsr2MSRSrggjp70AWYpUmiSWJgyOAykdwadXnvhTUrnwtrx8J61IxhYk6fO/8Ay0X0zXoVAFbULKPUdOntJgCk0ZQ57ZGM1wnw0vZNKvdS8IXZOdMk/cu3WRSc8V6JXm/xFgbw5rmm+MbVTtt3ENxGv8YY4yaAPSKKitp1ubWKeMgrIgYEe4qWgAooooAKKKKACiiigAooooACMjFcH4X+H15oHjnU9dn1eW5hvGJS3ZjhK7yigAooooAKKKKACiiigAooooAKKKKACiiigCrqeo2+k6bPfXjhIYELMTXDeC9NuPEevT+L9ZQ/PmOwjYcCLs2PWoNenk8eeME0Cyc/2VYsJLuZejOP4D616NBBFa26QQIEjjXaqqOAKAJKKKKACiiigAooooAKKKKAGuxSNmC7iBnA714p4n/aU0fQdRuNPh0u4nuYGKNzgAivYNU1ex0Wye71K4SCFOrMa+RfjdpP9qa03ijQ9Ikg0mb5WuNuBI396gDQ1v8Aab8U3bldHjhtIz/eQE1f+G1l43+LOuC91rVbqDRoT+9KMVEp/uiuA+Fvw0vfiBr6R7Gj0+I5nmxxj0Ffa2haHY+HdGg03TIVighUKAoxn3NAHzbrOmxaL4/vdOgBEaLlc9SKK6P4x6Y+k/EO11rG2G9iEHsWrnSMEiuCsrTPz7PKbhjG+j1EooorE8UKKKKACiiigAooooAB1rZ+F9sLv4qOxGfs6BvpWN0BPoM12/wG0prm+1XxI3KXH7lPbaa3oK87n0GQU3LFOfRI9soooruPuwooooAKKKKAPL/iH/yVrwF/18vXqFeX/EP/AJK14C/6+Xr1CgAooooAKKKKACiiigAooooAKKKKACiiigAooooAKKKKACiiigAooooA8v8AFn/Jf/CH/XpN/WvUK8v8Wf8AJf8Awh/16Tf1r1CgAooooAKKKKACiiigAooooAKKKKACiiigAooooAKKK5Xx54mOhaQLezBk1C9PkwIvVSeN30FAGF4lu5vGviqPwzpjn7BbHzL2demR/BXoNpaQ2NpFa2qCOGJdqKOwrC8FeGR4b0ULOQ9/cnzLqX+89dHQAUUVzfinxbFoaLaWifatSn4hgTk/U0AT+JvFNp4btAzgz3UnENsn3pG9KxvDnhe71DUP+Eh8Wfvbx+YLVuVtx6Y9al8MeEp1uzrfiVxdanJyqnlYR6AetdjQAUUUUAFFFFABUV1awXts9vdRrLE4wysMg1LRQB51JBffDe/M9qJLvw7M2ZUPLWx9fpXe2F/banZR3djMs0Eo3KympZYo54WimRZI3GGVhkEV59e6fqHw/wBQfUdFje60aVs3FoOTD6sPagD0SiqWk6vZ61p6XlhKJI3HbqD6GrtAHIeP/DcuqWEWp6WCuqac3nQlOC+P4T7Vo+D/ABJF4m0JLkEC4j/d3Cf3JB1Fb1ea6zBJ4C8ZR63ZoTpOoMI7qJekTd3NAHpVFMgnjuYEmgcPHIoZWHQin0AFFFFABRRRQAUUUUAFFFFABRRRQAUUUUAFFFFABRRRQAUUUUAFFFMnlWCCSaQ4WNSxPsBQBwHxPv5b37B4WsnIuNUkAYr1VQa7fS7CLTNLt7OBAiRRhcD1xya4DwJC3ibxbqfiy4G+1ZvKst38G04OK9KoAK5jxr4o/sHTlt7NfP1O7/d20C9STxn8K19c1m00HSJtQvpAkca8Z/iPYVyXgvRrvV9Sk8Wa/GVnn/49YH/5Yp2I+tAGv4K8LnQNOaa8bztSuvnuJj1JPOPwrpqKKACiiigDnvGPhmPxJpBRD5d5B89vMv3lYc4z71U8DeJpNXtJNO1QeVqtidk8Z4J9DXWVwvjfQ7qyvYvFOgIfttr/AK+NP+Wyd8+uBQB3VUNb0uHWdFubG4QOssZCg9mxwfzqPw/rlr4h0aHULJwyuMMO6t3FadAHBfC/VJls7zw5qDl73SZCjs3cE8V3teaeMYz4S8dad4mgBjsZ28q+2/xsThc16TG6yxLIhyrAEH60AOooooAKKKKACiiigAooooAKKKKACiiigAooooAKKKKACiiigAooooAK5Dx94kfS9OTTdNBk1K/PlRKvVAf4q6PVtUt9G0qe/u2CxQIWPPX2rivBGl3Gu6tN4v1tSZJsrYoRwkX09aAOj8IeG4/DWhpbnD3Unz3Mv99+5reoooAKKKKACiiigAoorG8Q+KtK8NWol1K4VWbiOMcs59MUAbBYKMsQAO5ride+IsMN4dL8M2z6tqWdrJF0i9yayvK8UfEJz9oD6LojHmM8SSj1BrttB8M6X4dtVh023VWAwZWGXb6mgDlNL8A3urXq6r44vPtlwCDHbRnEaD0I711Ou+GdO17wzcaHcQRraTJs2qoAX6VsUUAYfhPwlpfg3RI9M0eERxoPmbux9TW5RRQBxfxR8JL4r8IyLEhe9s8zWuP74rwbTrlrm12zDFxCfLmU9Qw619W14b8U/A8uh37eJNEhLWsh/wBLhQfd9WrGtDmV1ueJnGAeKo80Pij/AFY46io4J47mFZoGDIwyKkrgPz9pp2YUUUUAFFFFABRRUN1dRWcJklPsqjqTTHGLk7R3Ir4zzy2+m2IJu71wkYH619H+CvDUHhTwta6bAu0qu+T3c9a4P4TeBJY2HiXXocXUvNvE4/1Y7GvW676UORan6JlWB+qUPe+J7/5BRRRWp6wUUUUAFFFFAHl/xD/5K14C/wCvl69Qry/4h/8AJWvAX/Xy9eoUAFFFFABRRRQAUUUUAFFFFABRRRQAUUUUAFFFFABRRRQAUUUUAFFFFAHl/iz/AJL/AOEP+vSb+teoV5f4s/5L/wCEP+vSb+teoUAFFFFABRRRQAUUUUAFFFMnl8mCSUjOxS2B3xQA+iuN8GfEKHxhqeoWcWnz2psnKFpBw/0rsqACiiigAooooArahfQaZp897dOEhgQuxPoK4PwdYz+KvEM3i/VkJiGY9PjYceX/AHsetR+I7mXxx4sj8Nac5/s60YSXs69Nw/gNeiW1tDZ20dvbRiOKNdqqo4AoAloorj/E/i6aK7GieG4vteqTcEryIB/eNAEvirxd/Zsq6Toyfa9YnGI4l58sf3jS+FfB66U7alqsn2vVZ/mklbkIfRfSp/CvhKHQIWuLl/tWpzndPctySfQegro6ACiiigAooooAKKKKACiiigApHRZEKOoZWGCCMg0tFAHn+q6DqHhHUX1rwuC9ox3XVj1yO5Wus0DxBZeItOW6sXyekkZ+8jdwa1CAQQRkHtXDa94YvNF1FvEHhEbZhzc2Y+7MvfA9aAO5qnq2l22taXPYXyb4Z12sKpeG/E1n4l0/z7Y7JkO2aBuGjbuK2aAPPvA2qXWiatP4Q1t8ywfPaSHgNH2X616DXIeP/Dcuq2EWp6WCuqac3mwFeC+P4T7Vo+D/ABJF4m0KO5UgXEf7u4ToVcdRQBvUUUUAFFFFABRRRQAUUUUAFFFBOATQAUVxWh/EaHW/G154dTTp4nteszD5W+ldrQAUUUUAFFFFABRRRQAVwnxR1aZNJg0LTJCupao4SHHoD836V3LuscbOxwqgkmvNfCqN4u+ImoeIZh5unWZEdgx7MOGoA7rw/pMOiaFa2NvGIxGg3Af3scn860JZEhiaSVgqICzE9gKdXn3izU7nxRrY8J6G7BAQb+4T/lkvpmgCtbrJ8R/FP2qQH+wNPfEQP3bhh/hXpKIqIqIAFUYAHYVU0rTLbR9MhsbOMJFEoGAOp7mrlABRRRQAUUUUAFIyhlKsAQRgg96WigDza+il+HXic6lbq39hX7gXCgcQMemB2r0aGaO4gSaFg8bqGVgeoqHUdPt9U0+azvI1kilUqQwz+NcJ4Vv7jwh4gPhPV5GNtISdPmf+JfTNAHW+KNFh1/w5dWM6b9yFox/tgfL+tYHww1qa98PtpmpPnUtOYxTqeo54/Su2rzPWgfB3xQtdUj/d6dquVvH7B+goA9MopFYMoZTkEZBpaACiiigAooooAKKKKACig8CuK8PfEeHxB41v/D0enTwvZEgzOPlb6UAdrRRRQAUUUUAFFFFABRRRQAUUVxvj/wARy2FkmkaUDLql+fLRV6xqer/hQBj6vLJ8QfF66NZs39kaa++6lXo0g/g969HhhjghSKFAkaDaqqMACsbwl4ci8M6HHaAh7hhuuJR/y0fua3KACiiigAooooAKjuLmG0gaa5kWONBksxwBXNeJfHum6BJ9khBvtSYfu7SHkt+Pauft/C2veNZ0vfGE72lhndHp0Z2sv+8e9AE2o+OtR8QXT6b4EtmnOdragy/u4j9Kv+Hvh3bWV1/aevzHVNTfl3k5jB9lPSuq0/TLPSrVbewt44I1GMIuM/WrVACABVCqAAOAB2paKKACiiigAooooAKZNDHcQtFOiyRuMMrDIIp9FAHifjf4T3WlzS6r4MjMiMd0tj6n2rzyLUUNybS9ja0vF4eGQYx+NfV9cz4o+H/h7xbB5eq2QDZz5sPyP+YrGdKMtTxsdlFDFvmXuy7/AOZ4F16EH6HNGD6V22p/Ae/t5c+F9cFtEOiTgsSPrWNcfCnxvaKCt1FdEnGFWud0J9D52pw/iov3WmjCwfSg4H3mVfqcVvwfCTxtdKC1/Dak9mXpW7pPwEMxz4r1dr0HqIMpTVCXUdPh/EyfvtJHm63sl3d/YtGtnv7w8COMdPxr1bwJ8JvJmi1jxaBPdjDR25+7H9R3rvfDvg/RfC1mlvpNmibf+WjAFz+NbldEKUYH0mByqhhPeWsu7/QRVCqFUAADAA7UtFFanrBRRRQAUUUUAFFFFAHl/wAQ/wDkrXgL/r5evUK8w8Xr/a/xi8KxWh3nTJGknxztBr0+gAooooAKKKKACiiigAooooAKKKKACiiigAooooAKKKKACiiigAooooA8v8Wf8l/8If8AXpN/WvUK8v8AFn/Jf/CH/XpN/WvUKACiiigAooooAKKKKACggEYIyDRRQBDDZ21uzNb28UTN94ogBP1qaiigAooooAK5Tx74mbRNIFrYgyajenyYEXqueN30FdFqWoQaXp097duEihQsxPtXCeDdPn8T+IZvF+roTGcpp8bDgR+uPWgDovBfhpfDeiKkxEl9cfvLqX++9dEeBk0EhQSxAA6k1wWteIL7xRqT6B4TcrEp23d8B8qDuo96AJfEPii91LUDoPhIeZcn5Z7ocrD61t+GPC1r4dtDg+deS/NPcNyXb29qn8P+HbLw5p4t7JMseZJW5Zz6k1rUAFFFFABRRRQAUUUUAFFFFABRRRQAUUUUAFFFFAHF+JPClxb3/wDb/hY+TqEYzLAvCzj0x61qeF/Flt4htzGw+z30XE1u/BU10Fcl4o8Ivd3C6voEgtNVh5DLwJPYigDra821mCTwD4yj1uzQnSdQYR3US9Im7ua6Lwr4tXWN1hqUf2TVYOJIH43Y/iFberaXba1pc9hfJvhnXawoAsQTx3Nuk8Dh45FDKw6EGpK8+8DapdaJq8/hDW3zLB89pKejR9l+teg0AFFFFABRRRQAUUUUAFFUNR1zTdJtzPf3kUSDrlhn8q5m5+Lvgq0UGfWEAJxwjH+lAHXpZ20U5mjt4klbq6oAT+NTVxFt8YfBN2xEOsqSOTmNh/Sui0rxLpGtw+bpt9FKv+9g/kaANWigEEZByKKACiiigAoopGIVSzHAAyTQBxvxM1ybTPDRs9Ob/iY3zCKBB1bnn9K2fCOhxeH/AAzaWMK7SEDyf75GT+tcbpoPjL4qT30nz6fo2BauPuu5613HiLXbXw7os1/eNhUGFXuzHoBQBj+OPE8mkWkenaWPO1a+OyCJeT7mrXgzwxH4a0cJIfMvJz5lxMfvMx5xn2rI8D6DdXV3L4o8QJm/u+Yo3/5ZJ2x6ZFdzQAUUUUAFFFFABRRRQAUUUUAFc/4x8MxeJdGaH/V3UJ8yCZeGVh0GfeugooA5LwN4ml1S3l0vVv3erWB2ToeN3oR61c8c6AniLwpc2h++g86MjruXkVj+ONAube7h8UeH126hZ/61F/5ap3z68V0nh3XrXxHosV9aMCHGHU9VbuCKAMn4d6++ueFoReHbfW37qeI9VI4Ga6uvM+fBXxXdjxYa9l3c/djcdBXpgORkdDQAUUUUAFFFFABRR061m6p4h0rRoPO1G9ihT/eyfyoA0qhjs7WKZporeJJW+86oAT+Ncdc/GDwTakedrKDPTEbH+lLbfGDwTdZ8nWUOPVGH9KAO2orN0zxBpesQCbT72KVT/tYP5VpdelABRRRQAUUUUAFFFBOBk0AUdZ1a30TSbi/u2AjhQtjPLH0Fcd4E0m41bUZ/F+tKWnusizVv+WcR7Y9aqag8nxC8ZDTYGb+xdMfdcOvR5R29xXpEcaQxrHEoRFGFVRgAUAOooooAKKRmVFLOwUDqScVxGu/ENEvDpfha1bVtRztZY/uxe5PegDq9V1iw0Wye71K4SCJBkknn8q4KbX/EfjqY23hiJtO0w5DX8q/6xfb0q1pXw+utTvl1bxvem/ugQY4EOI0HoR3rvYYIreJYreNIo16Ki4A/CgDnvDXgfSvDce+KM3N253PcT/M2fYnpXSUUUAFFFFABRRRQAUUUUAFFFFABRRRQAUUUUAFFFFABRRRQAUUUUAFFFFABRRRQAUUUUAFcz4ws/FN5Hbx+E7+GyYn97JKm7ArpqKAOY8JeDYvDzS3t3MbvVLkf6RcHufb0rp6KKACiiigAooooAKKKKACiiigAooooAKKKKACiiigAooooAKKKKACiiigDy/xZ/wAl/wDCH/XpN/WvUK8v8Wf8l/8ACH/XpN/WvUKACiiigAooooAKKKKACiiigAooooAKKK5Px74lbRtKFlYAy6lenyoUXqueN34UAYXiGeXx14uTw5YOf7MsmEl7MvTeP4K9Djjt9PslRAsMEK4A6BQKwPCuhW/g/wAOFr2VftDDzbu4bjc3XNc/cXepfEK/a000vaaHG2JbjoZ/YUASalrGoeONQfRvDjNDpqHbd33r6qK7HRdEstB02Oy06IJGg5Y/ec+pPepdM0u00ewjs7CFYokGAAOT7n1q3QAUUUUAFFFFABRRRQAUUUUAFFFFABRRRQAUUUUAFFFFABRRRQBzPirwhHrWy+0+T7Jqtv8ANDOvGT6N61B4W8XPe3DaPryfZNXgGGVuBKP7wrra57xT4Tt/EVuskbfZr+A7oLlOCp9/UUAUfH3huXVLCLU9LUrqmnN5sBXgvj+E+1aPg/xJF4m0GO5U4uI/3dwnQq461leG/FlxFe/2F4oT7NqMfEcjcLOPUGsjWYZPAXjKPW7NCdI1BhHdRr0hP9+gD0qimQTx3Nuk0Dh45FDKw7g0+gAoorD8VeJ7bwvpLXUw8yZvlhhHWRvSgCxr3iHTvDmntd6nOI1H3V6lj6AV5xc+JvF3jN9miw/2JYdDNMMmVfb0p2maJea3errniyTz5m+aC2/hjXsCK6rgKFUBVHRR0FdMKXWRjKp0Rx9n8NtMS4N3qlzdXl033t0hKH8K24PDOh25JXS7Z8/34wa1KK3UUtjJtszZ/DeiXAAbSrVMf3IgKxdQ+HGiXkgnt3ubS4TlDDJtUH3FdZRQ4p7iTaORt9R8ZeCmDyN/bunDgQoPnjHrmvQfDHi7TfFNn5llJtmUfvYG4ZD6Vmg447HqPWub1nw1J9rGr+HJRY6lF83y8I/sRWE6K3iaxqdz1OiuX8F+L4/Elk0N0n2fUrb5biBuv+99DXUVzG4Vy3xC8QPoPhWd7TDXk/7uGPuxPBxXUngZNeZSZ8Z/FhUPzWOg/OG/hkY9qAOm8F6NB4U8GQpMwUlTcTO/UFhk5Nc7pcMvxD8T/wBr3it/Yli5FpGw4lYdSR3qTxJez+M/EH/CL6S5WxgIN/Mnp2UGu90+wt9MsIbO0jWOKJQqhRigCcAKoCjAHAApaKKACiiigAooooAKKKKACiiigAooooACAwIIyD1BrzbVYJvh94p/tiyVv7Fv3xdxAcRsehA7V6TVe/sYNSsJrO7jEkUqlWBGetAHL+PtFTxV4MaSykBkhxcwyJ1O3nANX/A/iEeJPC9tdsNk4GyWPupHFc14avJvB+vv4U1dy1jOSbCV+691JqHRyfBfxPudLl/48taJmtvSMjtQB6ZRRRQAVj+I/E+m+GNPN1qUwXskY5Zz2AFVfGHiuDwxpm/Hm3cvywQjqxPeuL0rw9c316Nb8Vyfar1uYoT9yIfSrhByZMpKJDca74z8ZuRp6f2DYdCZRlpR6g0lh8ONJt5jc301zeXDct5sm5SfpXXZ4CjhR0A6CkrqjTjE53NszIPDWiQZ26Xavn+/EDRP4a0S4xu0u1TH9yICtOitLIm5yV98ONJnm+02E1zZ3K/dMcmEH4UtvrvjPwY3/EwX+3rDoPKGGiX1JrrKXPGDyD1B6Gs5U4spTaNbw54p03xPZefp0wLrxJEeGQ+mK2a8q1Xw7cWd7/bfhaT7LfxcvEPuTDuMetdp4P8AFlv4o00uF8m8gOy5t26o1cs4OLOiMlI6GiiioKCuL8f+Ip7aGHQtGzJqeoHYFXrGh4LV0eu6zb6Do89/dkbYlJVc8uewFcp4C0a4v7ubxbrYJu7zJtkbrDEe1AHR+FvDsHhrRIrKLDS43TS95G9TWzRUVxcw2kDTXMqxRqMlmOBQBLWJ4i8XaT4ZthJqVyA7nEcS8szemBXLX/jnUvEd2+m+BbZpQDtfUWX5Ij9O9aXh34e2mnXP9pa3KdT1R+ZJZeUB9lPSgDFFv4p+IUhN4H0TRScGD/lpMvqD2rt9C8NaZ4ds1t9Mt1TAwZGGXb6mtUAKAAMAdAKKACiiigAooooAKKKKACiiigAooooAKKKKACiiigAooooAKKKKACiiigAooooAKKKKACiiigAooooAKKKKACiiigAooooAKKKKACiiigAooooAKKKKACiiigAooooAKKKKACiiigAooooA8v8AFn/Jf/CH/XpN/WvUK8v8Wf8AJf8Awh/16Tf1r1CgAooooAKKKKACiiigAoqOSeGHHnSpHn+8wFR/b7P/AJ+4P+/goAsUVX+32f8Az9wf9/BUscscq7opFdfVWBFAFfVNRg0nTJ766YLFChY5PXHauA8MRjVNRufHXiRxFAqkWKycBIuecetVvGOsweJPEA0t7jy9F05t97MD95x/B71csdMu/HdzFPfQtY+HbYj7NaL8vn46MfagBVXUPiRfb38y08OxN8q9GuSO/wBK7+zs7ewtI7a0iWKKMYVVFSQwxW8KxQRrHGgwqqMACn0AFFFFABRRRQAUUUUAFFFFABRRRQAUUUUAFFFFABRRRQAUUUUAFFFFABRRRQBi+JPDNn4jsvLnHl3CcxTrwyH61ydtqEoWTwh45Tck6+XBdn7so4wM9jXo1eR/H3xhpmh+EHsmkQ6pPxAB9+P39qAOfv8A4wn4Tzt4a1WD+1JImLRSRvwsR+6DU/wg+Mmo+OPHeoWequkVqybrWL0OelfK1xdT3kxluppJpD1eRix/Wul+GmuN4e+IWlX2/bGs4EnPUUAfetxPHa27zzuEjjG5mJ6CvI9Hkl8beIrnX9TU/Y7WUxWkB6ZH8VbPxW11j4c03TLRyDrjiIFTyAcGrul2CaXpNtZRqF8mMK2O59a3oxu7syqSsrFsnJpKKK6jnCiiigAooooAKOlFFAHJ+K7efQruLxXoynz7Zh9phX/lsua9O0bVINa0i3v7ZgyTIGOOxxyK5uSJJ4JIZFDLIpUg+9YHwsvJNL8Qax4TkYmOzPnRbv8AaPNc1aP2jenLodj4219fDnhW6vesmNkajqSeOK4Sye58KeELTRdN/e+INZYyburIG55/CofiD4igu/G0Fu/7220b55oBz5rN0474Ndb4G8OTxPL4g1sb9SvPu7ukUf8ACB6cVzmxr+EvDUHhnRUtkG6d/nnlblmY9ea3aKKACiiigAooooAKKKKACiiigAooooAKKKKACiiigDB8X+GoPEuivA3yXEX7yCVfvKw6c14d4/8AibZW/hhLS/k2+LNKlCqcYJANe1+PNb1XQPCl1faFp7X92inbGv8AD718KeJNW1HXPEF1qOtAi8mcmQFdvP0oA9U0r9oPxfqHiezgnuY0s5pkjZAvIBOOtfWF3fxWGkPfXLARxReYxJ68Zr879Ol8nVLWX+5MjfkRX15411yXWPB/h/RrSQrcakqSMVPVV6imlfQHoL4eWfxXrdx4o1YF4dxXT426IufSuvJycmobW2isrKG2t0CRxoAFHrjmpa7ox5VY5JO7uFFFFUSFFFFABRRRQAoODkVyHiOKfwxrFv4n0dSBuCXcS9Ch6sa66orq0j1CxnspgDHcIUbPoamUeZWKTs7nWadqFvqmnQXtm4eGdAyMO4qySACScAdSa80+EWpyxx6n4eujtGmzlLYHq0fPNanxA1+4RYPDui5k1LUPlKr1jjPBauFqx17mXdl/iL40FohY6FpUmZSOkko6fUV6UqrGgVAFVRgAcAVzVhHo/wAPvCscV3cJFHCuZZD96RvXHU1zcmu+JfHkht/DcTaXpZP/ACEJB/rV9AO1IDf8S+PdP0OT7HaKb/U2/wBXaw8lvx7VhW/hDXPGU63njS5eCxJ3x6bESpQ+5710vhvwTpXhtDJDH592/MlxL8zFvbPSujoArWGnWmmWq29hbxwRqMYRQM/X1qzRRQAUUUUAFFFFABRRRQAUUUUAFFFFABRRRQAUUUUAFFFFABRRRQAUUUUAFFFFABRRRQAUUUUAFFFFABRRRQAUUUUAFFFFABRRRQAUUUUAFFFFABRRRQAUUUUAFFFFABRRRQAUUUUAFFFFABRRRQB5f4s/5L/4Q/69Jv616hXl/iz/AJL/AOEP+vSb+teoUAFFFFABRRRQAUUUUAeI/FmxXXPizoGj3txcJZSWjuyQyFMsCfSqJ+Fvh3P+t1H/AMCmrX+IX/JdfDn/AF4yfzNbR6mvzviXG4nD41QpVHFcq0T9T3cvo050ryV9Tj1+Fnh0uAZdR/8AApqyvCfi8eC9B8WaVbTT3Vyt55NnC7l3UEYz+tejJ98fWvKvCvw51Xxb4+8Q63outJps1le7Arx7w2R1x+Fb8L4zE4jEVI1puSUer8yMxpU6cE4q2p6H4B8A3t5bR33ifcI2PmeQeDI3UMa9ajjSKNUjUIijAVRgCvMf+EN+J/bx5bAf9ev/ANaj/hDfih/0Plv/AOAv/wBavvTxT1CivL/+EN+KH/Q+W/8A4C//AFqP+EN+KH/Q+W//AIC//WoA9Qory/8A4Q34of8AQ+W//gL/APWo/wCEN+KH/Q+W/wD4C/8A1qAPUKK8v/4Q34of9D5b/wDgL/8AWo/4Q34of9D5b/8AgL/9agD1CivL/wDhDfih/wBD5b/+Av8A9aj/AIQ34of9D5b/APgL/wDWoA9Qory//hDfih/0Plv/AOAv/wBaj/hDfih/0Plv/wCAv/1qAPUKK8v/AOEN+KH/AEPlv/4C/wD1qP8AhDfih/0Plv8A+Av/ANagD1CivL/+EN+KH/Q+W/8A4C//AFqP+EN+KH/Q+W//AIC//WoA9Qory/8A4Q34of8AQ+W//gL/APWo/wCEN+KH/Q+W/wD4C/8A1qAPUKK8v/4Q34of9D5b/wDgL/8AWo/4Q34of9D5b/8AgL/9agD1CivL/wDhDfih/wBD5b/+Av8A9aj/AIQ34of9D5b/APgL/wDWoA9Qory//hDfih/0Plv/AOAv/wBaj/hDfih/0Plv/wCAv/1qAPUKK8v/AOEN+KH/AEPlv/4C/wD1qP8AhDfih/0Plv8A+Av/ANagD1CvlL4t694W1fx1dWGt6dNBeR/J9tL/ACqPpXrv/CG/FD/ofLf/AMBf/rV8s/Ey11Ky8c3kOtXy312p+eZRgNQAt94LtZWUeGdVi1Q/xAfKVrnLrT7vTLwxXETJJGQTjnH41Fbm5D4tDLuP/PLOf0r0nwl8OfHvia0RLeyaOxlPzzzryB+NAHo3gzxMPH3iHTI3bzI9Jt12j0YDrXr7HLE+teR/DPwYPAfxT1TRZJ/OkFkshb6163XZR+E5qnxBRRRWpmFFFFABRRRQAUUUUAKOCK848aeIIvAfjmx1pztjvVaOUj+LjivRq8u+MXhx/FmveFdGhuFtpLiVgsjDODWdX4GaQ+I0/hP4Su9fv5fFPiINJG0zPaK4xuBPGQete3AADAGAK8qtvAvxKs7WK2tvHNtHDEoRFFr0A/Cpf+EN+KH/AEPlv/4C/wD1q4jpPUKK8v8A+EN+KH/Q+W//AIC//Wo/4Q34of8AQ+W//gL/APWoA9Qory//AIQ34of9D5b/APgL/wDWo/4Q34of9D5b/wDgL/8AWoA9Qory/wD4Q34of9D5b/8AgL/9aj/hDfih/wBD5b/+Av8A9agD1CivL/8AhDfih/0Plv8A+Av/ANaj/hDfih/0Plv/AOAv/wBagD1CivL/APhDfih/0Plv/wCAv/1qP+EN+KH/AEPlv/4C/wD1qAPUKK8v/wCEN+KH/Q+W/wD4C/8A1qP+EN+KH/Q+W/8A4C//AFqAPUKK8v8A+EN+KH/Q+W//AIC//Wo/4Q34of8AQ+W//gL/APWoA9QpkzmOCRwMlVJx+FeZf8Ib8UP+h8t//AX/AOtUc/g74ni3kLePLcgKcj7Njt9KAMP/AIaR0y08S3Wka1prwRwuUM+cg/hVfxH4f+GnxdjaXQ9Tt7PVWHyyDCDPoRXzZ4shuoPFN9Ffzi4uFlIeUDG4+tZ9mLwyj7B5/mE8eTnP6UAdL40+HOu+CNQMd/D5sBP7q4i+ZWHrx0r2L4VX7eIbjQri5bzJNOgaMe1YPgbwb8UNatorafdHpU42tLeDeQp9M12Pwz8NJ4S8Ya3o5k8w27ja3rnrWlNe+iJ/CepHqaSiiu05QooooAKKKKACiiigApQcHIpKKAOC1HWIfB/xgivHYJazWDMyZx5kmOKb4f8AE0smo3WpabZvq+v3zHYmOLRD2zWd8RPCw8WfE7RLOe4Mdt5YMka8Fh9a9s0Lw5pfhyxS10q1SJEGAxGWP1NcVT42dUPhRyukfD+e/v11fxpdnULvgxwg4jjHoR3ru4oo4IxHDGsaL0VBgD8KfRWZYUUUUAFFFFABRRRQAUUUUAFFFFABRRRQAUUUUAFFFFABRRRQAUUUUAFFFFABRRRQAUUUUAFFFFABRRRQAUUUUAFFFFABRRRQAUUUUAFFFFABRRRQAUUUUAFFFFABRRRQAUUUUAFFFFABRRRQAUUUUAFFFFAHl3iohv2gPCIHVbSbP616jXDePfDt7NqVh4m0OLztS0wFVi/voetWvDXxF0rxBfrpeJYNTC5kgeMgKR15oA6+iiigAooooAKKKKAPD/ixqltofxh8PalqQlW0SzkVpEjLAHJ9KrH4o+Fc/wDH1cf+A7V7lcWVrd4+1W0M+OnmRhsfnUP9i6X/ANA2z/78L/hXhZhkWGzCt7aq2na2lv8AI7KGMqUI8sUjxRPij4UDgm6uP/Adq1/gNcJfXPiu+t0kFvcX4aJpEK7hg8816p/Yul/9A2z/AO/C/wCFWILW3tUK20EcKnqI0Cj9KvLslw+XTlOk221bUVfFzrpKSJaKKK9o5AooooAKKKKACiiigAooooAKKKKACiiigAooooAKKKKACiiigAooooAKKKKACiiigArwXXv2e5vFfju51jUdQENpI2fKAyWFe9UUAcT4W+EnhLwntfT9NR5h1klG7J/Gu0jijiQJEioo6KowKdRQB5DrqHTfjebyYbI7y2WJG/vHHSuvYYYisb4v6ZIbLTNdhU/8SqfzZCvUrxWlZXiajp1veRkFZ4w/HvXXReljnqLW5NRRRWxkFFFFABRRRQAUUUUAA61xmqIdT+MHhuOIbv7PcvIB/DmuzLCNGkYgKiliT7Vzfwytn1jxjrfidl3W02IYCexB5xWVZ2jY1prU9UooorjOgKKKKACiiigAooooAKKKKACiiigAooooAKKKKACo50MltIi9WQgflUlFAHz9H+zb/a3iu61XXdQ/0eWUsIFHJH1r1Xwz8M/C3hOMDStMiDY5eUBj9ea6yigBFVUUKihVHQAYAryK6jOnfGiWOX5DfKXj/wBoCvXq8w+LVk+n3uleKYFJeycQttHQMaqDtJMmSujoD1NJTYpUuLeOaJgySIGBH0p1d5yBRRRQAUUUUAFFFFABRRTZriOzt5LqYgRwqXbPoKAOSj/0/wCPenpGN8MFizO3YMO1ev15h8JrGW8vdY8QXS7lubgi0c/88+elen1wTd5NnXFWVgoooqSgooooAKKKKACiiigAooooAKKKKACiiigAooooAKKKKACiiigAooooAKKKKACiiigAooooAKKKKACiiigAooooAKKKKACiiigAooooAKKKKACiiigAooooAKKKKACiiigAooooAKKKKACiiigAooooAKKKKACoEsrWOczR20KSn+NYwG/Op6KACiiigAooooAKKKKACiiigAooooAKKKKACiiigAooooAKKKKACiiigAooooAKKKKACiiigAooooAKKKKACiiigAooooAKKKKACiiigAooooAgvrKHULGW0ukDxSrtZT3rybww0/hjWbvwxq7n/WGW1kboVPRRXsFc34y8JQ+JtNHlnyb+3O+2nHVW9/arhLldyZR5lYqEYODSVzeieI5kuv7F8SxfY9Th+UFvuyj+9n3rpSCPp612ppq6OVprcSiiimIKKKKACilAJ6CsHXfE8emSLY6dH9t1Of5YoE5wfUntSbS1Y0rlPxjfz3fk+G9HYm/vmALL/wAsl75r0Xw7osHh/QrbT7ZQojUb8d2xyfzrD8EeDm0VJNT1dhcaxd8yyH+AdlH0rsK4pz5mdMY8qCiiioLCiiigAooooAKKKKACiiigAooooAKKKKACiiigAooooAKKKKACqer6bDq+k3FjcqGSZCvI6HHBq5RQB5F4Tnn0O+n8K6uxWS2Y/ZXf/lqufWut6VL438IjxFZLc2LeRqdr80Eo6nHO38a5nQvExurg6VrkX2HVYflaN+A2O4NddKd1ZnPOFndHQ0UpBHWkrYyCiiigAoopQCelACdelcl4uurnV7238LaKd9zcsDcleixdwTV7W/E32W4XS9FT7Zqs/CKnIj9ya6XwT4QXw9ayXV63n6ndnfPMeSD6D2rGpUsrI1hC+rNzRtKttE0e206yXbDboEUVeoorkOgKKKKACiiigAooooAKKKKACiiigAooooAKKKKACiiigAooooAKKKKACiiigAooooAKKKKACiiigAooooAKKKKACiiigAooooAKKKKACiiigAooooAKKKKACiiigAooooAKKKKACiiigAooooAKKKKACiiigAooooAKKKKACiiigAooooAKKKKACiiigAooooAKKKKACiiigAooooAKKKKACiiigAooooAKKKKACiiigAooooAKKKKACiiigAooooAKKKKACiiigAooooAKKKKAMLxP4S03xRZ+Xex7Zk5imThlPbmvPp7fxh4IbbdRnXdNHWccNCv07169SMqupVgGB6gjOaqMnHYTSe55VpnxB8P6o/lJNLDMOCssZUD8TXQrd2bqCt7bHPbzRW1q/g3w/rsXl6lpkUi/9M2aI/mhBrnI/gj4AilEkejThwc5/tO7/wDjtbKu+qMnS7Fo3NoPvXtsPrKKw9V8c6Bo4P2q5d26AQrvyfwrUm+CngK4k3zaNOzf9hO6H/tWtrRvAPhnw/8A8gvS0TjH72V5v/Q2NDr9kCpd2cBDf+KfGjCHw/Ztplg3/MQcckfSu68J+B7HwyhnY/atQkH725k5JPt6V0scaRIEiRUUdAowKdWMpuW5oopbBRRRUlBRRRQAUUUUAFFFFABRRRQAUUUUAFFFFABRRRQAUUUUAFFFFABRRRQAUUUUAFc74q8G6d4otMTr5N0nMVwnDKf610VFAHkE7+LfBLeVqtudZ05Ot6o5QfSrml+PvD+rHZBcSRyDhllQqAfxr1J0WRSrqGU9QRkGsHWfA/hzX02anpcbj/pk7wn80INbRqyW5m6aZlLd2bgFb23OewlFDXVmoJa9thjn/Wiq0PwT8AwSiSLRp1cd/wC07o/+1aJfgl4Bmk8yTRp2b1/tO6/+O1ft/In2XmZOqePvD+kDFxcSSOThREhbJ/CqcEni7xo4i0q2Ojae3/L43Vx9K9A0fwP4c0IY0zS404x+9d5T/wCPk1vIiooVFCqOgAwKiVWT2KVNI53wr4L07wvbEwr513JzNcPyzH29K6OiisTQKKKKACiiigAooooAKKKKACiiigAooooAKKKKACiiigAooooAKKKKACiiigAooooAKKKKACiiigAooooAKKKKACiiigAooooAKKKKACiiigAooooAKKKKACiiigAooooAKKKKACiiigAooooAKKKKACiiigAooooAKKKKACiiigAooooAKKKKACiiigAooooAKKKKACiiigAooooAKKKKACiiigAooooAKKKKACiiigAooooAKKKKACiiigAooooAKKKKACiiigAooooAKKKKACiiigAooooAKKKKACiiigAooooAKKKKACiiigAooooAKKKKACiiigAooooAKKKKACiiigAooooAKKKKACiiigAooooAKKKKACiiigAooooAKKKKACiiigAooooAKKKKACiiigAooooAKKKKACiiigAooooAKKKKACiiigAooooAKKKKACiiigAooooAKKKKACiiigAooooAKKKKACiiigAooooAKKKKACiiigAooooAKKKKACiiigAooooAKKKKAP/Z)"
   ]
  },
  {
   "cell_type": "code",
   "execution_count": 9,
   "metadata": {
    "id": "ij_ieRsAt7Xt"
   },
   "outputs": [],
   "source": [
    "from math import sin\n",
    "import random\n",
    "import tqdm as tqdm\n",
    "from typing import Sequence\n",
    "\n",
    "class Initializer:\n",
    "\n",
    "    def init_weights(self, n_in, n_out) -> Sequence[Sequence[Var]]:\n",
    "        raise NotImplementedError\n",
    "\n",
    "    def init_bias(self, n_out) -> Sequence[Var]:\n",
    "        raise NotImplementedError\n",
    "\n",
    "\n",
    "class NormalInitializer(Initializer):\n",
    "\n",
    "    def __init__(self, mean=0, std=0.1):\n",
    "        self.mean = mean\n",
    "        self.std = std\n",
    "\n",
    "    def init_weights(self, n_in, n_out):\n",
    "        return [[Var(random.gauss(self.mean, self.std)) for _ in range(n_out)] for _ in range(n_in)]\n",
    "\n",
    "    def init_bias(self, n_out):\n",
    "        return [Var(0.0) for _ in range(n_out)]\n"
   ]
  },
  {
   "cell_type": "markdown",
   "metadata": {
    "id": "x7uqWKle0YDk"
   },
   "source": [
    "### Exercise e) Dense layer\n",
    "\n",
    "Complete the DenseLayer class below. The dense layer takes an input vector and computes an output vector corresponding to the value of each artificial neuron in the dense layer."
   ]
  },
  {
   "cell_type": "code",
   "execution_count": 10,
   "metadata": {
    "id": "jOLYGnZKuM6W"
   },
   "outputs": [],
   "source": [
    "from numpy import ndarray\n",
    "import numpy as np\n",
    "np.random.seed(0)\n",
    "\n",
    "\n",
    "class DenseLayer:\n",
    "    def __init__(self, n_in: int, n_out: int, act_fn, initializer: Initializer = NormalInitializer()):\n",
    "        \"\"\"\n",
    "          n_in: the number of inputs to the layer\n",
    "          n_out: the number of output neurons in the layer\n",
    "          act_fn: the non-linear activation function for each neuron\n",
    "          initializer: The initializer to use to initialize the weights and biases\n",
    "        \"\"\"\n",
    "        self.n_in = n_in\n",
    "        self.n_out = n_out\n",
    "        self.weights = initializer.init_weights(n_in, n_out)\n",
    "        self.bias = initializer.init_bias(n_out)\n",
    "        self.act_fn = act_fn\n",
    "\n",
    "    def __repr__(self):\n",
    "        return 'Weights: ' + repr(self.weights) + ' Biases: ' + repr(self.bias)\n",
    "\n",
    "    def parameters(self) -> Sequence[Var]:\n",
    "        \"\"\"Returns all the vars of the layer (weights + biases) as a single flat list\"\"\"\n",
    "\n",
    "        temp = []\n",
    "        for weight in self.weights:\n",
    "          for var in weight:\n",
    "            temp.append(var)\n",
    "\n",
    "        for bias in self.bias:\n",
    "          temp.append(bias)\n",
    "\n",
    "        return temp\n",
    "\n",
    "    def forward(self, inputs: Sequence[Var]) -> Sequence[Var]:\n",
    "        \"\"\" \n",
    "        inputs: A n_in length vector of Var's corresponding to the previous layer outputs or the data if it's the first layer.\n",
    "\n",
    "        Computes the forward pass of the dense layer: For each output neuron, j, it computes: act_fn(weights[i][j]*inputs[i] + bias[j])\n",
    "        Returns a vector of Vars that is n_out long.\n",
    "        \"\"\"\n",
    "        assert len(self.weights) == len(\n",
    "            inputs), \"weights and inputs must match in first dimension\"\n",
    "\n",
    "        temp = []\n",
    "        sum = Var(0.0)\n",
    "        for index_out in range(self.n_out):\n",
    "          for index_in in range(self.n_in):\n",
    "            sum = sum + (self.weights[index_in][index_out]*inputs[index_in])\n",
    "          sum = sum + self.bias[index_out]\n",
    "          sum = self.act_fn(sum)\n",
    "          temp.append(sum)\n",
    "          sum = Var(0.0)\n",
    "        return temp"
   ]
  },
  {
   "cell_type": "markdown",
   "metadata": {
    "id": "i-ontWRx0a9T"
   },
   "source": [
    "Verify that your class is correct by running the code below, and verifying that `actual` is the same as `expected`. Here we define a small 3x2 dense layer with some fixed parameters and use numpy to compute the expected values."
   ]
  },
  {
   "cell_type": "code",
   "execution_count": 11,
   "metadata": {
    "id": "dhb7-WsG0vcv"
   },
   "outputs": [
    {
     "name": "stdout",
     "output_type": "stream",
     "text": [
      "[Var(v=0.8935, grad=0.0000), Var(v=0.5275, grad=0.0000)]\n",
      "[0.89347265 0.52750061]\n"
     ]
    }
   ],
   "source": [
    "import numpy as np\n",
    "np.random.seed(0)\n",
    "\n",
    "w = np.random.randn(3, 2)\n",
    "b = np.random.randn(2)\n",
    "x = np.random.randn(3)\n",
    "\n",
    "expected = np.tanh(x@w+b)\n",
    "\n",
    "class FixedInit(Initializer):\n",
    "    \"\"\"\n",
    "    An initializer used for debugging that will return the w and b variables defined above regardless of the input and output size.\n",
    "    \"\"\"\n",
    "    def init_weights(self, n_in, n_out):\n",
    "        return [list(map(Var, r.tolist())) for r in w]\n",
    "    def init_bias(self, n_out):\n",
    "        return list(map(Var, b.tolist()))\n",
    "\n",
    "layer = DenseLayer(3, 2, lambda x: x.tanh(), FixedInit())\n",
    "\n",
    "var_x = list(map(Var, x.tolist()))\n",
    "actual = layer.forward(var_x)\n",
    "print(actual)\n",
    "print(expected)"
   ]
  },
  {
   "cell_type": "markdown",
   "metadata": {
    "id": "p_8n_SKnIW2F"
   },
   "source": [
    "## Exercise f) MLP\n",
    "\n",
    "We'll now combine multiple DenseLayers into a neural network. We'll define a class to help us with this. We name it Multi-Layer Perceptron (MLP), since in the \"old days\", a single dense layer neural network was called a perceptron. It takes a list of DenseLayer as input and defines a forward function. The forward function takes a vector of inputs, the data inputs, and return a vector of outputs, the output of the neural network, after being passed through each layer of the network. It also has a parameters function which just returns all the parameters of the layers as a single flat list.\n",
    "\n",
    "Complete the MLP class below."
   ]
  },
  {
   "cell_type": "code",
   "execution_count": 12,
   "metadata": {
    "id": "xDEjtePxE7Mv"
   },
   "outputs": [],
   "source": [
    "class MLP:\n",
    "    def __init__(self, layers: Sequence[DenseLayer]):\n",
    "        self.layers = layers\n",
    "\n",
    "    def parameters(self) -> Sequence[Var]:\n",
    "        \"\"\" Returns all the parameters of the layers as a flat list\"\"\"\n",
    "        temp: Sequence[Var] = []\n",
    "        for layer in self.layers:\n",
    "            for p in layer.parameters():\n",
    "                temp.append(p)\n",
    "        return temp\n",
    "\n",
    "    def forward(self, x: Sequence[Var]) -> Sequence[Var]:\n",
    "        \"\"\"\n",
    "        Computes the forward pass of the MLP: x = layer(x) for each layer in layers\n",
    "        \"\"\"\n",
    "        for layer in self.layers:\n",
    "            x = layer.forward(x)\n",
    "        return x\n"
   ]
  },
  {
   "cell_type": "markdown",
   "metadata": {
    "id": "oLrGJytZFtGm"
   },
   "source": [
    "## Exercise g) SGD\n",
    "\n",
    "Now we need code that will perform the stochastic gradient descent. Complete the class below"
   ]
  },
  {
   "cell_type": "code",
   "execution_count": 13,
   "metadata": {
    "id": "iac-VwYGFtGm",
    "tags": []
   },
   "outputs": [],
   "source": [
    "class SGD:\n",
    "    def __init__(self, parameters: Sequence[Var], learning_rate: float):\n",
    "        self.parameters = parameters\n",
    "        self.learning_rate = learning_rate\n",
    "\n",
    "    def zero_grad(self):\n",
    "        \"\"\" Set the gradient to zero for all parameters \"\"\"\n",
    "        for var in self.parameters:\n",
    "            var.grad = 0.0\n",
    "\n",
    "    def step(self):\n",
    "        \"\"\"Performs a single step of SGD for each parameter: p = p - learning_rate * grad_p \"\"\"\n",
    "        for var in self.parameters:\n",
    "            var.v = var.v - self.learning_rate * var.grad\n"
   ]
  },
  {
   "cell_type": "markdown",
   "metadata": {
    "id": "faCxhfFnFtHp"
   },
   "source": [
    "# Loss functions\n",
    "\n",
    "We are only missing a loss function now. We're doing regression so we'll use the L2 loss function $L2(t, y) = (t-y)^2$, where $t$ is the expected output (the target) and $y$ is the output of the neural network."
   ]
  },
  {
   "cell_type": "code",
   "execution_count": 14,
   "metadata": {
    "id": "I2eDYKvAFtHq",
    "tags": []
   },
   "outputs": [],
   "source": [
    "def squared_loss(t: Var, y: Var) -> Var:  \n",
    "    return (t-y)**2"
   ]
  },
  {
   "cell_type": "markdown",
   "metadata": {
    "id": "8fAF5ew4FtHy"
   },
   "source": [
    "# Backward pass\n",
    "\n",
    "Now the magic happens! We get the calculation of the gradients for free. Let's see how it works."
   ]
  },
  {
   "cell_type": "code",
   "execution_count": 15,
   "metadata": {
    "id": "iHyfPPI9Qqwu"
   },
   "outputs": [],
   "source": [
    "mlp = MLP([\n",
    "    DenseLayer(1, 5, lambda x: x.tanh()),\n",
    "    DenseLayer(5, 1, lambda x: x)\n",
    "])\n",
    "\n",
    "x, t = sample_data()\n",
    "x = Var(x)\n",
    "t = Var(t)\n",
    "y = mlp.forward([x])\n",
    "\n",
    "loss = squared_loss(t, y[0])\n",
    "loss.backward()"
   ]
  },
  {
   "cell_type": "markdown",
   "metadata": {
    "id": "49biIAYKQ1oG"
   },
   "source": [
    "and the gradients will be calculated:"
   ]
  },
  {
   "cell_type": "code",
   "execution_count": 16,
   "metadata": {
    "id": "_rGt1bq_Q7uk"
   },
   "outputs": [
    {
     "name": "stdout",
     "output_type": "stream",
     "text": [
      "layer 0 Weights: [[Var(v=0.0683, grad=-0.6237), Var(v=-0.0669, grad=6.0302), Var(v=0.0778, grad=4.0351), Var(v=0.1823, grad=-1.1674), Var(v=-0.0010, grad=0.7251)]] Biases: [Var(v=0.0000, grad=-0.1382), Var(v=0.0000, grad=1.3362), Var(v=0.0000, grad=0.8941), Var(v=0.0000, grad=-0.2587), Var(v=0.0000, grad=0.1607)]\n",
      "layer 1 Weights: [[Var(v=0.0224, grad=-2.0233)], [Var(v=-0.2159, grad=1.9847)], [Var(v=-0.1490, grad=-2.2829)], [Var(v=0.0704, grad=-4.5800)], [Var(v=-0.0237, grad=0.0299)]] Biases: [Var(v=0.0000, grad=-6.7703)]\n"
     ]
    }
   ],
   "source": [
    "for i,layer in enumerate(mlp.layers):\n",
    "    print(\"layer\", i, layer)"
   ]
  },
  {
   "cell_type": "markdown",
   "metadata": {
    "id": "WgBi8GOSFtIN"
   },
   "source": [
    "## Exercise h) Putting it all together\n",
    "\n",
    "We are ready to train some neural networks!\n",
    "\n",
    "We'll train the neural network for 100 gradient updates. Each gradient will be calculated on the average loss over a minibatch of samples. Read and understand the code below. Answer the inline comment questions. We'll plot the loss for each batch, which should decrease steadily."
   ]
  },
  {
   "cell_type": "code",
   "execution_count": 17,
   "metadata": {
    "id": "01ePmzBzRtdh"
   },
   "outputs": [
    {
     "name": "stderr",
     "output_type": "stream",
     "text": [
      "100%|██████████| 100/100 [00:03<00:00, 28.96it/s]\n"
     ]
    },
    {
     "data": {
      "image/png": "[encoded data removed]",
      "text/plain": [
       "<Figure size 640x480 with 1 Axes>"
      ]
     },
     "metadata": {},
     "output_type": "display_data"
    }
   ],
   "source": [
    "mlp = MLP([\n",
    "    DenseLayer(1, 16, lambda x: x.tanh()),\n",
    "    DenseLayer(16, 1, lambda x: x)\n",
    "]) # What does this line do?\n",
    "\n",
    "learning_rate = 0.01 # Try different learning rates\n",
    "optim = SGD(mlp.parameters(), learning_rate) # What does this line do?\n",
    "\n",
    "batch_size = 64\n",
    "losses = []\n",
    "for i in tqdm.tqdm(range(100)):\n",
    "    loss = Var(0.0)\n",
    "    for _ in range(batch_size): # What does this loop do?\n",
    "        x, y_target = random.choice(train_data) # What does this line do?\n",
    "        x = Var(x)\n",
    "        y_target = Var(y_target)\n",
    "        y = mlp.forward([x])\n",
    "        loss += squared_loss(y_target, y[0])\n",
    "\n",
    "    loss = loss / Var(batch_size) # What does this line do?\n",
    "    losses.append(loss.v)\n",
    "    optim.zero_grad() # Why do we need to call zero_grad here?\n",
    "    loss.backward() # What does this line do?\n",
    "    optim.step()# What does this line do?\n",
    "\n",
    "plt.plot(losses, '.')\n",
    "plt.ylabel('L2 loss')\n",
    "plt.xlabel('Batches')\n",
    "plt.show()"
   ]
  },
  {
   "cell_type": "markdown",
   "metadata": {
    "id": "qZuhQrSsBgAo"
   },
   "source": [
    "The plot should look similar to: \n",
    "\n",
    "![image.png](data:image/png;base64,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)"
   ]
  },
  {
   "cell_type": "markdown",
   "metadata": {
    "id": "l1RbReI9A_Op"
   },
   "source": [
    "Let's also plot the data and what the Neural Network has learned."
   ]
  },
  {
   "cell_type": "code",
   "execution_count": 18,
   "metadata": {
    "id": "5sn2jXQFBDm2"
   },
   "outputs": [
    {
     "data": {
      "image/png": "[encoded data removed]",
      "text/plain": [
       "<Figure size 640x480 with 1 Axes>"
      ]
     },
     "metadata": {},
     "output_type": "display_data"
    }
   ],
   "source": [
    "for _ in range(100):\n",
    "    x, y_target = sample_data()\n",
    "    y = mlp.forward([Var(x)])\n",
    "    plt.plot(x, y_target, 'b.')\n",
    "    plt.plot(x, y[0].v, 'r.')\n",
    "\n",
    "plt.title('True (blue) and MLP approx (red)')\n",
    "plt.show()"
   ]
  },
  {
   "cell_type": "markdown",
   "metadata": {
    "id": "KRgIfpqoBnEq"
   },
   "source": [
    "The plot should look similar to this: \n",
    "\n",
    "![image.png](data:image/png;base64,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)"
   ]
  }
 ],
 "metadata": {
  "anaconda-cloud": {},
  "colab": {
   "collapsed_sections": [],
   "name": "Lab 4.ipynb",
   "provenance": []
  },
  "kernelspec": {
   "display_name": "Python 3.10.6 64-bit (microsoft store)",
   "language": "python",
   "name": "python3"
  },
  "language_info": {
   "codemirror_mode": {
    "name": "ipython",
    "version": 3
   },
   "file_extension": ".py",
   "mimetype": "text/x-python",
   "name": "python",
   "nbconvert_exporter": "python",
   "pygments_lexer": "ipython3",
   "version": "3.10.8"
  },
  "pycharm": {
   "stem_cell": {
    "cell_type": "raw",
    "metadata": {
     "collapsed": false
    },
    "source": []
   }
  },
  "vscode": {
   "interpreter": {
    "hash": "ca90a0b97817074c741e4139491e51fe8c81a6af5348c47037bc5072db26432e"
   }
  }
 },
 "nbformat": 4,
 "nbformat_minor": 4
}
