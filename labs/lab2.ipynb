{
 "cells": [
  {
   "cell_type": "markdown",
   "id": "51b63668-01f9-454f-87bf-24df57858200",
   "metadata": {},
   "source": [
    "# Lab 2: Math"
   ]
  },
  {
   "cell_type": "markdown",
   "id": "e9570d41-7b73-499b-ac86-88b6d6807005",
   "metadata": {},
   "source": [
    "## Stats\n",
    "Given the following data set:"
   ]
  },
  {
   "cell_type": "code",
   "execution_count": 18,
   "id": "ed63ba74-03d8-4f1f-ab6b-2d70bb45651a",
   "metadata": {},
   "outputs": [],
   "source": [
    "import numpy as np\n",
    "data_set = np.random.randn(10,100) ** 2"
   ]
  },
  {
   "cell_type": "markdown",
   "id": "ea60885a-0827-49b4-9e66-9a02882c289e",
   "metadata": {},
   "source": [
    "Compute the min, max, mean, median, standard deviation and variance\n"
   ]
  },
  {
   "cell_type": "code",
   "execution_count": 21,
   "id": "99c68d52-49ab-47b1-b206-6d2051850a44",
   "metadata": {},
   "outputs": [],
   "source": [
    "# you're code here"
   ]
  },
  {
   "cell_type": "markdown",
   "id": "f797a1d5-8fbf-41ef-b7b0-8e64c9af6484",
   "metadata": {},
   "source": [
    "## Vectors\n",
    "You're given the two 3 dimensional vectors a and b below."
   ]
  },
  {
   "cell_type": "code",
   "execution_count": 22,
   "id": "374d2ceb-d84b-4e4e-8913-597c6f707b71",
   "metadata": {},
   "outputs": [],
   "source": [
    "a = [1, 3, 5]\n",
    "b = [2, 9, 13]"
   ]
  },
  {
   "cell_type": "markdown",
   "id": "6450ef23-6961-4062-93cb-bf762c04476e",
   "metadata": {},
   "source": [
    "Compute:\n",
    "$$   + b   $$\n",
    "$$ 2a - 3b $$"
   ]
  },
  {
   "cell_type": "code",
   "execution_count": null,
   "id": "10aeb98c-436b-4ffa-bd59-990e0b44832f",
   "metadata": {},
   "outputs": [],
   "source": []
  }
 ],
 "metadata": {
  "kernelspec": {
   "display_name": "dlgs",
   "language": "python",
   "name": "dlgs"
  },
  "language_info": {
   "codemirror_mode": {
    "name": "ipython",
    "version": 3
   },
   "file_extension": ".py",
   "mimetype": "text/x-python",
   "name": "python",
   "nbconvert_exporter": "python",
   "pygments_lexer": "ipython3",
   "version": "3.7.13"
  }
 },
 "nbformat": 4,
 "nbformat_minor": 5
}
