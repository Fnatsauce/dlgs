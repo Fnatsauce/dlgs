{
 "cells": [
  {
   "cell_type": "markdown",
   "id": "c43c1a77-b308-4747-9dd3-8161415d0542",
   "metadata": {
    "pycharm": {
     "name": "#%% md\n"
    },
    "tags": []
   },
   "source": [
    "# Monte Carlo Tree Search Lab\n",
    "\n",
    "In this lab, we'll be using the game connect four, as a vehicle for learning MinMax and Monte Carlo Tree Search.\n",
    "We'll also introduce concepts, such as state, that'll stay relevant throughout the course.\n",
    "Expect to lose in connect four to the algorithm at the end of the lab."
   ]
  },
  {
   "cell_type": "markdown",
   "id": "3df728ba-bb09-419c-80c6-3e42863c9322",
   "metadata": {
    "pycharm": {
     "name": "#%% md\n"
    }
   },
   "source": [
    "## Setup\n",
    "This section you won't need to edit, but it is worth skimming through—this is where we declare the objects you'll be interacting with througout the lab."
   ]
  },
  {
   "cell_type": "code",
   "execution_count": 1,
   "id": "c6afed3e-4274-42f2-baf7-fd808e967e27",
   "metadata": {
    "pycharm": {
     "name": "#%%\n"
    }
   },
   "outputs": [],
   "source": [
    "# imports\n",
    "import random\n",
    "from typing import List, Tuple\n",
    "import time\n",
    "import numpy as np\n",
    "from collections import defaultdict\n",
    "from copy import deepcopy  # world -> thought"
   ]
  },
  {
   "cell_type": "code",
   "execution_count": 2,
   "id": "32942bc4-a6cf-4485-8b47-4e3618bc8660",
   "metadata": {
    "pycharm": {
     "name": "#%%\n"
    }
   },
   "outputs": [],
   "source": [
    "# world and world model\n",
    "class State:\n",
    "    def __init__(self, cols=4, rows=3, win_req=3): # 7, 6, 4\n",
    "        self.board = [['.'] * cols for _ in range(rows)]\n",
    "        self.heights = [1] * cols\n",
    "        self.num_moves = 0\n",
    "        self.win_req = win_req\n",
    "\n",
    "    def get_avail_actions(self) -> List[int]:\n",
    "        return [i for i in range(len(self.board[0])) if self.heights[i] <= len(self.board)]\n",
    "  \n",
    "    def put_action(self, action, agent):\n",
    "        self.board[len(self.board) - self.heights[action]][action] = agent.name\n",
    "        self.heights[action] += 1\n",
    "        self.num_moves += 1\n",
    "\n",
    "    def is_over(self):\n",
    "        return self.num_moves >= len(self.board) * len(self.board[0])\n",
    "\n",
    "    def __repr__(self):\n",
    "        return self.__str__()\n",
    "    \n",
    "    def __str__(self):\n",
    "        header  = \" \".join([str(i) for i in range(len(self.board[0]))])\n",
    "        line    = \"\".join([\"-\" for _ in range(len(header))])\n",
    "        board   = [[e for e in row] for row in self.board]\n",
    "        board   = '\\n'.join([' '.join(row) for row in board])\n",
    "        return  '\\n' + header + '\\n' + line + '\\n' + board + '\\n'"
   ]
  },
  {
   "cell_type": "code",
   "execution_count": 3,
   "id": "34ae7a75",
   "metadata": {
    "collapsed": false,
    "jupyter": {
     "outputs_hidden": false
    },
    "pycharm": {
     "name": "#%%\n"
    }
   },
   "outputs": [],
   "source": [
    "# evaluate the utility of a state\n",
    "def utility(state: 'State'):\n",
    "    board = state.board\n",
    "    n_cols = len(board[0]) - 1\n",
    "    n_rows = len(board) - 1\n",
    "\n",
    "    def diags_pos():\n",
    "        \"\"\"Get positive diagonals, going from bottom-left to top-right.\"\"\"\n",
    "        for di in ([(j, i - j) for j in range(n_cols)] for i in range(n_cols + n_rows - 1)):\n",
    "            yield [board[i][j] for i, j in di if i >= 0 and j >= 0 and i < n_cols and j < n_rows]\n",
    "\n",
    "    def diags_neg():\n",
    "        \"\"\"Get negative diagonals, going from top-left to bottom-right.\"\"\"\n",
    "        for di in ([(j, i - n_cols + j + 1) for j in range(n_cols)] for i in range(n_cols + n_rows - 1)):\n",
    "            yield [board[i][j] for i, j in di if i >= 0 and j >= 0 and i < n_cols and j < n_rows]\n",
    "\n",
    "    cols = list(map(list, list(zip(*board))))\n",
    "    rows = board\n",
    "    diags = list(diags_neg()) + list(diags_pos())\n",
    "    lines = rows + cols + diags\n",
    "    strings = [\"\".join(s) for s in lines]\n",
    "    for string in strings:\n",
    "        if 'OOO' in string:\n",
    "            return -1\n",
    "        if 'XXX' in string:\n",
    "            return 1\n",
    "    return 0\n"
   ]
  },
  {
   "cell_type": "code",
   "execution_count": 4,
   "id": "d9c3e952",
   "metadata": {
    "collapsed": false,
    "jupyter": {
     "outputs_hidden": false
    },
    "pycharm": {
     "name": "#%%\n"
    }
   },
   "outputs": [],
   "source": [
    "# parrent class for mcts, minmax, human, and any other idea for an agent you have\n",
    "class Agent:\n",
    "    def __init__(self, name: str):\n",
    "        self.name: str = name\n",
    "\n",
    "    def get_action(self, state: State):\n",
    "        return random.choice(state.get_avail_actions())\n",
    "\n",
    "\n",
    "class Human:\n",
    "    def __init__(self, name):\n",
    "        self.name = name\n",
    "\n",
    "    def get_action(self, state: State):\n",
    "        given_input = int(input())\n",
    "        if (given_input in state.get_avail_actions()):\n",
    "            return given_input\n",
    "        else:\n",
    "            print('Pick a valid input')\n"
   ]
  },
  {
   "cell_type": "code",
   "execution_count": 5,
   "id": "eb42b607-098c-41f5-a3dd-c5d44311c9c1",
   "metadata": {
    "pycharm": {
     "name": "#%%\n"
    }
   },
   "outputs": [
    {
     "ename": "NameError",
     "evalue": "name 'MCTSNode' is not defined",
     "output_type": "error",
     "traceback": [
      "\u001b[1;31m---------------------------------------------------------------------------\u001b[0m",
      "\u001b[1;31mNameError\u001b[0m                                 Traceback (most recent call last)",
      "\u001b[1;32mc:\\Users\\adobe\\Desktop\\Skolle\\Msc-3-semester-Games\\DeepLearning\\dlgs\\labs\\lab1.ipynb Cell 7\u001b[0m in \u001b[0;36m<cell line: 2>\u001b[1;34m()\u001b[0m\n\u001b[0;32m      <a href='vscode-notebook-cell:/c%3A/Users/adobe/Desktop/Skolle/Msc-3-semester-Games/DeepLearning/dlgs/labs/lab1.ipynb#W6sZmlsZQ%3D%3D?line=0'>1</a>\u001b[0m \u001b[39m# connecting states and agents\u001b[39;00m\n\u001b[1;32m----> <a href='vscode-notebook-cell:/c%3A/Users/adobe/Desktop/Skolle/Msc-3-semester-Games/DeepLearning/dlgs/labs/lab1.ipynb#W6sZmlsZQ%3D%3D?line=1'>2</a>\u001b[0m \u001b[39mclass\u001b[39;00m \u001b[39mGame\u001b[39;00m:\n\u001b[0;32m      <a href='vscode-notebook-cell:/c%3A/Users/adobe/Desktop/Skolle/Msc-3-semester-Games/DeepLearning/dlgs/labs/lab1.ipynb#W6sZmlsZQ%3D%3D?line=2'>3</a>\u001b[0m     \u001b[39mdef\u001b[39;00m \u001b[39m__init__\u001b[39m(\u001b[39mself\u001b[39m, agents: Tuple[MCTSNode, Human]):\n\u001b[0;32m      <a href='vscode-notebook-cell:/c%3A/Users/adobe/Desktop/Skolle/Msc-3-semester-Games/DeepLearning/dlgs/labs/lab1.ipynb#W6sZmlsZQ%3D%3D?line=3'>4</a>\u001b[0m         \u001b[39mself\u001b[39m\u001b[39m.\u001b[39magents \u001b[39m=\u001b[39m agents\n",
      "\u001b[1;32mc:\\Users\\adobe\\Desktop\\Skolle\\Msc-3-semester-Games\\DeepLearning\\dlgs\\labs\\lab1.ipynb Cell 7\u001b[0m in \u001b[0;36mGame\u001b[1;34m()\u001b[0m\n\u001b[0;32m      <a href='vscode-notebook-cell:/c%3A/Users/adobe/Desktop/Skolle/Msc-3-semester-Games/DeepLearning/dlgs/labs/lab1.ipynb#W6sZmlsZQ%3D%3D?line=1'>2</a>\u001b[0m \u001b[39mclass\u001b[39;00m \u001b[39mGame\u001b[39;00m:\n\u001b[1;32m----> <a href='vscode-notebook-cell:/c%3A/Users/adobe/Desktop/Skolle/Msc-3-semester-Games/DeepLearning/dlgs/labs/lab1.ipynb#W6sZmlsZQ%3D%3D?line=2'>3</a>\u001b[0m     \u001b[39mdef\u001b[39;00m \u001b[39m__init__\u001b[39m(\u001b[39mself\u001b[39m, agents: Tuple[MCTSNode, Human]):\n\u001b[0;32m      <a href='vscode-notebook-cell:/c%3A/Users/adobe/Desktop/Skolle/Msc-3-semester-Games/DeepLearning/dlgs/labs/lab1.ipynb#W6sZmlsZQ%3D%3D?line=3'>4</a>\u001b[0m         \u001b[39mself\u001b[39m\u001b[39m.\u001b[39magents \u001b[39m=\u001b[39m agents\n\u001b[0;32m      <a href='vscode-notebook-cell:/c%3A/Users/adobe/Desktop/Skolle/Msc-3-semester-Games/DeepLearning/dlgs/labs/lab1.ipynb#W6sZmlsZQ%3D%3D?line=4'>5</a>\u001b[0m         \u001b[39mself\u001b[39m\u001b[39m.\u001b[39mstate \u001b[39m=\u001b[39m State()\n",
      "\u001b[1;31mNameError\u001b[0m: name 'MCTSNode' is not defined"
     ]
    }
   ],
   "source": [
    "# connecting states and agents\n",
    "class Game:\n",
    "    def __init__(self, agents: Tuple[MCTSNode, Human]):\n",
    "        self.agents = agents\n",
    "        self.state = State()\n",
    "\n",
    "    def play(self):\n",
    "        while utility(self.state) == 0 and not self.state.is_over():\n",
    "            for agent in self.agents:\n",
    "                if utility(self.state) == 0 and not self.state.is_over():\n",
    "                    action = agent.get_action(self.state)\n",
    "                    self.state.put_action(action, agent)\n",
    "                    print(self.state)\n"
   ]
  },
  {
   "cell_type": "markdown",
   "id": "ae4a8a5f-ca01-4c07-bf57-22d94ab91bef",
   "metadata": {
    "pycharm": {
     "name": "#%% md\n"
    }
   },
   "source": [
    "## Exercise 0: Discuss and Run game\n",
    "Let's discuss if the `utility` function best belongs to the state or the agent.\n",
    "Put the state, agent and game class together so that a game is run."
   ]
  },
  {
   "cell_type": "code",
   "execution_count": null,
   "id": "795cdddb-c33f-4310-ac20-0f5abd3409d7",
   "metadata": {
    "pycharm": {
     "name": "#%%\n"
    }
   },
   "outputs": [
    {
     "name": "stdout",
     "output_type": "stream",
     "text": [
      "3\n",
      "\n",
      "0 1 2 3\n",
      "-------\n",
      ". . . .\n",
      ". . . .\n",
      ". . . O\n",
      "\n",
      "\n",
      "0 1 2 3\n",
      "-------\n",
      ". . . .\n",
      ". . . .\n",
      ". X . O\n",
      "\n",
      "3\n",
      "\n",
      "0 1 2 3\n",
      "-------\n",
      ". . . .\n",
      ". . . O\n",
      ". X . O\n",
      "\n",
      "\n",
      "0 1 2 3\n",
      "-------\n",
      ". . . .\n",
      ". X . O\n",
      ". X . O\n",
      "\n",
      "3\n",
      "\n",
      "0 1 2 3\n",
      "-------\n",
      ". . . O\n",
      ". X . O\n",
      ". X . O\n",
      "\n"
     ]
    }
   ],
   "source": [
    "agents = (MCTSNode(state=State()), Human('X'))\n",
    "game = Game(agents)\n",
    "game.play()\n"
   ]
  },
  {
   "cell_type": "markdown",
   "id": "6377f998-91ca-4641-8307-e64c8be93491",
   "metadata": {
    "pycharm": {
     "name": "#%% md\n"
    }
   },
   "source": [
    "## Exercise 1: Human Agent\n",
    "Make a child class of `Agent` called `Human`, with the `get_action` method overwritten to take input from you. *hint*: use `int(input())`"
   ]
  },
  {
   "cell_type": "code",
   "execution_count": null,
   "id": "d2649620-9f2f-4f6a-8e57-9f216a3c3b62",
   "metadata": {
    "pycharm": {
     "name": "#%%\n"
    }
   },
   "outputs": [],
   "source": [
    "class Human:\n",
    "    def __init__(self, name):\n",
    "        self.name = name\n",
    "\n",
    "    def get_action(self, state: State):\n",
    "        given_input = int(input())\n",
    "        if (given_input in state.get_avail_actions()):\n",
    "            return given_input\n",
    "        else:\n",
    "            print('Pick a valid input')\n"
   ]
  },
  {
   "cell_type": "markdown",
   "id": "b89fa6b2-e265-4cf0-8017-8369d4a15fef",
   "metadata": {
    "pycharm": {
     "name": "#%% md\n"
    }
   },
   "source": [
    "## Exercise 2: Gekko\n",
    "Make a child class of `Agent` called `Gekko`, with a `get_action` that is very short sighted (greedy). You can basically do whatever you want here, as long as your output a valid action. You might want to make a `utility` function for the agent, and perhaps some helper functions. Write a two line comment explaining your Gekko's heuristic."
   ]
  },
  {
   "cell_type": "code",
   "execution_count": null,
   "id": "8b999e09-dde6-41db-8222-a7d63803d632",
   "metadata": {
    "pycharm": {
     "name": "#%%\n"
    }
   },
   "outputs": [],
   "source": [
    "# Gekko works by counting the amount of already placed \"O\"'s and, if it is valid to continue that string towards four \"O\"s in a an either vertical or horizontal row, it will do so.\n",
    "# It never considers blocking the opponent, or diagnals because I found them to be buggy and ignoring them gave better \"greedy\" results.\n",
    "\n",
    "class Gekko:\n",
    "    def __init__(self, name):\n",
    "        self.name = name\n",
    "\n",
    "    def determine_col_o_count(self, string):\n",
    "        no_dots = string.replace(\".\", \"\")\n",
    "        no_x_list = no_dots.split(\"X\", 1)\n",
    "        no_x_string = no_x_list[0]\n",
    "        return len(no_x_string)\n",
    "\n",
    "    def determine_row_o_count_and_moves(self, string):\n",
    "        o_temp_counter = 0\n",
    "        temp_iterator = 0\n",
    "        valid_option_placements = []\n",
    "        for char in string:\n",
    "            if char == \"X\":\n",
    "                if temp_iterator < 3:\n",
    "                    o_temp_counter = 0\n",
    "                    valid_option_placements.clear()\n",
    "                if temp_iterator > 3:\n",
    "                    break\n",
    "            # Not optimal in terms of finding the best move...\n",
    "            if char == \"O\" and o_temp_counter < 3:\n",
    "                o_temp_counter = o_temp_counter + 1\n",
    "            if char == \".\":\n",
    "                valid_option_placements.append(temp_iterator)\n",
    "            temp_iterator = temp_iterator + 1\n",
    "        if (len(valid_option_placements) + o_temp_counter) > 3:\n",
    "            valid_option_placements.append(o_temp_counter)\n",
    "            return valid_option_placements\n",
    "        else:\n",
    "            valid_option_placements.clear()\n",
    "            return valid_option_placements\n",
    "\n",
    "    def get_action(self, state: State):\n",
    "        # Board stuff\n",
    "        board = state.board\n",
    "        col_height_list = state.heights\n",
    "        n_cols = len(board[0]) - 1\n",
    "        n_rows = len(board) - 1\n",
    "\n",
    "        def diags_pos():\n",
    "            \"\"\"Get positive diagonals, going from bottom-left to top-right.\"\"\"\n",
    "            for di in ([(j, i - j) for j in range(n_cols)] for i in range(n_cols + n_rows - 1)):\n",
    "                yield [board[i][j] for i, j in di if i >= 0 and j >= 0 and i < n_cols and j < n_rows]\n",
    "\n",
    "        def diags_neg():\n",
    "            \"\"\"Get negative diagonals, going from top-left to bottom-right.\"\"\"\n",
    "            for di in ([(j, i - n_cols + j + 1) for j in range(n_cols)] for i in range(n_cols + n_rows - 1)):\n",
    "                yield [board[i][j] for i, j in di if i >= 0 and j >= 0 and i < n_cols and j < n_rows]\n",
    "\n",
    "        cols = list(map(list, list(zip(*board))))\n",
    "        rows = board\n",
    "        diags = list(diags_neg()) + list(diags_pos())\n",
    "        lines = rows + cols + diags\n",
    "        strings = [\"\".join(s) for s in lines]\n",
    "\n",
    "        # New attempt at columns\n",
    "        col_strings = [\"\".join(s) for s in cols]\n",
    "        col_iterator = 0\n",
    "\n",
    "        best_col_o_count = 0\n",
    "        best_col_option = -1\n",
    "\n",
    "        for col_height in col_height_list:\n",
    "            # This is a valid column to pursue\n",
    "            if col_strings[col_iterator][3] != \"X\" and col_strings[col_iterator][2] != \"X\" and col_strings[col_iterator][1] != \"X\" and col_strings[col_iterator][0] != \"X\" and col_height < 7:\n",
    "                col_str = col_strings[col_iterator]\n",
    "                o_count = self.determine_col_o_count(col_str)\n",
    "                if o_count > best_col_o_count:\n",
    "                    best_col_o_count = o_count\n",
    "                    best_col_option = col_iterator\n",
    "            # This is NOT a valid column to pursue\n",
    "            else:\n",
    "                if col_iterator == best_col_option:\n",
    "                    best_col_option = -1\n",
    "            col_iterator = col_iterator + 1\n",
    "\n",
    "        # New attempt at rows\n",
    "        row_strings = [\"\".join(s) for s in rows]\n",
    "        row_strings.reverse()\n",
    "        row_iterator = 0\n",
    "\n",
    "        best_row_o_count = 0\n",
    "        best_row_option = -1\n",
    "\n",
    "        for row_str in row_strings:\n",
    "            # This is a valid row to pursue\n",
    "            if row_str[3] != \"X\":\n",
    "                moves = self.determine_row_o_count_and_moves(row_str)\n",
    "                if len(moves) > 1:\n",
    "                    temp_o_count = moves[len(moves) - 1]\n",
    "                    if temp_o_count > best_row_o_count:\n",
    "                        best_row_o_count = temp_o_count\n",
    "                        best_row_option = moves[0]\n",
    "\n",
    "        # Due to diagnals being read wrong, I found it was best to ignore them...\n",
    "        if best_col_o_count > best_row_o_count:\n",
    "            if best_col_option != -1:\n",
    "                return best_col_option\n",
    "            else:\n",
    "                return random.choice(state.get_avail_actions())\n",
    "        else:\n",
    "            if best_row_option != -1:\n",
    "                return best_row_option\n",
    "            else:\n",
    "                return random.choice(state.get_avail_actions())"
   ]
  },
  {
   "cell_type": "markdown",
   "id": "1a5195ff",
   "metadata": {
    "pycharm": {
     "name": "#%% md\n"
    },
    "tags": []
   },
   "source": [
    "## *Optional exercise: MinMax (useful to have done for exercise 3)*\n",
    "Make a MinMax agent:"
   ]
  },
  {
   "cell_type": "code",
   "execution_count": null,
   "id": "7b9b7de7",
   "metadata": {
    "collapsed": false,
    "jupyter": {
     "outputs_hidden": false
    },
    "pycharm": {
     "name": "#%%\n"
    }
   },
   "outputs": [],
   "source": [
    "class MinMax:\n",
    "  def __init__(self, name):\n",
    "      self.name = name\n",
    "\n",
    "  def get_action(self, state: State):\n",
    "    best_option = -1\n",
    "    currently_mazimizing = True\n",
    "    best_score = -10\n",
    "    for action in state.get_avail_actions():\n",
    "      list_test = state.get_avail_actions()\n",
    "      print(list_test[0])\n",
    "      state_copy = deepcopy(state)\n",
    "      state_copy.put_action(action, self)\n",
    "      temp_score = self.minimax(state_copy, not currently_mazimizing)\n",
    "      if temp_score > best_score:\n",
    "        best_option = action\n",
    "        best_score = temp_score\n",
    "    return best_option\n",
    "\n",
    "  def minimax(self, state: State, maximizing):\n",
    "    # Determine if we are done\n",
    "    if state.is_over() and maximizing:\n",
    "      return 1\n",
    "    elif state.is_over() and not maximizing:\n",
    "      return -1\n",
    "    elif maximizing:\n",
    "      temp_best_score = -10\n",
    "      for action in state.get_avail_actions():\n",
    "        state_copy = deepcopy(state)\n",
    "        state_copy.put_action(action, self)\n",
    "        score = self.minimax(state_copy, not maximizing)\n",
    "        if score > temp_best_score:\n",
    "          temp_best_score = score\n",
    "      return temp_best_score\n",
    "    elif not maximizing:\n",
    "      temp_best_score = 10\n",
    "      for action in state.get_avail_actions():\n",
    "        state_copy = deepcopy(state)\n",
    "        state_copy.put_action(action, self)\n",
    "        score = self.minimax(state_copy, maximizing)\n",
    "        if score > temp_best_score:\n",
    "          temp_best_score = score\n",
    "      return score\n",
    "    else:\n",
    "      return 0\n"
   ]
  },
  {
   "cell_type": "code",
   "execution_count": null,
   "id": "388a36ce",
   "metadata": {},
   "outputs": [],
   "source": [
    "# This did not make a big improvement, I might not have implemented it right.\n",
    "# It only runs the 3 x 3 game\n",
    "class MinMaxAB:\n",
    "  def __init__(self, name):\n",
    "      self.name = name\n",
    "\n",
    "  def get_action(self, state: State):\n",
    "    best_option = -1\n",
    "    currently_mazimizing = True\n",
    "    best_score = -10\n",
    "    for action in state.get_avail_actions():\n",
    "      list_test = state.get_avail_actions()\n",
    "      print(list_test[0])\n",
    "      state_copy = deepcopy(state)\n",
    "      state_copy.put_action(action, self)\n",
    "      alpha = -10\n",
    "      beta = 10\n",
    "      temp_score = self.minimax(\n",
    "          state_copy, not currently_mazimizing, alpha, beta)\n",
    "      if temp_score > best_score:\n",
    "        best_option = action\n",
    "        best_score = temp_score\n",
    "    return best_option\n",
    "\n",
    "  def minimax(self, state: State, maximizing, alpha, beta):\n",
    "    # Determine if we are done\n",
    "    if state.is_over() and maximizing:\n",
    "      return 1\n",
    "    elif state.is_over() and not maximizing:\n",
    "      return -1\n",
    "    elif maximizing:\n",
    "      temp_best_score = -10\n",
    "      for action in state.get_avail_actions():\n",
    "        state_copy = deepcopy(state)\n",
    "        state_copy.put_action(action, self)\n",
    "        score = self.minimax(state_copy, not maximizing, alpha, beta)\n",
    "        if score < beta:\n",
    "            if score > temp_best_score:\n",
    "                temp_best_score = score\n",
    "        else:\n",
    "            break\n",
    "      return temp_best_score\n",
    "    elif not maximizing:\n",
    "      temp_best_score = 10\n",
    "      for action in state.get_avail_actions():\n",
    "        state_copy = deepcopy(state)\n",
    "        state_copy.put_action(action, self)\n",
    "        score = self.minimax(state_copy, maximizing, alpha, beta)\n",
    "        if score > alpha:\n",
    "            if score < temp_best_score:\n",
    "                temp_best_score = score\n",
    "        else:\n",
    "            break\n",
    "      return score\n",
    "    else:\n",
    "      return 0"
   ]
  },
  {
   "cell_type": "markdown",
   "id": "f5bb1506-bff6-46b6-a05b-3c26a7e3ad26",
   "metadata": {
    "pycharm": {
     "name": "#%% md\n"
    }
   },
   "source": [
    "## Exercise 3: MCTS\n",
    "Same but for Monte Carlo Tree Search. See if you can beat it with a `Human`."
   ]
  },
  {
   "cell_type": "code",
   "execution_count": null,
   "id": "ee199e77",
   "metadata": {
    "collapsed": false,
    "jupyter": {
     "outputs_hidden": false
    },
    "pycharm": {
     "name": "#%%\n"
    }
   },
   "outputs": [],
   "source": [
    "class MCTSNode:\n",
    "    def __init__(self, state, parent=None, parent_action=None):\n",
    "        self.name = \"O\"\n",
    "        self.state = state\n",
    "        self.parent = parent\n",
    "        self.parent_action = parent_action\n",
    "        self.children = []\n",
    "        self._number_of_visits = 0\n",
    "        self._results = defaultdict(int)\n",
    "        self._results[1] = 0\n",
    "        self._results[-1] = 0\n",
    "        self._untried_actions = None\n",
    "        self._untried_actions = self.untried_actions()\n",
    "        return\n",
    "\n",
    "    def untried_actions(self):\n",
    "        self._untried_actions = self.state.get_avail_actions()\n",
    "        return self._untried_actions\n",
    "\n",
    "    def q(self):\n",
    "        wins = self._results[1]\n",
    "        loses = self._results[-1]\n",
    "        return wins - loses\n",
    "\n",
    "    def n(self):\n",
    "        return self._number_of_visits\n",
    "\n",
    "    def expand(self):\n",
    "        action = self._untried_actions.pop()\n",
    "        state_copy = deepcopy(self.state)\n",
    "        state_copy.put_action(action, self)\n",
    "        child_node = MCTSNode(\n",
    "            state_copy, parent=self, parent_action=action)\n",
    "\n",
    "        self.children.append(child_node)\n",
    "        return child_node\n",
    "    \n",
    "    def is_terminal_node(self):\n",
    "        return self.state.is_over()\n",
    "\n",
    "    def rollout(self):\n",
    "        current_rollout_state = self.state\n",
    "\n",
    "        while not current_rollout_state.is_over():\n",
    "\n",
    "            possible_moves = current_rollout_state.get_avail_actions()\n",
    "\n",
    "            action = self.rollout_policy(possible_moves)\n",
    "            current_rollout_state = deepcopy(current_rollout_state)\n",
    "            current_rollout_state.put_action(action, self)\n",
    "        return utility(current_rollout_state)\n",
    "        \n",
    "\n",
    "    def backpropagate(self, result):\n",
    "        self._number_of_visits += 1.\n",
    "        self._results[result] += 1.\n",
    "        if self.parent:\n",
    "            self.parent.backpropagate(result)\n",
    "\n",
    "    def is_fully_expanded(self):\n",
    "        return len(self._untried_actions) == 0\n",
    "\n",
    "    def best_child(self, c_param=0.1):\n",
    "        choices_weights = [(c.q() / c.n()) + c_param *\n",
    "                       np.sqrt((2 * np.log(self.n()) / c.n())) for c in self.children]\n",
    "        return self.children[np.argmax(choices_weights)]\n",
    "\n",
    "    def rollout_policy(self, possible_moves):\n",
    "        return possible_moves[np.random.randint(len(possible_moves))]\n",
    "\n",
    "    def _tree_policy(self):\n",
    "        current_node = self\n",
    "        while not current_node.is_terminal_node():\n",
    "\n",
    "            if not current_node.is_fully_expanded():\n",
    "                return current_node.expand()\n",
    "            else:\n",
    "                current_node = current_node.best_child()\n",
    "        return current_node\n",
    "\n",
    "    def best_action(self):\n",
    "        simulation_no = 1000\n",
    "\n",
    "        for i in range(simulation_no):\n",
    "\n",
    "            v = self._tree_policy()\n",
    "            reward = v.rollout()\n",
    "            v.backpropagate(reward)\n",
    "\n",
    "        return self.best_child(c_param=0.)\n",
    "\n",
    "    def get_action(self, initial_state: State):\n",
    "        root = MCTSNode(state=initial_state)\n",
    "        selected_node = root.best_action()\n",
    "        print(str(selected_node.parent_action))\n",
    "        return selected_node.parent_action\n",
    "        \n",
    "\n",
    "# class Node:\n",
    "#     def __init__(self, state: State, parent: 'Node' = None):\n",
    "#         self.children: List['Nodes'] = []\n",
    "#         self.parent: 'Node' = parent\n",
    "#         self.state: State = state"
   ]
  },
  {
   "cell_type": "code",
   "execution_count": null,
   "id": "49ace487-bcc3-43df-ae5b-424f17cb4874",
   "metadata": {
    "pycharm": {
     "name": "#%%\n"
    }
   },
   "outputs": [],
   "source": [
    "# class MCTS(Agent):\n",
    "#    def __init__(self, name):\n",
    "#        super(MCTS, self).__init__(name)"
   ]
  },
  {
   "cell_type": "markdown",
   "id": "e0037a71-a406-4c89-bf88-4b22eb53a135",
   "metadata": {
    "pycharm": {
     "name": "#%% md\n"
    }
   },
   "source": [
    "## *Optional exercise: Dynamic Programming*\n",
    "Then use dynamic programming to make your AI more efficient. You can use the class below (or not)"
   ]
  },
  {
   "cell_type": "code",
   "execution_count": null,
   "id": "819b6690",
   "metadata": {
    "collapsed": false,
    "jupyter": {
     "outputs_hidden": false
    },
    "pycharm": {
     "name": "#%%\n"
    }
   },
   "outputs": [],
   "source": [
    "class TranspositionTable:\n",
    "    def __init__(self, size=1_000_000):\n",
    "        self.size = size\n",
    "        self.vals = [None] * size\n",
    "\n",
    "    def board_str(self, state: State):\n",
    "        return ''.join([''.join(c) for c in state.board])\n",
    "\n",
    "    def put(self, state: State, utility: float):\n",
    "        bstr = self.board_str(state)\n",
    "        idx = hash(bstr) % self.size\n",
    "        self.vals[idx] = (bstr, utility)\n",
    "\n",
    "    def get(self, state: State):\n",
    "        bstr = self.board_str(state)\n",
    "        idx = hash(bstr) % self.size\n",
    "        stored = self.vals[idx]\n",
    "        if stored is None:\n",
    "            return None\n",
    "        if stored[0] == bstr:\n",
    "            return stored[1]\n",
    "        else:\n",
    "            return None"
   ]
  },
  {
   "cell_type": "code",
   "execution_count": null,
   "id": "d8628c0c",
   "metadata": {
    "collapsed": false,
    "jupyter": {
     "outputs_hidden": false
    },
    "pycharm": {
     "name": "#%%\n"
    }
   },
   "outputs": [],
   "source": []
  }
 ],
 "metadata": {
  "kernelspec": {
   "display_name": "Python 3.10.6 64-bit (microsoft store)",
   "language": "python",
   "name": "python3"
  },
  "language_info": {
   "codemirror_mode": {
    "name": "ipython",
    "version": 3
   },
   "file_extension": ".py",
   "mimetype": "text/x-python",
   "name": "python",
   "nbconvert_exporter": "python",
   "pygments_lexer": "ipython3",
   "version": "3.10.8"
  },
  "vscode": {
   "interpreter": {
    "hash": "ca90a0b97817074c741e4139491e51fe8c81a6af5348c47037bc5072db26432e"
   }
  }
 },
 "nbformat": 4,
 "nbformat_minor": 5
}
