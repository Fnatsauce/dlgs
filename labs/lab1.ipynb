{
 "cells": [
  {
   "cell_type": "markdown",
   "id": "c43c1a77-b308-4747-9dd3-8161415d0542",
   "metadata": {
    "pycharm": {
     "name": "#%% md\n"
    },
    "tags": []
   },
   "source": [
    "# Monte Carlo Tree Search Lab\n",
    "\n",
    "In this lab, we'll be using the game connect four, as a vehicle for learning MinMax and Monte Carlo Tree Search.\n",
    "We'll also introduce concepts, such as state, that'll stay relevant throughout the course.\n",
    "Expect to lose in connect four to the algorithm at the end of the lab."
   ]
  },
  {
   "cell_type": "markdown",
   "id": "3df728ba-bb09-419c-80c6-3e42863c9322",
   "metadata": {
    "pycharm": {
     "name": "#%% md\n"
    }
   },
   "source": [
    "## Setup\n",
    "This section you won't need to edit, but it is worth skimming through—this is where we declare the objects you'll be interacting with througout the lab."
   ]
  },
  {
   "cell_type": "code",
   "execution_count": null,
   "id": "c6afed3e-4274-42f2-baf7-fd808e967e27",
   "metadata": {
    "pycharm": {
     "name": "#%%\n"
    }
   },
   "outputs": [],
   "source": [
    "# imports\n",
    "import random\n",
    "from typing import List, Tuple\n",
    "import time\n",
    "from copy import deepcopy # world -> thought"
   ]
  },
  {
   "cell_type": "code",
   "execution_count": null,
   "id": "32942bc4-a6cf-4485-8b47-4e3618bc8660",
   "metadata": {
    "pycharm": {
     "name": "#%%\n"
    }
   },
   "outputs": [],
   "source": [
    "# world and world model\n",
    "class State:\n",
    "    def __init__(self, cols=7, rows=6, win_req=4):\n",
    "        self.board = [['.'] * cols for _ in range(rows)]\n",
    "        self.heights = [1] * cols\n",
    "        self.num_moves = 0\n",
    "        self.win_req = win_req\n",
    "\n",
    "    def get_avail_actions(self) -> List[int]:\n",
    "        return [i for i in range(len(self.board[0])) if self.heights[i] <= len(self.board)]\n",
    "  \n",
    "    def put_action(self, action, agent):\n",
    "        self.board[len(self.board) - self.heights[action]][action] = agent.name\n",
    "        self.heights[action] += 1\n",
    "        self.num_moves += 1\n",
    "\n",
    "    def is_over(self):\n",
    "        return self.num_moves >= len(self.board) * len(self.board[0])\n",
    "\n",
    "    def __repr__(self):\n",
    "        return self.__str__()\n",
    "    \n",
    "    def __str__(self):\n",
    "        header  = \" \".join([str(i) for i in range(len(self.board[0]))])\n",
    "        line    = \"\".join([\"-\" for _ in range(len(header))])\n",
    "        board   = [[e for e in row] for row in self.board]\n",
    "        board   = '\\n'.join([' '.join(row) for row in board])\n",
    "        return  '\\n' + header + '\\n' + line + '\\n' + board + '\\n'\n"
   ]
  },
  {
   "cell_type": "code",
   "execution_count": null,
   "id": "97a9c5f4",
   "metadata": {
    "collapsed": false,
    "pycharm": {
     "name": "#%%\n"
    }
   },
   "outputs": [],
   "source": [
    "# evaluate the utility of a state\n",
    "def utility(state: 'State'):\n",
    "    board = state.board\n",
    "    n_cols = len(board[0]) - 1\n",
    "    n_rows = len(board) - 1\n",
    "\n",
    "    def diags_pos():\n",
    "        \"\"\"Get positive diagonals, going from bottom-left to top-right.\"\"\"\n",
    "        for di in ([(j, i - j) for j in range(n_cols)] for i in range(n_cols + n_rows - 1)):\n",
    "            yield [board[i][j] for i, j in di if i >= 0 and j >= 0 and i < n_cols and j < n_rows]\n",
    "\n",
    "    def diags_neg():\n",
    "        \"\"\"Get negative diagonals, going from top-left to bottom-right.\"\"\"\n",
    "        for di in ([(j, i - n_cols + j + 1) for j in range(n_cols)] for i in range(n_cols + n_rows - 1)):\n",
    "            yield [board[i][j] for i, j in di if i >= 0 and j >= 0 and i < n_cols and j < n_rows]\n",
    "\n",
    "    cols = list(map(list, list(zip(*board))))\n",
    "    rows = board\n",
    "    diags = list(diags_neg()) + list(diags_pos())\n",
    "    lines = rows + cols + diags\n",
    "    strings = [\"\".join(s) for s in lines]\n",
    "    for string in strings:\n",
    "        if 'OOOO' in string:\n",
    "            return -1\n",
    "        if 'XXXX' in string:\n",
    "            return 1\n",
    "    return 0\n"
   ]
  },
  {
   "cell_type": "code",
   "execution_count": null,
   "id": "bd385d29",
   "metadata": {
    "collapsed": false,
    "pycharm": {
     "name": "#%%\n"
    }
   },
   "outputs": [],
   "source": [
    "# parrent class for mcts, minmax, human, and any other idea for an agent you have\n",
    "class Agent:\n",
    "    def __init__(self, name: str):\n",
    "        self.name: str = name\n",
    "\n",
    "    def get_action(self, state: State):\n",
    "        return random.choice(state.get_avail_actions())\n",
    "\n",
    "\n",
    "class Human:\n",
    "    def __init__(self, name):\n",
    "        self.name = name\n",
    "\n",
    "    def get_action(self, state: State):\n",
    "        given_input = int(input())\n",
    "        if (given_input in state.get_avail_actions()):\n",
    "            return given_input\n",
    "        else:\n",
    "            print('Pick a valid input')\n",
    "        "
   ]
  },
  {
   "cell_type": "code",
   "execution_count": null,
   "id": "eb42b607-098c-41f5-a3dd-c5d44311c9c1",
   "metadata": {
    "pycharm": {
     "name": "#%%\n"
    }
   },
   "outputs": [],
   "source": [
    "# connecting states and agents\n",
    "class Game:\n",
    "    def __init__(self, agents: Tuple[Gekko, Human]):\n",
    "        self.agents = agents\n",
    "        self.state = State()\n",
    "\n",
    "    def play(self):\n",
    "        while utility(self.state) == 0 and not self.state.is_over():\n",
    "            for agent in agents:\n",
    "                if utility(self.state) == 0 and not self.state.is_over():\n",
    "                    action = agent.get_action(self.state)\n",
    "                    self.state.put_action(action, agent)\n",
    "                    print(self.state)"
   ]
  },
  {
   "cell_type": "markdown",
   "id": "ae4a8a5f-ca01-4c07-bf57-22d94ab91bef",
   "metadata": {
    "pycharm": {
     "name": "#%% md\n"
    }
   },
   "source": [
    "## Exercise 0: Discuss and Run game\n",
    "Let's discuss if the `utility` function best belongs to the state or the agent.\n",
    "Put the state, agent and game class together so that a game is run."
   ]
  },
  {
   "cell_type": "code",
   "execution_count": null,
   "id": "795cdddb-c33f-4310-ac20-0f5abd3409d7",
   "metadata": {
    "pycharm": {
     "name": "#%%\n"
    }
   },
   "outputs": [],
   "source": [
    "agents = (Gekko('O'), Human('X'))\n",
    "game = Game(agents)\n",
    "game.play()"
   ]
  },
  {
   "cell_type": "markdown",
   "id": "6377f998-91ca-4641-8307-e64c8be93491",
   "metadata": {
    "pycharm": {
     "name": "#%% md\n"
    }
   },
   "source": [
    "## Exercise 1: Human Agent\n",
    "Make a child class of `Agent` called `Human`, with the `give_action` method overwritten to take input from you. *hint*: use `int(input())`"
   ]
  },
  {
   "cell_type": "code",
   "execution_count": null,
   "id": "d2649620-9f2f-4f6a-8e57-9f216a3c3b62",
   "metadata": {
    "pycharm": {
     "name": "#%%\n"
    }
   },
   "outputs": [],
   "source": [
    "class Human:\n",
    "    def __init__(self, name):\n",
    "        self.name = name\n",
    "\n",
    "\n",
    "    def get_action(self, state: State):\n",
    "        given_input = int(input())\n",
    "        if (given_input in state.get_avail_actions()):\n",
    "            return given_input \n",
    "        else:\n",
    "            print ('Pick a valid input')\n",
    "        \n"
   ]
  },
  {
   "cell_type": "markdown",
   "id": "b89fa6b2-e265-4cf0-8017-8369d4a15fef",
   "metadata": {
    "pycharm": {
     "name": "#%% md\n"
    }
   },
   "source": [
    "## Exercise 2: Gekko\n",
    "Make a child class of `Agent` called `Gekko`, with a `get_action` that is very short sighted (greedy). You can basically do whatever you want here, as long as your output a valid action. You might want to make a `utility` function for the agent, and perhaps some helper functions. Write a two line comment explaining your Gekko's heuristic."
   ]
  },
  {
   "cell_type": "code",
   "execution_count": 17,
   "id": "8b999e09-dde6-41db-8222-a7d63803d632",
   "metadata": {
    "pycharm": {
     "name": "#%%\n"
    }
   },
   "outputs": [],
   "source": [
    "class Gekko:\n",
    "    def __init__(self, name):\n",
    "        self.name = name\n",
    "\n",
    "    def determine_col_o_count(self, string):\n",
    "        no_dots = string.replace(\".\", \"\")\n",
    "        no_x_list = no_dots.split(\"X\", 1)\n",
    "        no_x_string = no_x_list[0]\n",
    "        return len(no_x_string)\n",
    "\n",
    "    def get_action(self, state: State):\n",
    "        # Board stuff\n",
    "        board = state.board\n",
    "        col_height_list = state.heights\n",
    "        n_cols = len(board[0]) - 1\n",
    "        n_rows = len(board) - 1\n",
    "\n",
    "        def diags_pos():\n",
    "            \"\"\"Get positive diagonals, going from bottom-left to top-right.\"\"\"\n",
    "            for di in ([(j, i - j) for j in range(n_cols)] for i in range(n_cols + n_rows - 1)):\n",
    "                yield [board[i][j] for i, j in di if i >= 0 and j >= 0 and i < n_cols and j < n_rows]\n",
    "\n",
    "        def diags_neg():\n",
    "            \"\"\"Get negative diagonals, going from top-left to bottom-right.\"\"\"\n",
    "            for di in ([(j, i - n_cols + j + 1) for j in range(n_cols)] for i in range(n_cols + n_rows - 1)):\n",
    "                yield [board[i][j] for i, j in di if i >= 0 and j >= 0 and i < n_cols and j < n_rows]\n",
    "\n",
    "        cols = list(map(list, list(zip(*board))))\n",
    "        rows = board\n",
    "        diags = list(diags_neg()) + list(diags_pos())\n",
    "        lines = rows + cols + diags\n",
    "        strings = [\"\".join(s) for s in lines]\n",
    "\n",
    "        # New attempt at columns\n",
    "        col_strings = [\"\".join(s) for s in cols]\n",
    "        col_iterator = 0\n",
    "\n",
    "        for col_height in col_height_list:\n",
    "            # This is a valid column to pursue\n",
    "            if col_strings[col_iterator][3] != \"X\" and col_strings[col_iterator][2] != \"X\" and col_strings[col_iterator][1] != \"X\" and col_strings[col_iterator][0] != \"X\" and col_height < 7:\n",
    "                col_str = col_strings[col_iterator]\n",
    "                o_count = self.determine_col_o_count(col_str)\n",
    "                \n",
    "                \n",
    "                print(\"IF!\")\n",
    "            # This is NOT a valid column to pursue\n",
    "            else: \n",
    "                print(\"ELSE!\")\n",
    "            \n",
    "            col_iterator = col_iterator + 1\n",
    "\n",
    "\n",
    "        # Greedy change, Only works for agent with name 'O':\n",
    "        \n",
    "        # # Doing the columns\n",
    "        # col_strings = [\"\".join(s) for s in cols]\n",
    "        # row_strings = [\"\".join(s) for s in rows]\n",
    "        # # Can maybe do all in one loop\n",
    "        # no_dots = 'TEST'\n",
    "        # best_col_option = ''\n",
    "        # best_col_option_place = 0\n",
    "        # best_col_o_count = 0\n",
    "        # current_col = 0\n",
    "        # for string in col_strings:\n",
    "        #     disallowed_characters = \".-1234567\"\n",
    "        #     for character in disallowed_characters:\n",
    "        #         no_dots = string.replace(character, \"\")\n",
    "        #     if best_col_option < no_dots:\n",
    "        #         no_x_list = no_dots.split(\"X\", 1)\n",
    "        #         no_x_string = no_x_list[0]\n",
    "        #         o_count = len(no_x_string)\n",
    "\n",
    "        #         space_remaining = 6 - len(no_dots)\n",
    "        #         space_needed = 4 - o_count\n",
    "        #         if space_needed > space_remaining:\n",
    "        #             # This is to try to avoid putting O's in a useless spot. Ideally, instead of setting the next best place to something semi random, \n",
    "        #             # having a 2nd best option to go back to would be ideal.\n",
    "        #             if best_col_option_place == current_col:\n",
    "        #                 if current_col == 0:\n",
    "        #                     best_col_option_place = 1\n",
    "        #                 else:\n",
    "        #                     best_col_option_place = 6 - current_col\n",
    "        #         else:\n",
    "        #             if o_count > best_col_o_count:\n",
    "        #                 best_col_o_count = o_count\n",
    "\n",
    "        #             if o_count >= best_col_o_count and (len(no_dots) + space_needed) <= 6 :\n",
    "        #                 best_col_option = no_dots\n",
    "        #                 best_col_option_place = current_col\n",
    "        #                 print(\"COL is: \" + str(best_col_option_place))\n",
    "\n",
    "        #             # Clear best_col_o_count if tied to bad option\n",
    "        #             if best_col_option_place == current_col and (len(no_dots) + space_needed) <= 6:\n",
    "        #                 best_col_o_count = 0\n",
    "        #     current_col = current_col + 1\n",
    "        \n",
    "        # # Doing the rows (Which count from the top row, downwards)\n",
    "        # best_row_option = ''\n",
    "        # best_row_option_place = -1\n",
    "        # best_row_o_count = 0\n",
    "        # current_row = 0\n",
    "        \n",
    "        # for string in row_strings:\n",
    "        #     o_count = 0\n",
    "        #     is_possible_validator = 0\n",
    "        #     valid_option_placements = []\n",
    "        #     latest_x_place = 0\n",
    "        #     current_char_place = 0\n",
    "        #     for char in string:\n",
    "        #         if char == \"O\":\n",
    "        #             # increment o_count\n",
    "        #             o_count = o_count + 1\n",
    "        #             is_possible_validator = is_possible_validator + 1\n",
    "        #             if o_count > best_row_o_count:\n",
    "        #                 best_row_o_count = o_count\n",
    "                \n",
    "        #         if char == \".\":\n",
    "        #             is_possible_validator = is_possible_validator + 1\n",
    "        #             # Here i should also check if building this up is better than pursuing something else\n",
    "        #             # For now I just check if it is an option as it is\n",
    "        #             if o_count > 0:\n",
    "        #                 if current_row <= 4:\n",
    "        #                     below_string = row_strings[current_row + 1]\n",
    "        #                     bellow_char = below_string[current_char_place]\n",
    "        #                     if bellow_char != \".\":\n",
    "        #                         valid_option_placements.append(current_char_place)\n",
    "        #                         print(\"Testing if: \" + str(valid_option_placements[len(\n",
    "        #                             valid_option_placements) - 1]))\n",
    "        #                 else:\n",
    "        #                     valid_option_placements.append(current_char_place)\n",
    "        #                     print(\"Testing else: \" + str(valid_option_placements[len(\n",
    "        #                         valid_option_placements) - 1]))\n",
    "\n",
    "        #         if char == \"X\" or current_char_place >= 7:\n",
    "        #             o_count = 0\n",
    "        #             latest_x_place = current_char_place\n",
    "        #             if is_possible_validator >= 4:\n",
    "        #                 if len(valid_option_placements) > 0:\n",
    "        #                     best_row_option_place = valid_option_placements[len(\n",
    "        #                         valid_option_placements) - 1]\n",
    "        #                     print(\"ROW is: \" + str(best_row_option_place))\n",
    "        #             else:\n",
    "        #                 if best_row_option_place == current_row:\n",
    "        #                     best_col_o_count = 0\n",
    "\n",
    "        #         current_char_place = current_char_place + 1\n",
    "        #     current_row = current_row + 1\n",
    "\n",
    "        # if best_row_option_place >= 0 and best_row_o_count > best_col_o_count:\n",
    "        #     return best_row_option_place\n",
    "        # else:\n",
    "        #     space_needed = 4 - best_col_o_count\n",
    "        #     if best_col_option_place in state.get_avail_actions() and (len(best_col_option) + space_needed) <= 6:\n",
    "        #         return best_col_option_place\n",
    "        #     else:\n",
    "        return random.choice(state.get_avail_actions())\n",
    "\n",
    "\n",
    "\n",
    "# evaluate the utility of a state\n",
    "def utility(state: 'State'):\n",
    "    board = state.board\n",
    "    n_cols = len(board[0]) - 1\n",
    "    n_rows = len(board) - 1\n",
    "\n",
    "    def diags_pos():\n",
    "        \"\"\"Get positive diagonals, going from bottom-left to top-right.\"\"\"\n",
    "        for di in ([(j, i - j) for j in range(n_cols)] for i in range(n_cols + n_rows - 1)):\n",
    "            yield [board[i][j] for i, j in di if i >= 0 and j >= 0 and i < n_cols and j < n_rows]\n",
    "\n",
    "    def diags_neg():\n",
    "        \"\"\"Get negative diagonals, going from top-left to bottom-right.\"\"\"\n",
    "        for di in ([(j, i - n_cols + j + 1) for j in range(n_cols)] for i in range(n_cols + n_rows - 1)):\n",
    "            yield [board[i][j] for i, j in di if i >= 0 and j >= 0 and i < n_cols and j < n_rows]\n",
    "\n",
    "    cols = list(map(list, list(zip(*board))))\n",
    "    rows = board\n",
    "    diags = list(diags_neg()) + list(diags_pos())\n",
    "    lines = rows + cols + diags\n",
    "    strings = [\"\".join(s) for s in lines]\n",
    "            \n",
    "\n",
    "    options = state.get_avail_actions()\n",
    "    current_best = ''\n",
    "    for string in strings:\n",
    "        if 'OOOO' in string:\n",
    "            return -1\n",
    "        if 'XXXX' in string:\n",
    "            return 1\n",
    "    return 0\n"
   ]
  },
  {
   "cell_type": "markdown",
   "id": "520742dd",
   "metadata": {
    "collapsed": false,
    "pycharm": {
     "name": "#%% md\n"
    }
   },
   "source": [
    "## *Optional exercise: MinMax*\n",
    "Make a MinMax class:"
   ]
  },
  {
   "cell_type": "code",
   "execution_count": null,
   "id": "a48b338a",
   "metadata": {
    "collapsed": false,
    "pycharm": {
     "name": "#%%\n"
    }
   },
   "outputs": [],
   "source": [
    "# class MinMax(Agent):\n",
    "#   def __init__(self):\n",
    "#       super(MinMax, self).__init__()"
   ]
  },
  {
   "cell_type": "markdown",
   "id": "f5bb1506-bff6-46b6-a05b-3c26a7e3ad26",
   "metadata": {
    "pycharm": {
     "name": "#%% md\n"
    }
   },
   "source": [
    "## Exercise 4: MCTS\n",
    "Same but for Monte Carlo Tree Search. See if you can beat it."
   ]
  },
  {
   "cell_type": "code",
   "execution_count": null,
   "id": "72d35f78",
   "metadata": {
    "collapsed": false,
    "pycharm": {
     "name": "#%%\n"
    }
   },
   "outputs": [],
   "source": [
    "# class Node:\n",
    "#     def __init__(self, state: State, parent: 'Node' = None):\n",
    "#         self.children: List['Nodes'] = []\n",
    "#         self.parent: 'Node' = parent\n",
    "#         self.state: State = state"
   ]
  },
  {
   "cell_type": "code",
   "execution_count": null,
   "id": "49ace487-bcc3-43df-ae5b-424f17cb4874",
   "metadata": {
    "pycharm": {
     "name": "#%%\n"
    }
   },
   "outputs": [],
   "source": [
    "# class MCTS(Agent):\n",
    "#    def __init__(self):\n",
    "#        super(MCTS, self).__init__()"
   ]
  },
  {
   "cell_type": "markdown",
   "id": "e0037a71-a406-4c89-bf88-4b22eb53a135",
   "metadata": {
    "pycharm": {
     "name": "#%% md\n"
    }
   },
   "source": [
    "## *Optional exercise: Dynamic Programming*\n",
    "Then use dynamic programming to make your AI more efficient. You can use the class below (or not)"
   ]
  },
  {
   "cell_type": "code",
   "execution_count": null,
   "id": "93066bde",
   "metadata": {
    "collapsed": false,
    "pycharm": {
     "name": "#%%\n"
    }
   },
   "outputs": [],
   "source": [
    "class TranspositionTable:\n",
    "    def __init__(self, size=1_000_000):\n",
    "        self.size = size\n",
    "        self.vals = [None] * size\n",
    "\n",
    "    def board_str(self, state: State):\n",
    "        return ''.join([''.join(c) for c in state.board])\n",
    "\n",
    "    def put(self, state: State, utility: float):\n",
    "        bstr = self.board_str(state)\n",
    "        idx = hash(bstr) % self.size\n",
    "        self.vals[idx] = (bstr, utility)\n",
    "\n",
    "    def get(self, state: State):\n",
    "        bstr = self.board_str(state)\n",
    "        idx = hash(bstr) % self.size\n",
    "        stored = self.vals[idx]\n",
    "        if stored is None:\n",
    "            return None\n",
    "        if stored[0] == bstr:\n",
    "            return stored[1]\n",
    "        else:\n",
    "            return None"
   ]
  },
  {
   "cell_type": "code",
   "execution_count": null,
   "id": "6043a58a",
   "metadata": {
    "collapsed": false,
    "pycharm": {
     "name": "#%%\n"
    }
   },
   "outputs": [],
   "source": []
  }
 ],
 "metadata": {
  "kernelspec": {
   "display_name": "Python 3.10.6 64-bit (windows store)",
   "language": "python",
   "name": "python3"
  },
  "language_info": {
   "codemirror_mode": {
    "name": "ipython",
    "version": 3
   },
   "file_extension": ".py",
   "mimetype": "text/x-python",
   "name": "python",
   "nbconvert_exporter": "python",
   "pygments_lexer": "ipython3",
   "version": "3.10.6"
  },
  "vscode": {
   "interpreter": {
    "hash": "ca90a0b97817074c741e4139491e51fe8c81a6af5348c47037bc5072db26432e"
   }
  }
 },
 "nbformat": 4,
 "nbformat_minor": 5
}
