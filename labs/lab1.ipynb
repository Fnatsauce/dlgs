{
 "cells": [
  {
   "cell_type": "markdown",
   "id": "c43c1a77-b308-4747-9dd3-8161415d0542",
   "metadata": {
    "pycharm": {
     "name": "#%% md\n"
    },
    "tags": []
   },
   "source": [
    "# Monte Carlo Tree Search Lab\n",
    "\n",
    "In this lab, we'll be using the game connect four, as a vehicle for learning MinMax and Monte Carlo Tree Search.\n",
    "We'll also introduce concepts, such as state, that'll stay relevant throughout the course.\n",
    "Expect to lose in connect four to the algorithm at the end of the lab."
   ]
  },
  {
   "cell_type": "markdown",
   "id": "3df728ba-bb09-419c-80c6-3e42863c9322",
   "metadata": {
    "pycharm": {
     "name": "#%% md\n"
    }
   },
   "source": [
    "## Setup\n",
    "This section you won't need to edit, but it is worth skimming through—this is where we declare the objects you'll be interacting with througout the lab."
   ]
  },
  {
   "cell_type": "code",
   "execution_count": null,
   "id": "c6afed3e-4274-42f2-baf7-fd808e967e27",
   "metadata": {
    "pycharm": {
     "name": "#%%\n"
    }
   },
   "outputs": [],
   "source": [
    "# imports\n",
    "import random\n",
    "from typing import List, Tuple\n",
    "import time\n",
    "from copy import deepcopy # world -> thought"
   ]
  },
  {
   "cell_type": "code",
   "execution_count": 61,
   "id": "32942bc4-a6cf-4485-8b47-4e3618bc8660",
   "metadata": {
    "pycharm": {
     "name": "#%%\n"
    }
   },
   "outputs": [],
   "source": [
    "# world and world model\n",
    "class State:\n",
    "    def __init__(self, cols=4, rows=3, win_req=3): # 7, 6, 4\n",
    "        self.board = [['.'] * cols for _ in range(rows)]\n",
    "        self.heights = [1] * cols\n",
    "        self.num_moves = 0\n",
    "        self.win_req = win_req\n",
    "\n",
    "    def get_avail_actions(self) -> List[int]:\n",
    "        return [i for i in range(len(self.board[0])) if self.heights[i] <= len(self.board)]\n",
    "  \n",
    "    def put_action(self, action, agent):\n",
    "        self.board[len(self.board) - self.heights[action]][action] = agent.name\n",
    "        self.heights[action] += 1\n",
    "        self.num_moves += 1\n",
    "\n",
    "    def is_over(self):\n",
    "        return self.num_moves >= len(self.board) * len(self.board[0])\n",
    "\n",
    "    def __repr__(self):\n",
    "        return self.__str__()\n",
    "    \n",
    "    def __str__(self):\n",
    "        header  = \" \".join([str(i) for i in range(len(self.board[0]))])\n",
    "        line    = \"\".join([\"-\" for _ in range(len(header))])\n",
    "        board   = [[e for e in row] for row in self.board]\n",
    "        board   = '\\n'.join([' '.join(row) for row in board])\n",
    "        return  '\\n' + header + '\\n' + line + '\\n' + board + '\\n'\n"
   ]
  },
  {
   "cell_type": "code",
   "execution_count": null,
   "id": "97a9c5f4",
   "metadata": {
    "collapsed": false,
    "pycharm": {
     "name": "#%%\n"
    }
   },
   "outputs": [],
   "source": [
    "# evaluate the utility of a state\n",
    "def utility(state: 'State'):\n",
    "    board = state.board\n",
    "    n_cols = len(board[0]) - 1\n",
    "    n_rows = len(board) - 1\n",
    "\n",
    "    def diags_pos():\n",
    "        \"\"\"Get positive diagonals, going from bottom-left to top-right.\"\"\"\n",
    "        for di in ([(j, i - j) for j in range(n_cols)] for i in range(n_cols + n_rows - 1)):\n",
    "            yield [board[i][j] for i, j in di if i >= 0 and j >= 0 and i < n_cols and j < n_rows]\n",
    "\n",
    "    def diags_neg():\n",
    "        \"\"\"Get negative diagonals, going from top-left to bottom-right.\"\"\"\n",
    "        for di in ([(j, i - n_cols + j + 1) for j in range(n_cols)] for i in range(n_cols + n_rows - 1)):\n",
    "            yield [board[i][j] for i, j in di if i >= 0 and j >= 0 and i < n_cols and j < n_rows]\n",
    "\n",
    "    cols = list(map(list, list(zip(*board))))\n",
    "    rows = board\n",
    "    diags = list(diags_neg()) + list(diags_pos())\n",
    "    lines = rows + cols + diags\n",
    "    strings = [\"\".join(s) for s in lines]\n",
    "    for string in strings:\n",
    "        if 'OOO' in string:\n",
    "            return -1\n",
    "        if 'XXX' in string:\n",
    "            return 1\n",
    "    return 0\n"
   ]
  },
  {
   "cell_type": "code",
   "execution_count": null,
   "id": "bd385d29",
   "metadata": {
    "collapsed": false,
    "pycharm": {
     "name": "#%%\n"
    }
   },
   "outputs": [],
   "source": [
    "# parrent class for mcts, minmax, human, and any other idea for an agent you have\n",
    "class Agent:\n",
    "    def __init__(self, name: str):\n",
    "        self.name: str = name\n",
    "\n",
    "    def get_action(self, state: State):\n",
    "        return random.choice(state.get_avail_actions())\n",
    "\n",
    "\n",
    "class Human:\n",
    "    def __init__(self, name):\n",
    "        self.name = name\n",
    "\n",
    "    def get_action(self, state: State):\n",
    "        given_input = int(input())\n",
    "        if (given_input in state.get_avail_actions()):\n",
    "            return given_input\n",
    "        else:\n",
    "            print('Pick a valid input')\n",
    "        "
   ]
  },
  {
   "cell_type": "code",
   "execution_count": 64,
   "id": "eb42b607-098c-41f5-a3dd-c5d44311c9c1",
   "metadata": {
    "pycharm": {
     "name": "#%%\n"
    }
   },
   "outputs": [],
   "source": [
    "# connecting states and agents\n",
    "class Game:\n",
    "    def __init__(self, agents: Tuple[MinMax, Human]):\n",
    "        self.agents = agents\n",
    "        self.state = State()\n",
    "\n",
    "    def play(self):\n",
    "        while utility(self.state) == 0 and not self.state.is_over():\n",
    "            for agent in agents:\n",
    "                if utility(self.state) == 0 and not self.state.is_over():\n",
    "                    action = agent.get_action(self.state)\n",
    "                    self.state.put_action(action, agent)\n",
    "                    print(self.state)"
   ]
  },
  {
   "cell_type": "markdown",
   "id": "ae4a8a5f-ca01-4c07-bf57-22d94ab91bef",
   "metadata": {
    "pycharm": {
     "name": "#%% md\n"
    }
   },
   "source": [
    "## Exercise 0: Discuss and Run game\n",
    "Let's discuss if the `utility` function best belongs to the state or the agent.\n",
    "Put the state, agent and game class together so that a game is run."
   ]
  },
  {
   "cell_type": "code",
   "execution_count": 66,
   "id": "795cdddb-c33f-4310-ac20-0f5abd3409d7",
   "metadata": {
    "pycharm": {
     "name": "#%%\n"
    }
   },
   "outputs": [
    {
     "name": "stdout",
     "output_type": "stream",
     "text": [
      "0\n",
      "0\n"
     ]
    },
    {
     "ename": "KeyboardInterrupt",
     "evalue": "",
     "output_type": "error",
     "traceback": [
      "\u001b[1;31m---------------------------------------------------------------------------\u001b[0m",
      "\u001b[1;31mKeyboardInterrupt\u001b[0m                         Traceback (most recent call last)",
      "\u001b[1;32mc:\\Users\\adobe\\Desktop\\Skolle\\Msc-3-semester-Games\\DeepLearning\\dlgs\\labs\\lab1.ipynb Cell 9\u001b[0m in \u001b[0;36m<cell line: 3>\u001b[1;34m()\u001b[0m\n\u001b[0;32m      <a href='vscode-notebook-cell:/c%3A/Users/adobe/Desktop/Skolle/Msc-3-semester-Games/DeepLearning/dlgs/labs/lab1.ipynb#X52sZmlsZQ%3D%3D?line=0'>1</a>\u001b[0m agents \u001b[39m=\u001b[39m (MinMax(\u001b[39m'\u001b[39m\u001b[39mO\u001b[39m\u001b[39m'\u001b[39m), Human(\u001b[39m'\u001b[39m\u001b[39mX\u001b[39m\u001b[39m'\u001b[39m))\n\u001b[0;32m      <a href='vscode-notebook-cell:/c%3A/Users/adobe/Desktop/Skolle/Msc-3-semester-Games/DeepLearning/dlgs/labs/lab1.ipynb#X52sZmlsZQ%3D%3D?line=1'>2</a>\u001b[0m game \u001b[39m=\u001b[39m Game(agents)\n\u001b[1;32m----> <a href='vscode-notebook-cell:/c%3A/Users/adobe/Desktop/Skolle/Msc-3-semester-Games/DeepLearning/dlgs/labs/lab1.ipynb#X52sZmlsZQ%3D%3D?line=2'>3</a>\u001b[0m game\u001b[39m.\u001b[39;49mplay()\n",
      "\u001b[1;32mc:\\Users\\adobe\\Desktop\\Skolle\\Msc-3-semester-Games\\DeepLearning\\dlgs\\labs\\lab1.ipynb Cell 9\u001b[0m in \u001b[0;36mGame.play\u001b[1;34m(self)\u001b[0m\n\u001b[0;32m      <a href='vscode-notebook-cell:/c%3A/Users/adobe/Desktop/Skolle/Msc-3-semester-Games/DeepLearning/dlgs/labs/lab1.ipynb#X52sZmlsZQ%3D%3D?line=8'>9</a>\u001b[0m \u001b[39mfor\u001b[39;00m agent \u001b[39min\u001b[39;00m agents:\n\u001b[0;32m     <a href='vscode-notebook-cell:/c%3A/Users/adobe/Desktop/Skolle/Msc-3-semester-Games/DeepLearning/dlgs/labs/lab1.ipynb#X52sZmlsZQ%3D%3D?line=9'>10</a>\u001b[0m     \u001b[39mif\u001b[39;00m utility(\u001b[39mself\u001b[39m\u001b[39m.\u001b[39mstate) \u001b[39m==\u001b[39m \u001b[39m0\u001b[39m \u001b[39mand\u001b[39;00m \u001b[39mnot\u001b[39;00m \u001b[39mself\u001b[39m\u001b[39m.\u001b[39mstate\u001b[39m.\u001b[39mis_over():\n\u001b[1;32m---> <a href='vscode-notebook-cell:/c%3A/Users/adobe/Desktop/Skolle/Msc-3-semester-Games/DeepLearning/dlgs/labs/lab1.ipynb#X52sZmlsZQ%3D%3D?line=10'>11</a>\u001b[0m         action \u001b[39m=\u001b[39m agent\u001b[39m.\u001b[39;49mget_action(\u001b[39mself\u001b[39;49m\u001b[39m.\u001b[39;49mstate)\n\u001b[0;32m     <a href='vscode-notebook-cell:/c%3A/Users/adobe/Desktop/Skolle/Msc-3-semester-Games/DeepLearning/dlgs/labs/lab1.ipynb#X52sZmlsZQ%3D%3D?line=11'>12</a>\u001b[0m         \u001b[39mself\u001b[39m\u001b[39m.\u001b[39mstate\u001b[39m.\u001b[39mput_action(action, agent)\n\u001b[0;32m     <a href='vscode-notebook-cell:/c%3A/Users/adobe/Desktop/Skolle/Msc-3-semester-Games/DeepLearning/dlgs/labs/lab1.ipynb#X52sZmlsZQ%3D%3D?line=12'>13</a>\u001b[0m         \u001b[39mprint\u001b[39m(\u001b[39mself\u001b[39m\u001b[39m.\u001b[39mstate)\n",
      "\u001b[1;32mc:\\Users\\adobe\\Desktop\\Skolle\\Msc-3-semester-Games\\DeepLearning\\dlgs\\labs\\lab1.ipynb Cell 9\u001b[0m in \u001b[0;36mMinMax.get_action\u001b[1;34m(self, state)\u001b[0m\n\u001b[0;32m     <a href='vscode-notebook-cell:/c%3A/Users/adobe/Desktop/Skolle/Msc-3-semester-Games/DeepLearning/dlgs/labs/lab1.ipynb#X52sZmlsZQ%3D%3D?line=11'>12</a>\u001b[0m state_copy \u001b[39m=\u001b[39m deepcopy(state)\n\u001b[0;32m     <a href='vscode-notebook-cell:/c%3A/Users/adobe/Desktop/Skolle/Msc-3-semester-Games/DeepLearning/dlgs/labs/lab1.ipynb#X52sZmlsZQ%3D%3D?line=12'>13</a>\u001b[0m state_copy\u001b[39m.\u001b[39mput_action(action, \u001b[39mself\u001b[39m)\n\u001b[1;32m---> <a href='vscode-notebook-cell:/c%3A/Users/adobe/Desktop/Skolle/Msc-3-semester-Games/DeepLearning/dlgs/labs/lab1.ipynb#X52sZmlsZQ%3D%3D?line=13'>14</a>\u001b[0m temp_score \u001b[39m=\u001b[39m \u001b[39mself\u001b[39;49m\u001b[39m.\u001b[39;49mminimax(state, \u001b[39mnot\u001b[39;49;00m currently_mazimizing)\n\u001b[0;32m     <a href='vscode-notebook-cell:/c%3A/Users/adobe/Desktop/Skolle/Msc-3-semester-Games/DeepLearning/dlgs/labs/lab1.ipynb#X52sZmlsZQ%3D%3D?line=14'>15</a>\u001b[0m \u001b[39mif\u001b[39;00m temp_score \u001b[39m>\u001b[39m best_score:\n\u001b[0;32m     <a href='vscode-notebook-cell:/c%3A/Users/adobe/Desktop/Skolle/Msc-3-semester-Games/DeepLearning/dlgs/labs/lab1.ipynb#X52sZmlsZQ%3D%3D?line=15'>16</a>\u001b[0m   best_option \u001b[39m=\u001b[39m action\n",
      "\u001b[1;32mc:\\Users\\adobe\\Desktop\\Skolle\\Msc-3-semester-Games\\DeepLearning\\dlgs\\labs\\lab1.ipynb Cell 9\u001b[0m in \u001b[0;36mMinMax.minimax\u001b[1;34m(self, state, maximizing)\u001b[0m\n\u001b[0;32m     <a href='vscode-notebook-cell:/c%3A/Users/adobe/Desktop/Skolle/Msc-3-semester-Games/DeepLearning/dlgs/labs/lab1.ipynb#X52sZmlsZQ%3D%3D?line=37'>38</a>\u001b[0m state_copy \u001b[39m=\u001b[39m deepcopy(state)\n\u001b[0;32m     <a href='vscode-notebook-cell:/c%3A/Users/adobe/Desktop/Skolle/Msc-3-semester-Games/DeepLearning/dlgs/labs/lab1.ipynb#X52sZmlsZQ%3D%3D?line=38'>39</a>\u001b[0m state_copy\u001b[39m.\u001b[39mput_action(action, \u001b[39mself\u001b[39m)\n\u001b[1;32m---> <a href='vscode-notebook-cell:/c%3A/Users/adobe/Desktop/Skolle/Msc-3-semester-Games/DeepLearning/dlgs/labs/lab1.ipynb#X52sZmlsZQ%3D%3D?line=39'>40</a>\u001b[0m score \u001b[39m=\u001b[39m \u001b[39mself\u001b[39;49m\u001b[39m.\u001b[39;49mminimax(state_copy, maximizing)\n\u001b[0;32m     <a href='vscode-notebook-cell:/c%3A/Users/adobe/Desktop/Skolle/Msc-3-semester-Games/DeepLearning/dlgs/labs/lab1.ipynb#X52sZmlsZQ%3D%3D?line=40'>41</a>\u001b[0m \u001b[39mif\u001b[39;00m score \u001b[39m>\u001b[39m temp_best_score:\n\u001b[0;32m     <a href='vscode-notebook-cell:/c%3A/Users/adobe/Desktop/Skolle/Msc-3-semester-Games/DeepLearning/dlgs/labs/lab1.ipynb#X52sZmlsZQ%3D%3D?line=41'>42</a>\u001b[0m   temp_best_score \u001b[39m=\u001b[39m score\n",
      "\u001b[1;32mc:\\Users\\adobe\\Desktop\\Skolle\\Msc-3-semester-Games\\DeepLearning\\dlgs\\labs\\lab1.ipynb Cell 9\u001b[0m in \u001b[0;36mMinMax.minimax\u001b[1;34m(self, state, maximizing)\u001b[0m\n\u001b[0;32m     <a href='vscode-notebook-cell:/c%3A/Users/adobe/Desktop/Skolle/Msc-3-semester-Games/DeepLearning/dlgs/labs/lab1.ipynb#X52sZmlsZQ%3D%3D?line=37'>38</a>\u001b[0m state_copy \u001b[39m=\u001b[39m deepcopy(state)\n\u001b[0;32m     <a href='vscode-notebook-cell:/c%3A/Users/adobe/Desktop/Skolle/Msc-3-semester-Games/DeepLearning/dlgs/labs/lab1.ipynb#X52sZmlsZQ%3D%3D?line=38'>39</a>\u001b[0m state_copy\u001b[39m.\u001b[39mput_action(action, \u001b[39mself\u001b[39m)\n\u001b[1;32m---> <a href='vscode-notebook-cell:/c%3A/Users/adobe/Desktop/Skolle/Msc-3-semester-Games/DeepLearning/dlgs/labs/lab1.ipynb#X52sZmlsZQ%3D%3D?line=39'>40</a>\u001b[0m score \u001b[39m=\u001b[39m \u001b[39mself\u001b[39;49m\u001b[39m.\u001b[39;49mminimax(state_copy, maximizing)\n\u001b[0;32m     <a href='vscode-notebook-cell:/c%3A/Users/adobe/Desktop/Skolle/Msc-3-semester-Games/DeepLearning/dlgs/labs/lab1.ipynb#X52sZmlsZQ%3D%3D?line=40'>41</a>\u001b[0m \u001b[39mif\u001b[39;00m score \u001b[39m>\u001b[39m temp_best_score:\n\u001b[0;32m     <a href='vscode-notebook-cell:/c%3A/Users/adobe/Desktop/Skolle/Msc-3-semester-Games/DeepLearning/dlgs/labs/lab1.ipynb#X52sZmlsZQ%3D%3D?line=41'>42</a>\u001b[0m   temp_best_score \u001b[39m=\u001b[39m score\n",
      "    \u001b[1;31m[... skipping similar frames: MinMax.minimax at line 40 (8 times)]\u001b[0m\n",
      "\u001b[1;32mc:\\Users\\adobe\\Desktop\\Skolle\\Msc-3-semester-Games\\DeepLearning\\dlgs\\labs\\lab1.ipynb Cell 9\u001b[0m in \u001b[0;36mMinMax.minimax\u001b[1;34m(self, state, maximizing)\u001b[0m\n\u001b[0;32m     <a href='vscode-notebook-cell:/c%3A/Users/adobe/Desktop/Skolle/Msc-3-semester-Games/DeepLearning/dlgs/labs/lab1.ipynb#X52sZmlsZQ%3D%3D?line=37'>38</a>\u001b[0m state_copy \u001b[39m=\u001b[39m deepcopy(state)\n\u001b[0;32m     <a href='vscode-notebook-cell:/c%3A/Users/adobe/Desktop/Skolle/Msc-3-semester-Games/DeepLearning/dlgs/labs/lab1.ipynb#X52sZmlsZQ%3D%3D?line=38'>39</a>\u001b[0m state_copy\u001b[39m.\u001b[39mput_action(action, \u001b[39mself\u001b[39m)\n\u001b[1;32m---> <a href='vscode-notebook-cell:/c%3A/Users/adobe/Desktop/Skolle/Msc-3-semester-Games/DeepLearning/dlgs/labs/lab1.ipynb#X52sZmlsZQ%3D%3D?line=39'>40</a>\u001b[0m score \u001b[39m=\u001b[39m \u001b[39mself\u001b[39;49m\u001b[39m.\u001b[39;49mminimax(state_copy, maximizing)\n\u001b[0;32m     <a href='vscode-notebook-cell:/c%3A/Users/adobe/Desktop/Skolle/Msc-3-semester-Games/DeepLearning/dlgs/labs/lab1.ipynb#X52sZmlsZQ%3D%3D?line=40'>41</a>\u001b[0m \u001b[39mif\u001b[39;00m score \u001b[39m>\u001b[39m temp_best_score:\n\u001b[0;32m     <a href='vscode-notebook-cell:/c%3A/Users/adobe/Desktop/Skolle/Msc-3-semester-Games/DeepLearning/dlgs/labs/lab1.ipynb#X52sZmlsZQ%3D%3D?line=41'>42</a>\u001b[0m   temp_best_score \u001b[39m=\u001b[39m score\n",
      "\u001b[1;32mc:\\Users\\adobe\\Desktop\\Skolle\\Msc-3-semester-Games\\DeepLearning\\dlgs\\labs\\lab1.ipynb Cell 9\u001b[0m in \u001b[0;36mMinMax.minimax\u001b[1;34m(self, state, maximizing)\u001b[0m\n\u001b[0;32m     <a href='vscode-notebook-cell:/c%3A/Users/adobe/Desktop/Skolle/Msc-3-semester-Games/DeepLearning/dlgs/labs/lab1.ipynb#X52sZmlsZQ%3D%3D?line=35'>36</a>\u001b[0m temp_best_score \u001b[39m=\u001b[39m \u001b[39m10\u001b[39m\n\u001b[0;32m     <a href='vscode-notebook-cell:/c%3A/Users/adobe/Desktop/Skolle/Msc-3-semester-Games/DeepLearning/dlgs/labs/lab1.ipynb#X52sZmlsZQ%3D%3D?line=36'>37</a>\u001b[0m \u001b[39mfor\u001b[39;00m action \u001b[39min\u001b[39;00m state\u001b[39m.\u001b[39mget_avail_actions():\n\u001b[1;32m---> <a href='vscode-notebook-cell:/c%3A/Users/adobe/Desktop/Skolle/Msc-3-semester-Games/DeepLearning/dlgs/labs/lab1.ipynb#X52sZmlsZQ%3D%3D?line=37'>38</a>\u001b[0m   state_copy \u001b[39m=\u001b[39m deepcopy(state)\n\u001b[0;32m     <a href='vscode-notebook-cell:/c%3A/Users/adobe/Desktop/Skolle/Msc-3-semester-Games/DeepLearning/dlgs/labs/lab1.ipynb#X52sZmlsZQ%3D%3D?line=38'>39</a>\u001b[0m   state_copy\u001b[39m.\u001b[39mput_action(action, \u001b[39mself\u001b[39m)\n\u001b[0;32m     <a href='vscode-notebook-cell:/c%3A/Users/adobe/Desktop/Skolle/Msc-3-semester-Games/DeepLearning/dlgs/labs/lab1.ipynb#X52sZmlsZQ%3D%3D?line=39'>40</a>\u001b[0m   score \u001b[39m=\u001b[39m \u001b[39mself\u001b[39m\u001b[39m.\u001b[39mminimax(state_copy, maximizing)\n",
      "File \u001b[1;32mC:\\Program Files\\WindowsApps\\PythonSoftwareFoundation.Python.3.10_3.10.1776.0_x64__qbz5n2kfra8p0\\lib\\copy.py:172\u001b[0m, in \u001b[0;36mdeepcopy\u001b[1;34m(x, memo, _nil)\u001b[0m\n\u001b[0;32m    170\u001b[0m                 y \u001b[39m=\u001b[39m x\n\u001b[0;32m    171\u001b[0m             \u001b[39melse\u001b[39;00m:\n\u001b[1;32m--> 172\u001b[0m                 y \u001b[39m=\u001b[39m _reconstruct(x, memo, \u001b[39m*\u001b[39;49mrv)\n\u001b[0;32m    174\u001b[0m \u001b[39m# If is its own copy, don't memoize.\u001b[39;00m\n\u001b[0;32m    175\u001b[0m \u001b[39mif\u001b[39;00m y \u001b[39mis\u001b[39;00m \u001b[39mnot\u001b[39;00m x:\n",
      "File \u001b[1;32mC:\\Program Files\\WindowsApps\\PythonSoftwareFoundation.Python.3.10_3.10.1776.0_x64__qbz5n2kfra8p0\\lib\\copy.py:271\u001b[0m, in \u001b[0;36m_reconstruct\u001b[1;34m(x, memo, func, args, state, listiter, dictiter, deepcopy)\u001b[0m\n\u001b[0;32m    269\u001b[0m \u001b[39mif\u001b[39;00m state \u001b[39mis\u001b[39;00m \u001b[39mnot\u001b[39;00m \u001b[39mNone\u001b[39;00m:\n\u001b[0;32m    270\u001b[0m     \u001b[39mif\u001b[39;00m deep:\n\u001b[1;32m--> 271\u001b[0m         state \u001b[39m=\u001b[39m deepcopy(state, memo)\n\u001b[0;32m    272\u001b[0m     \u001b[39mif\u001b[39;00m \u001b[39mhasattr\u001b[39m(y, \u001b[39m'\u001b[39m\u001b[39m__setstate__\u001b[39m\u001b[39m'\u001b[39m):\n\u001b[0;32m    273\u001b[0m         y\u001b[39m.\u001b[39m__setstate__(state)\n",
      "File \u001b[1;32mC:\\Program Files\\WindowsApps\\PythonSoftwareFoundation.Python.3.10_3.10.1776.0_x64__qbz5n2kfra8p0\\lib\\copy.py:146\u001b[0m, in \u001b[0;36mdeepcopy\u001b[1;34m(x, memo, _nil)\u001b[0m\n\u001b[0;32m    144\u001b[0m copier \u001b[39m=\u001b[39m _deepcopy_dispatch\u001b[39m.\u001b[39mget(\u001b[39mcls\u001b[39m)\n\u001b[0;32m    145\u001b[0m \u001b[39mif\u001b[39;00m copier \u001b[39mis\u001b[39;00m \u001b[39mnot\u001b[39;00m \u001b[39mNone\u001b[39;00m:\n\u001b[1;32m--> 146\u001b[0m     y \u001b[39m=\u001b[39m copier(x, memo)\n\u001b[0;32m    147\u001b[0m \u001b[39melse\u001b[39;00m:\n\u001b[0;32m    148\u001b[0m     \u001b[39mif\u001b[39;00m \u001b[39missubclass\u001b[39m(\u001b[39mcls\u001b[39m, \u001b[39mtype\u001b[39m):\n",
      "File \u001b[1;32mC:\\Program Files\\WindowsApps\\PythonSoftwareFoundation.Python.3.10_3.10.1776.0_x64__qbz5n2kfra8p0\\lib\\copy.py:231\u001b[0m, in \u001b[0;36m_deepcopy_dict\u001b[1;34m(x, memo, deepcopy)\u001b[0m\n\u001b[0;32m    229\u001b[0m memo[\u001b[39mid\u001b[39m(x)] \u001b[39m=\u001b[39m y\n\u001b[0;32m    230\u001b[0m \u001b[39mfor\u001b[39;00m key, value \u001b[39min\u001b[39;00m x\u001b[39m.\u001b[39mitems():\n\u001b[1;32m--> 231\u001b[0m     y[deepcopy(key, memo)] \u001b[39m=\u001b[39m deepcopy(value, memo)\n\u001b[0;32m    232\u001b[0m \u001b[39mreturn\u001b[39;00m y\n",
      "File \u001b[1;32mC:\\Program Files\\WindowsApps\\PythonSoftwareFoundation.Python.3.10_3.10.1776.0_x64__qbz5n2kfra8p0\\lib\\copy.py:139\u001b[0m, in \u001b[0;36mdeepcopy\u001b[1;34m(x, memo, _nil)\u001b[0m\n\u001b[0;32m    137\u001b[0m d \u001b[39m=\u001b[39m \u001b[39mid\u001b[39m(x)\n\u001b[0;32m    138\u001b[0m y \u001b[39m=\u001b[39m memo\u001b[39m.\u001b[39mget(d, _nil)\n\u001b[1;32m--> 139\u001b[0m \u001b[39mif\u001b[39;00m y \u001b[39mis\u001b[39;49;00m \u001b[39mnot\u001b[39;49;00m _nil:\n\u001b[0;32m    140\u001b[0m     \u001b[39mreturn\u001b[39;00m y\n\u001b[0;32m    142\u001b[0m \u001b[39mcls\u001b[39m \u001b[39m=\u001b[39m \u001b[39mtype\u001b[39m(x)\n",
      "\u001b[1;31mKeyboardInterrupt\u001b[0m: "
     ]
    }
   ],
   "source": [
    "agents = (MinMax('O'), Human('X'))\n",
    "game = Game(agents)\n",
    "game.play()"
   ]
  },
  {
   "cell_type": "markdown",
   "id": "6377f998-91ca-4641-8307-e64c8be93491",
   "metadata": {
    "pycharm": {
     "name": "#%% md\n"
    }
   },
   "source": [
    "## Exercise 1: Human Agent\n",
    "Make a child class of `Agent` called `Human`, with the `give_action` method overwritten to take input from you. *hint*: use `int(input())`"
   ]
  },
  {
   "cell_type": "code",
   "execution_count": null,
   "id": "d2649620-9f2f-4f6a-8e57-9f216a3c3b62",
   "metadata": {
    "pycharm": {
     "name": "#%%\n"
    }
   },
   "outputs": [],
   "source": [
    "class Human:\n",
    "    def __init__(self, name):\n",
    "        self.name = name\n",
    "\n",
    "\n",
    "    def get_action(self, state: State):\n",
    "        given_input = int(input())\n",
    "        if (given_input in state.get_avail_actions()):\n",
    "            return given_input \n",
    "        else:\n",
    "            print ('Pick a valid input')\n",
    "        \n"
   ]
  },
  {
   "cell_type": "markdown",
   "id": "b89fa6b2-e265-4cf0-8017-8369d4a15fef",
   "metadata": {
    "pycharm": {
     "name": "#%% md\n"
    }
   },
   "source": [
    "## Exercise 2: Gekko\n",
    "Make a child class of `Agent` called `Gekko`, with a `get_action` that is very short sighted (greedy). You can basically do whatever you want here, as long as your output a valid action. You might want to make a `utility` function for the agent, and perhaps some helper functions. Write a two line comment explaining your Gekko's heuristic."
   ]
  },
  {
   "cell_type": "code",
   "execution_count": null,
   "id": "8b999e09-dde6-41db-8222-a7d63803d632",
   "metadata": {
    "pycharm": {
     "name": "#%%\n"
    }
   },
   "outputs": [],
   "source": [
    "# Gekko works by counting the amount of already placed \"O\"'s and, if it is valid to continue that string towards four \"O\"s in a an either vertical or horizontal row, it will do so.\n",
    "# It never considers blocking the opponent, or diagnals because I found them to be buggy and ignoring them gave better \"greedy\" results.\n",
    "\n",
    "class Gekko:\n",
    "    def __init__(self, name):\n",
    "        self.name = name\n",
    "\n",
    "    def determine_col_o_count(self, string):\n",
    "        no_dots = string.replace(\".\", \"\")\n",
    "        no_x_list = no_dots.split(\"X\", 1)\n",
    "        no_x_string = no_x_list[0]\n",
    "        return len(no_x_string)\n",
    "\n",
    "    def determine_row_o_count_and_moves(self, string):\n",
    "        o_temp_counter = 0\n",
    "        temp_iterator = 0\n",
    "        valid_option_placements = []\n",
    "        for char in string:\n",
    "            if char == \"X\":\n",
    "                if temp_iterator < 3:\n",
    "                    o_temp_counter = 0\n",
    "                    valid_option_placements.clear()\n",
    "                if temp_iterator > 3:\n",
    "                    break\n",
    "            # Not optimal in terms of finding the best move...\n",
    "            if char == \"O\" and o_temp_counter < 3:\n",
    "                o_temp_counter = o_temp_counter + 1\n",
    "            if char == \".\":\n",
    "                valid_option_placements.append(temp_iterator)\n",
    "            temp_iterator = temp_iterator + 1\n",
    "        if (len(valid_option_placements) + o_temp_counter) > 3:\n",
    "            valid_option_placements.append(o_temp_counter)\n",
    "            return valid_option_placements\n",
    "        else:\n",
    "            valid_option_placements.clear()\n",
    "            return valid_option_placements\n",
    "\n",
    "    def get_action(self, state: State):\n",
    "        # Board stuff\n",
    "        board = state.board\n",
    "        col_height_list = state.heights\n",
    "        n_cols = len(board[0]) - 1\n",
    "        n_rows = len(board) - 1\n",
    "\n",
    "        def diags_pos():\n",
    "            \"\"\"Get positive diagonals, going from bottom-left to top-right.\"\"\"\n",
    "            for di in ([(j, i - j) for j in range(n_cols)] for i in range(n_cols + n_rows - 1)):\n",
    "                yield [board[i][j] for i, j in di if i >= 0 and j >= 0 and i < n_cols and j < n_rows]\n",
    "\n",
    "        def diags_neg():\n",
    "            \"\"\"Get negative diagonals, going from top-left to bottom-right.\"\"\"\n",
    "            for di in ([(j, i - n_cols + j + 1) for j in range(n_cols)] for i in range(n_cols + n_rows - 1)):\n",
    "                yield [board[i][j] for i, j in di if i >= 0 and j >= 0 and i < n_cols and j < n_rows]\n",
    "\n",
    "        cols = list(map(list, list(zip(*board))))\n",
    "        rows = board\n",
    "        diags = list(diags_neg()) + list(diags_pos())\n",
    "        lines = rows + cols + diags\n",
    "        strings = [\"\".join(s) for s in lines]\n",
    "\n",
    "        # New attempt at columns\n",
    "        col_strings = [\"\".join(s) for s in cols]\n",
    "        col_iterator = 0\n",
    "\n",
    "        best_col_o_count = 0\n",
    "        best_col_option = -1\n",
    "\n",
    "        for col_height in col_height_list:\n",
    "            # This is a valid column to pursue\n",
    "            if col_strings[col_iterator][3] != \"X\" and col_strings[col_iterator][2] != \"X\" and col_strings[col_iterator][1] != \"X\" and col_strings[col_iterator][0] != \"X\" and col_height < 7:\n",
    "                col_str = col_strings[col_iterator]\n",
    "                o_count = self.determine_col_o_count(col_str)\n",
    "                if o_count > best_col_o_count:\n",
    "                    best_col_o_count = o_count\n",
    "                    best_col_option = col_iterator\n",
    "            # This is NOT a valid column to pursue\n",
    "            else:\n",
    "                if col_iterator == best_col_option:\n",
    "                    best_col_option = -1\n",
    "            col_iterator = col_iterator + 1\n",
    "\n",
    "        # New attempt at rows\n",
    "        row_strings = [\"\".join(s) for s in rows]\n",
    "        row_strings.reverse()\n",
    "        row_iterator = 0\n",
    "\n",
    "        best_row_o_count = 0\n",
    "        best_row_option = -1\n",
    "\n",
    "        for row_str in row_strings:\n",
    "            # This is a valid row to pursue\n",
    "            if row_str[3] != \"X\":\n",
    "                moves = self.determine_row_o_count_and_moves(row_str)\n",
    "                if len(moves) > 1:\n",
    "                    temp_o_count = moves[len(moves) - 1]\n",
    "                    if temp_o_count > best_row_o_count:\n",
    "                        best_row_o_count = temp_o_count\n",
    "                        best_row_option = moves[0]\n",
    "\n",
    "        # Due to diagnals being read wrong, I found it was best to ignore them...\n",
    "        if best_col_o_count > best_row_o_count:\n",
    "            if best_col_option != -1:\n",
    "                return best_col_option\n",
    "            else:\n",
    "                return random.choice(state.get_avail_actions())\n",
    "        else:\n",
    "            if best_row_option != -1:\n",
    "                return best_row_option\n",
    "            else:\n",
    "                return random.choice(state.get_avail_actions())\n"
   ]
  },
  {
   "cell_type": "markdown",
   "id": "520742dd",
   "metadata": {
    "collapsed": false,
    "pycharm": {
     "name": "#%% md\n"
    }
   },
   "source": [
    "## *Optional exercise: MinMax*\n",
    "Make a MinMax class:"
   ]
  },
  {
   "cell_type": "code",
   "execution_count": 65,
   "id": "a48b338a",
   "metadata": {
    "collapsed": false,
    "pycharm": {
     "name": "#%%\n"
    }
   },
   "outputs": [],
   "source": [
    "class MinMax:\n",
    "  def __init__(self, name):\n",
    "      self.name = name\n",
    "\n",
    "  def get_action(self, state: State):\n",
    "    best_option = -1\n",
    "    currently_mazimizing = True\n",
    "    best_score = -10\n",
    "    for action in state.get_avail_actions():\n",
    "      list_test = state.get_avail_actions()\n",
    "      print(list_test[0])\n",
    "      state_copy = deepcopy(state)\n",
    "      state_copy.put_action(action, self)\n",
    "      temp_score = self.minimax(state, not currently_mazimizing)\n",
    "      if temp_score > best_score:\n",
    "        best_option = action\n",
    "        best_score = temp_score\n",
    "    return best_option\n",
    "\n",
    "  def minimax(self, state: State, maximizing):\n",
    "    # Determine if we are done\n",
    "    if state.is_over() and maximizing:\n",
    "      return 1\n",
    "    elif state.is_over() and not maximizing:\n",
    "      return -1\n",
    "    elif maximizing:\n",
    "      temp_best_score = -10\n",
    "      for action in state.get_avail_actions():\n",
    "        state_copy = deepcopy(state)\n",
    "        state_copy.put_action(action, self)\n",
    "        score = self.minimax(state_copy, not maximizing)\n",
    "        if score > temp_best_score:\n",
    "          temp_best_score = score\n",
    "      return temp_best_score\n",
    "    elif not maximizing:\n",
    "      temp_best_score = 10\n",
    "      for action in state.get_avail_actions():\n",
    "        state_copy = deepcopy(state)\n",
    "        state_copy.put_action(action, self)\n",
    "        score = self.minimax(state_copy, maximizing)\n",
    "        if score > temp_best_score:\n",
    "          temp_best_score = score\n",
    "      return score\n",
    "    else:\n",
    "      return 0\n"
   ]
  },
  {
   "cell_type": "code",
   "execution_count": 62,
   "id": "636e5a8f",
   "metadata": {},
   "outputs": [],
   "source": [
    "class MinMaxAB:\n",
    "  def __init__(self, name):\n",
    "      self.name = name\n",
    "\n",
    "  def get_action(self, state: State):\n",
    "    best_option = -1\n",
    "    currently_mazimizing = True\n",
    "    best_score = -10\n",
    "    for action in state.get_avail_actions():\n",
    "      list_test = state.get_avail_actions()\n",
    "      print(list_test[0])\n",
    "      state_copy = deepcopy(state)\n",
    "      state_copy.put_action(action, self)\n",
    "      alpha = -10\n",
    "      beta = 10\n",
    "      temp_score = self.minimax(state, not currently_mazimizing, alpha, beta)\n",
    "      if temp_score > best_score:\n",
    "        best_option = action\n",
    "        best_score = temp_score\n",
    "    return best_option\n",
    "\n",
    "  def minimax(self, state: State, maximizing, alpha, beta):\n",
    "    # Determine if we are done\n",
    "    if state.is_over() and maximizing:\n",
    "      return 1\n",
    "    elif state.is_over() and not maximizing:\n",
    "      return -1\n",
    "    elif maximizing:\n",
    "      temp_best_score = -10\n",
    "      for action in state.get_avail_actions():\n",
    "        state_copy = deepcopy(state)\n",
    "        state_copy.put_action(action, self)\n",
    "        score = self.minimax(state_copy, not maximizing, alpha, beta)\n",
    "        if score < beta:\n",
    "            if score > temp_best_score:\n",
    "                temp_best_score = score\n",
    "        else:\n",
    "            break\n",
    "      return temp_best_score\n",
    "    elif not maximizing:\n",
    "      temp_best_score = 10\n",
    "      for action in state.get_avail_actions():\n",
    "        state_copy = deepcopy(state)\n",
    "        state_copy.put_action(action, self)\n",
    "        score = self.minimax(state_copy, maximizing, alpha, beta)\n",
    "        if score > alpha:\n",
    "            if score < temp_best_score:\n",
    "                temp_best_score = score\n",
    "        else:\n",
    "            break\n",
    "      return score\n",
    "    else:\n",
    "      return 0\n"
   ]
  },
  {
   "cell_type": "markdown",
   "id": "f5bb1506-bff6-46b6-a05b-3c26a7e3ad26",
   "metadata": {
    "pycharm": {
     "name": "#%% md\n"
    }
   },
   "source": [
    "## Exercise 4: MCTS\n",
    "Same but for Monte Carlo Tree Search. See if you can beat it."
   ]
  },
  {
   "cell_type": "code",
   "execution_count": null,
   "id": "72d35f78",
   "metadata": {
    "collapsed": false,
    "pycharm": {
     "name": "#%%\n"
    }
   },
   "outputs": [],
   "source": [
    "class Node:\n",
    "    def __init__(self, state: State, parent: 'Node' = None):\n",
    "        self.children: List['Nodes'] = []\n",
    "        self.parent: 'Node' = parent\n",
    "        self.state: State = state"
   ]
  },
  {
   "cell_type": "code",
   "execution_count": null,
   "id": "49ace487-bcc3-43df-ae5b-424f17cb4874",
   "metadata": {
    "pycharm": {
     "name": "#%%\n"
    }
   },
   "outputs": [],
   "source": [
    "class MCTS:\n",
    "  def __init__(self, name):\n",
    "      self.name = name\n",
    "\n",
    "  def tree_policy():\n",
    "\n",
    "  def default_policy():\n",
    "\n",
    "  \n",
    "\n",
    "  def get_action(self, state: State):\n",
    "    \n",
    "    \n",
    "\n",
    "# class MCTS(Agent):\n",
    "#    def __init__(self):\n",
    "#        super(MCTS, self).__init__()"
   ]
  },
  {
   "cell_type": "markdown",
   "id": "e0037a71-a406-4c89-bf88-4b22eb53a135",
   "metadata": {
    "pycharm": {
     "name": "#%% md\n"
    }
   },
   "source": [
    "## *Optional exercise: Dynamic Programming*\n",
    "Then use dynamic programming to make your AI more efficient. You can use the class below (or not)"
   ]
  },
  {
   "cell_type": "code",
   "execution_count": null,
   "id": "93066bde",
   "metadata": {
    "collapsed": false,
    "pycharm": {
     "name": "#%%\n"
    }
   },
   "outputs": [],
   "source": [
    "class TranspositionTable:\n",
    "    def __init__(self, size=1_000_000):\n",
    "        self.size = size\n",
    "        self.vals = [None] * size\n",
    "\n",
    "    def board_str(self, state: State):\n",
    "        return ''.join([''.join(c) for c in state.board])\n",
    "\n",
    "    def put(self, state: State, utility: float):\n",
    "        bstr = self.board_str(state)\n",
    "        idx = hash(bstr) % self.size\n",
    "        self.vals[idx] = (bstr, utility)\n",
    "\n",
    "    def get(self, state: State):\n",
    "        bstr = self.board_str(state)\n",
    "        idx = hash(bstr) % self.size\n",
    "        stored = self.vals[idx]\n",
    "        if stored is None:\n",
    "            return None\n",
    "        if stored[0] == bstr:\n",
    "            return stored[1]\n",
    "        else:\n",
    "            return None"
   ]
  },
  {
   "cell_type": "code",
   "execution_count": null,
   "id": "6043a58a",
   "metadata": {
    "collapsed": false,
    "pycharm": {
     "name": "#%%\n"
    }
   },
   "outputs": [],
   "source": []
  }
 ],
 "metadata": {
  "kernelspec": {
   "display_name": "Python 3.10.6 64-bit (windows store)",
   "language": "python",
   "name": "python3"
  },
  "language_info": {
   "codemirror_mode": {
    "name": "ipython",
    "version": 3
   },
   "file_extension": ".py",
   "mimetype": "text/x-python",
   "name": "python",
   "nbconvert_exporter": "python",
   "pygments_lexer": "ipython3",
   "version": "3.10.6"
  },
  "vscode": {
   "interpreter": {
    "hash": "ca90a0b97817074c741e4139491e51fe8c81a6af5348c47037bc5072db26432e"
   }
  }
 },
 "nbformat": 4,
 "nbformat_minor": 5
}
